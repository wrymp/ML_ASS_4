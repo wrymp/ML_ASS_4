{
  "nbformat": 4,
  "nbformat_minor": 0,
  "metadata": {
    "colab": {
      "provenance": [],
      "gpuType": "T4",
      "include_colab_link": true
    },
    "kernelspec": {
      "name": "python3",
      "display_name": "Python 3"
    },
    "language_info": {
      "name": "python"
    },
    "accelerator": "GPU"
  },
  "cells": [
    {
      "cell_type": "markdown",
      "metadata": {
        "id": "view-in-github",
        "colab_type": "text"
      },
      "source": [
        "<a href=\"https://colab.research.google.com/github/wrymp/ML_ASS_4/blob/main/Animal_Faces_Pytorch.ipynb\" target=\"_parent\"><img src=\"https://colab.research.google.com/assets/colab-badge.svg\" alt=\"Open In Colab\"/></a>"
      ]
    },
    {
      "cell_type": "markdown",
      "source": [
        "# 1. Initializations and Dataset Download"
      ],
      "metadata": {
        "id": "ZnBAKL6Hu7iH"
      }
    },
    {
      "cell_type": "code",
      "execution_count": 314,
      "metadata": {
        "colab": {
          "base_uri": "https://localhost:8080/"
        },
        "id": "GUbCgH6wP3zg",
        "outputId": "6fc715a4-5317-48b1-fc0f-07d38323d5e3"
      },
      "outputs": [
        {
          "output_type": "stream",
          "name": "stdout",
          "text": [
            "Drive already mounted at /content/drive; to attempt to forcibly remount, call drive.mount(\"/content/drive\", force_remount=True).\n"
          ]
        }
      ],
      "source": [
        "!pip install kaggle wandb onnx -Uq\n",
        "from google.colab import drive\n",
        "drive.mount('/content/drive')"
      ]
    },
    {
      "cell_type": "code",
      "source": [
        "! mkdir ~/.kaggle"
      ],
      "metadata": {
        "id": "wnPMUh6hOCaz",
        "colab": {
          "base_uri": "https://localhost:8080/"
        },
        "outputId": "97356700-4548-408c-f14f-16d3d585dc34"
      },
      "execution_count": 315,
      "outputs": [
        {
          "output_type": "stream",
          "name": "stdout",
          "text": [
            "mkdir: cannot create directory ‘/root/.kaggle’: File exists\n"
          ]
        }
      ]
    },
    {
      "cell_type": "code",
      "source": [
        "!cp /content/drive/MyDrive/Kaggle_credentials/kaggle.json ~/.kaggle/kaggle.json"
      ],
      "metadata": {
        "id": "hCNJs5UsOM3r"
      },
      "execution_count": 316,
      "outputs": []
    },
    {
      "cell_type": "code",
      "source": [
        "! chmod 600 ~/.kaggle/kaggle.json"
      ],
      "metadata": {
        "id": "QFKogz1YOQBD"
      },
      "execution_count": 317,
      "outputs": []
    },
    {
      "cell_type": "code",
      "source": [
        "# ! kaggle competitions download -c challenges-in-representation-learning-facial-expression-recognition-challenge"
      ],
      "metadata": {
        "id": "7U_DODi_OUh9"
      },
      "execution_count": 318,
      "outputs": []
    },
    {
      "cell_type": "code",
      "source": [
        "# ! unzip /content/challenges-in-representation-learning-facial-expression-recognition-challenge.zip"
      ],
      "metadata": {
        "collapsed": true,
        "id": "kujjp6nDOibU"
      },
      "execution_count": 319,
      "outputs": []
    },
    {
      "cell_type": "markdown",
      "source": [
        "# 1,5. Adding WAND"
      ],
      "metadata": {
        "id": "T2G-wjumhix9"
      }
    },
    {
      "cell_type": "code",
      "source": [
        "!pip install wandb -qU"
      ],
      "metadata": {
        "id": "O6RFcgaDhoMZ"
      },
      "execution_count": 320,
      "outputs": []
    },
    {
      "cell_type": "code",
      "source": [
        "import wandb\n",
        "import random\n",
        "import math"
      ],
      "metadata": {
        "id": "0_B-KfJshqM7"
      },
      "execution_count": 321,
      "outputs": []
    },
    {
      "cell_type": "code",
      "source": [
        "wandb.login()"
      ],
      "metadata": {
        "colab": {
          "base_uri": "https://localhost:8080/"
        },
        "id": "8aJnYnuHhqtW",
        "outputId": "9828f513-c0b3-43ed-f77e-beb324ad09b9"
      },
      "execution_count": 322,
      "outputs": [
        {
          "output_type": "execute_result",
          "data": {
            "text/plain": [
              "True"
            ]
          },
          "metadata": {},
          "execution_count": 322
        }
      ]
    },
    {
      "cell_type": "markdown",
      "source": [
        "# 2. Imports\n",
        "Lets start by getting all our imports, keep in mind that PyTorch is not automatically detects and trains on GPU, you have to tell it to use cuda. In case you want to train on Mac Silicon replace cuda with mps."
      ],
      "metadata": {
        "id": "FuLzo_VyvD3m"
      }
    },
    {
      "cell_type": "code",
      "source": [
        "import torch # Main PyTorch Library\n",
        "from torch import nn # Used for creating the layers and loss function\n",
        "from torch.optim import Adam # Adam Optimizer\n",
        "import torchvision.transforms as transforms # Transform function used to modify and preprocess all the images\n",
        "from torch.utils.data import Dataset, DataLoader # Dataset class and DataLoader for creating the objects\n",
        "from sklearn.preprocessing import LabelEncoder # Label Encoder to encode the classes from strings to numbers\n",
        "import matplotlib.pyplot as plt # Used for visualizing the images and plotting the training progress\n",
        "from PIL import Image # Used to read the images from the directory\n",
        "import pandas as pd # Used to read/create dataframes (csv) and process tabular data\n",
        "import numpy as np # preprocessing and numerical/mathematical operations\n",
        "import os # Used to read the images path from the directory\n",
        "import torch.nn.functional as F\n",
        "from torch.optim.lr_scheduler import StepLR, ReduceLROnPlateau\n",
        "\n",
        "\n",
        "device = \"cuda\" if torch.cuda.is_available() else \"cpu\" # detect the GPU if any, if not use CPU, change cuda to mps if you have a mac\n",
        "print(\"Device available: \", device)"
      ],
      "metadata": {
        "id": "4EeRTo8eQCOb",
        "colab": {
          "base_uri": "https://localhost:8080/"
        },
        "outputId": "44774430-c1ec-476a-9f4f-635056bb8c15"
      },
      "execution_count": 323,
      "outputs": [
        {
          "output_type": "stream",
          "name": "stdout",
          "text": [
            "Device available:  cuda\n"
          ]
        }
      ]
    },
    {
      "cell_type": "markdown",
      "source": [
        "# 3. Reading Data Paths"
      ],
      "metadata": {
        "id": "xrquwzbqUTDY"
      }
    },
    {
      "cell_type": "markdown",
      "source": [
        "The following code will be going through a nested directory structure where images are stored within subdirectories, each directory is representing a specific label (category). It constructs a list of the file paths for these images and their corresponding labels. Then, it creates a pandas DataFrame containing this information, which is useful for further data processing. Keep in mind that we will read all the data and then we will split it again to train, validation and testing."
      ],
      "metadata": {
        "id": "Rk_Ga_5zb0AB"
      }
    },
    {
      "cell_type": "code",
      "source": [
        "data_df = pd.read_csv(\"/content/train.csv\")\n",
        "data_df.head()"
      ],
      "metadata": {
        "colab": {
          "base_uri": "https://localhost:8080/",
          "height": 206
        },
        "id": "3FbP4F6aTo4G",
        "outputId": "7c8c6fb2-322a-4b63-8c83-88fe9c05c421"
      },
      "execution_count": 324,
      "outputs": [
        {
          "output_type": "execute_result",
          "data": {
            "text/plain": [
              "   emotion                                             pixels\n",
              "0        0  70 80 82 72 58 58 60 63 54 58 60 48 89 115 121...\n",
              "1        0  151 150 147 155 148 133 111 140 170 174 182 15...\n",
              "2        2  231 212 156 164 174 138 161 173 182 200 106 38...\n",
              "3        4  24 32 36 30 32 23 19 20 30 41 21 22 32 34 21 1...\n",
              "4        6  4 0 0 0 0 0 0 0 0 0 0 0 3 15 23 28 48 50 58 84..."
            ],
            "text/html": [
              "\n",
              "  <div id=\"df-224c5567-7f6c-48d4-9d0e-b67a712162d0\" class=\"colab-df-container\">\n",
              "    <div>\n",
              "<style scoped>\n",
              "    .dataframe tbody tr th:only-of-type {\n",
              "        vertical-align: middle;\n",
              "    }\n",
              "\n",
              "    .dataframe tbody tr th {\n",
              "        vertical-align: top;\n",
              "    }\n",
              "\n",
              "    .dataframe thead th {\n",
              "        text-align: right;\n",
              "    }\n",
              "</style>\n",
              "<table border=\"1\" class=\"dataframe\">\n",
              "  <thead>\n",
              "    <tr style=\"text-align: right;\">\n",
              "      <th></th>\n",
              "      <th>emotion</th>\n",
              "      <th>pixels</th>\n",
              "    </tr>\n",
              "  </thead>\n",
              "  <tbody>\n",
              "    <tr>\n",
              "      <th>0</th>\n",
              "      <td>0</td>\n",
              "      <td>70 80 82 72 58 58 60 63 54 58 60 48 89 115 121...</td>\n",
              "    </tr>\n",
              "    <tr>\n",
              "      <th>1</th>\n",
              "      <td>0</td>\n",
              "      <td>151 150 147 155 148 133 111 140 170 174 182 15...</td>\n",
              "    </tr>\n",
              "    <tr>\n",
              "      <th>2</th>\n",
              "      <td>2</td>\n",
              "      <td>231 212 156 164 174 138 161 173 182 200 106 38...</td>\n",
              "    </tr>\n",
              "    <tr>\n",
              "      <th>3</th>\n",
              "      <td>4</td>\n",
              "      <td>24 32 36 30 32 23 19 20 30 41 21 22 32 34 21 1...</td>\n",
              "    </tr>\n",
              "    <tr>\n",
              "      <th>4</th>\n",
              "      <td>6</td>\n",
              "      <td>4 0 0 0 0 0 0 0 0 0 0 0 3 15 23 28 48 50 58 84...</td>\n",
              "    </tr>\n",
              "  </tbody>\n",
              "</table>\n",
              "</div>\n",
              "    <div class=\"colab-df-buttons\">\n",
              "\n",
              "  <div class=\"colab-df-container\">\n",
              "    <button class=\"colab-df-convert\" onclick=\"convertToInteractive('df-224c5567-7f6c-48d4-9d0e-b67a712162d0')\"\n",
              "            title=\"Convert this dataframe to an interactive table.\"\n",
              "            style=\"display:none;\">\n",
              "\n",
              "  <svg xmlns=\"http://www.w3.org/2000/svg\" height=\"24px\" viewBox=\"0 -960 960 960\">\n",
              "    <path d=\"M120-120v-720h720v720H120Zm60-500h600v-160H180v160Zm220 220h160v-160H400v160Zm0 220h160v-160H400v160ZM180-400h160v-160H180v160Zm440 0h160v-160H620v160ZM180-180h160v-160H180v160Zm440 0h160v-160H620v160Z\"/>\n",
              "  </svg>\n",
              "    </button>\n",
              "\n",
              "  <style>\n",
              "    .colab-df-container {\n",
              "      display:flex;\n",
              "      gap: 12px;\n",
              "    }\n",
              "\n",
              "    .colab-df-convert {\n",
              "      background-color: #E8F0FE;\n",
              "      border: none;\n",
              "      border-radius: 50%;\n",
              "      cursor: pointer;\n",
              "      display: none;\n",
              "      fill: #1967D2;\n",
              "      height: 32px;\n",
              "      padding: 0 0 0 0;\n",
              "      width: 32px;\n",
              "    }\n",
              "\n",
              "    .colab-df-convert:hover {\n",
              "      background-color: #E2EBFA;\n",
              "      box-shadow: 0px 1px 2px rgba(60, 64, 67, 0.3), 0px 1px 3px 1px rgba(60, 64, 67, 0.15);\n",
              "      fill: #174EA6;\n",
              "    }\n",
              "\n",
              "    .colab-df-buttons div {\n",
              "      margin-bottom: 4px;\n",
              "    }\n",
              "\n",
              "    [theme=dark] .colab-df-convert {\n",
              "      background-color: #3B4455;\n",
              "      fill: #D2E3FC;\n",
              "    }\n",
              "\n",
              "    [theme=dark] .colab-df-convert:hover {\n",
              "      background-color: #434B5C;\n",
              "      box-shadow: 0px 1px 3px 1px rgba(0, 0, 0, 0.15);\n",
              "      filter: drop-shadow(0px 1px 2px rgba(0, 0, 0, 0.3));\n",
              "      fill: #FFFFFF;\n",
              "    }\n",
              "  </style>\n",
              "\n",
              "    <script>\n",
              "      const buttonEl =\n",
              "        document.querySelector('#df-224c5567-7f6c-48d4-9d0e-b67a712162d0 button.colab-df-convert');\n",
              "      buttonEl.style.display =\n",
              "        google.colab.kernel.accessAllowed ? 'block' : 'none';\n",
              "\n",
              "      async function convertToInteractive(key) {\n",
              "        const element = document.querySelector('#df-224c5567-7f6c-48d4-9d0e-b67a712162d0');\n",
              "        const dataTable =\n",
              "          await google.colab.kernel.invokeFunction('convertToInteractive',\n",
              "                                                    [key], {});\n",
              "        if (!dataTable) return;\n",
              "\n",
              "        const docLinkHtml = 'Like what you see? Visit the ' +\n",
              "          '<a target=\"_blank\" href=https://colab.research.google.com/notebooks/data_table.ipynb>data table notebook</a>'\n",
              "          + ' to learn more about interactive tables.';\n",
              "        element.innerHTML = '';\n",
              "        dataTable['output_type'] = 'display_data';\n",
              "        await google.colab.output.renderOutput(dataTable, element);\n",
              "        const docLink = document.createElement('div');\n",
              "        docLink.innerHTML = docLinkHtml;\n",
              "        element.appendChild(docLink);\n",
              "      }\n",
              "    </script>\n",
              "  </div>\n",
              "\n",
              "\n",
              "    <div id=\"df-221949f7-dc35-4e7f-8ff9-c63530392f8c\">\n",
              "      <button class=\"colab-df-quickchart\" onclick=\"quickchart('df-221949f7-dc35-4e7f-8ff9-c63530392f8c')\"\n",
              "                title=\"Suggest charts\"\n",
              "                style=\"display:none;\">\n",
              "\n",
              "<svg xmlns=\"http://www.w3.org/2000/svg\" height=\"24px\"viewBox=\"0 0 24 24\"\n",
              "     width=\"24px\">\n",
              "    <g>\n",
              "        <path d=\"M19 3H5c-1.1 0-2 .9-2 2v14c0 1.1.9 2 2 2h14c1.1 0 2-.9 2-2V5c0-1.1-.9-2-2-2zM9 17H7v-7h2v7zm4 0h-2V7h2v10zm4 0h-2v-4h2v4z\"/>\n",
              "    </g>\n",
              "</svg>\n",
              "      </button>\n",
              "\n",
              "<style>\n",
              "  .colab-df-quickchart {\n",
              "      --bg-color: #E8F0FE;\n",
              "      --fill-color: #1967D2;\n",
              "      --hover-bg-color: #E2EBFA;\n",
              "      --hover-fill-color: #174EA6;\n",
              "      --disabled-fill-color: #AAA;\n",
              "      --disabled-bg-color: #DDD;\n",
              "  }\n",
              "\n",
              "  [theme=dark] .colab-df-quickchart {\n",
              "      --bg-color: #3B4455;\n",
              "      --fill-color: #D2E3FC;\n",
              "      --hover-bg-color: #434B5C;\n",
              "      --hover-fill-color: #FFFFFF;\n",
              "      --disabled-bg-color: #3B4455;\n",
              "      --disabled-fill-color: #666;\n",
              "  }\n",
              "\n",
              "  .colab-df-quickchart {\n",
              "    background-color: var(--bg-color);\n",
              "    border: none;\n",
              "    border-radius: 50%;\n",
              "    cursor: pointer;\n",
              "    display: none;\n",
              "    fill: var(--fill-color);\n",
              "    height: 32px;\n",
              "    padding: 0;\n",
              "    width: 32px;\n",
              "  }\n",
              "\n",
              "  .colab-df-quickchart:hover {\n",
              "    background-color: var(--hover-bg-color);\n",
              "    box-shadow: 0 1px 2px rgba(60, 64, 67, 0.3), 0 1px 3px 1px rgba(60, 64, 67, 0.15);\n",
              "    fill: var(--button-hover-fill-color);\n",
              "  }\n",
              "\n",
              "  .colab-df-quickchart-complete:disabled,\n",
              "  .colab-df-quickchart-complete:disabled:hover {\n",
              "    background-color: var(--disabled-bg-color);\n",
              "    fill: var(--disabled-fill-color);\n",
              "    box-shadow: none;\n",
              "  }\n",
              "\n",
              "  .colab-df-spinner {\n",
              "    border: 2px solid var(--fill-color);\n",
              "    border-color: transparent;\n",
              "    border-bottom-color: var(--fill-color);\n",
              "    animation:\n",
              "      spin 1s steps(1) infinite;\n",
              "  }\n",
              "\n",
              "  @keyframes spin {\n",
              "    0% {\n",
              "      border-color: transparent;\n",
              "      border-bottom-color: var(--fill-color);\n",
              "      border-left-color: var(--fill-color);\n",
              "    }\n",
              "    20% {\n",
              "      border-color: transparent;\n",
              "      border-left-color: var(--fill-color);\n",
              "      border-top-color: var(--fill-color);\n",
              "    }\n",
              "    30% {\n",
              "      border-color: transparent;\n",
              "      border-left-color: var(--fill-color);\n",
              "      border-top-color: var(--fill-color);\n",
              "      border-right-color: var(--fill-color);\n",
              "    }\n",
              "    40% {\n",
              "      border-color: transparent;\n",
              "      border-right-color: var(--fill-color);\n",
              "      border-top-color: var(--fill-color);\n",
              "    }\n",
              "    60% {\n",
              "      border-color: transparent;\n",
              "      border-right-color: var(--fill-color);\n",
              "    }\n",
              "    80% {\n",
              "      border-color: transparent;\n",
              "      border-right-color: var(--fill-color);\n",
              "      border-bottom-color: var(--fill-color);\n",
              "    }\n",
              "    90% {\n",
              "      border-color: transparent;\n",
              "      border-bottom-color: var(--fill-color);\n",
              "    }\n",
              "  }\n",
              "</style>\n",
              "\n",
              "      <script>\n",
              "        async function quickchart(key) {\n",
              "          const quickchartButtonEl =\n",
              "            document.querySelector('#' + key + ' button');\n",
              "          quickchartButtonEl.disabled = true;  // To prevent multiple clicks.\n",
              "          quickchartButtonEl.classList.add('colab-df-spinner');\n",
              "          try {\n",
              "            const charts = await google.colab.kernel.invokeFunction(\n",
              "                'suggestCharts', [key], {});\n",
              "          } catch (error) {\n",
              "            console.error('Error during call to suggestCharts:', error);\n",
              "          }\n",
              "          quickchartButtonEl.classList.remove('colab-df-spinner');\n",
              "          quickchartButtonEl.classList.add('colab-df-quickchart-complete');\n",
              "        }\n",
              "        (() => {\n",
              "          let quickchartButtonEl =\n",
              "            document.querySelector('#df-221949f7-dc35-4e7f-8ff9-c63530392f8c button');\n",
              "          quickchartButtonEl.style.display =\n",
              "            google.colab.kernel.accessAllowed ? 'block' : 'none';\n",
              "        })();\n",
              "      </script>\n",
              "    </div>\n",
              "\n",
              "    </div>\n",
              "  </div>\n"
            ],
            "application/vnd.google.colaboratory.intrinsic+json": {
              "type": "dataframe",
              "variable_name": "data_df",
              "summary": "{\n  \"name\": \"data_df\",\n  \"rows\": 28709,\n  \"fields\": [\n    {\n      \"column\": \"emotion\",\n      \"properties\": {\n        \"dtype\": \"number\",\n        \"std\": 1,\n        \"min\": 0,\n        \"max\": 6,\n        \"num_unique_values\": 7,\n        \"samples\": [\n          0,\n          2,\n          5\n        ],\n        \"semantic_type\": \"\",\n        \"description\": \"\"\n      }\n    },\n    {\n      \"column\": \"pixels\",\n      \"properties\": {\n        \"dtype\": \"string\",\n        \"num_unique_values\": 27473,\n        \"samples\": [\n          \"165 165 164 140 83 23 18 19 14 17 10 20 32 28 24 40 62 75 78 85 53 41 60 70 77 96 102 112 103 127 156 165 177 163 168 142 130 119 70 95 105 64 39 41 54 51 33 28 164 163 157 138 72 21 18 15 13 12 15 21 41 41 37 59 79 86 92 93 57 40 63 80 104 122 106 107 110 138 164 183 179 173 172 141 131 127 85 52 67 72 64 60 50 56 42 28 167 157 163 133 36 19 13 12 13 11 15 25 50 51 58 80 97 105 96 92 62 40 69 110 131 133 109 98 119 151 179 188 181 173 164 145 133 127 95 55 55 67 67 67 54 61 52 37 167 157 164 109 20 17 14 14 14 13 18 23 44 59 80 98 110 104 84 90 80 61 97 136 143 142 109 98 128 157 180 183 178 171 159 144 144 130 97 66 55 61 80 65 57 61 57 42 162 162 155 68 12 15 14 15 13 13 20 22 46 65 96 113 101 91 88 95 96 98 125 150 151 144 108 107 141 168 182 184 179 176 160 141 141 132 108 83 58 54 77 65 47 52 56 44 157 168 144 41 11 12 15 16 11 13 14 29 61 69 112 116 91 98 109 114 121 127 144 160 163 156 116 112 147 179 183 186 176 171 164 148 146 137 114 98 67 54 68 57 37 34 41 52 164 171 105 14 15 11 18 18 13 16 16 41 64 81 128 101 101 115 116 126 145 149 157 166 169 168 135 122 148 177 179 187 177 167 164 155 147 138 123 109 77 51 51 47 38 20 22 56 159 173 70 8 13 10 22 23 13 14 19 58 65 119 125 115 129 121 129 141 150 159 164 168 180 178 156 145 158 174 176 180 179 168 161 160 150 142 131 117 86 47 46 37 34 19 17 57 160 161 51 12 10 16 30 26 14 11 43 71 108 130 116 132 133 130 136 151 156 162 171 175 182 186 181 174 174 181 169 180 183 168 161 160 152 143 134 123 91 47 43 37 37 26 20 33 161 141 43 4 11 21 40 21 14 21 59 93 110 95 104 116 122 133 142 156 162 168 175 180 186 191 189 185 185 188 177 173 174 168 160 156 154 150 136 128 104 52 22 40 49 39 30 18 172 121 30 14 10 21 31 24 9 41 83 86 81 85 86 78 91 108 127 145 164 172 173 182 195 199 194 188 187 187 191 179 172 171 162 153 151 151 141 128 110 60 22 16 36 47 33 17 151 52 34 18 14 22 23 15 25 82 103 96 105 104 98 93 81 85 98 113 150 171 170 179 191 194 196 192 192 199 194 183 176 168 161 159 153 148 147 135 119 67 24 14 18 27 30 26 47 20 21 12 17 20 23 11 71 111 112 107 120 128 127 135 125 98 95 102 126 153 162 167 175 186 189 187 191 197 193 188 182 170 161 159 158 156 156 149 134 71 23 17 15 18 24 21 27 20 15 14 17 19 15 43 106 120 109 111 119 133 139 142 148 139 128 117 110 128 146 157 166 177 179 175 172 172 178 182 178 171 155 137 139 143 146 156 149 87 25 18 13 15 27 32 49 35 13 14 16 18 19 90 126 120 106 117 104 89 85 101 130 142 141 133 126 128 145 154 161 171 173 164 156 150 147 144 137 136 125 104 96 101 111 124 141 109 31 15 16 13 18 28 23 17 12 14 19 10 51 115 128 127 100 75 50 57 88 37 62 102 124 137 129 132 144 153 161 170 169 159 149 140 132 122 120 108 93 92 95 98 103 104 117 105 48 22 14 13 15 19 14 14 16 14 11 20 86 120 131 139 113 93 89 108 126 26 51 55 50 127 132 126 137 151 167 174 168 158 145 140 141 140 136 132 133 138 137 128 118 118 110 95 63 33 15 14 18 30 57 28 10 16 12 46 104 121 140 145 144 120 123 136 125 97 62 35 78 103 128 126 133 144 163 174 169 156 149 146 148 148 146 153 166 159 148 146 139 130 126 115 76 43 22 13 11 19 52 17 14 19 19 69 115 124 141 149 155 145 127 128 142 148 158 137 126 86 129 126 129 149 170 175 162 154 141 137 132 118 109 102 112 128 139 137 133 131 124 116 98 64 34 14 15 16 18 9 21 25 33 86 110 126 142 144 153 156 144 136 137 135 132 133 133 120 144 126 129 153 174 174 154 142 121 123 100 95 24 70 76 43 75 115 129 122 123 118 107 88 66 41 14 16 26 13 15 33 45 94 108 127 141 149 155 161 161 151 151 153 142 141 140 145 141 126 135 158 174 165 147 127 140 109 90 127 43 38 38 54 74 55 94 123 121 122 114 101 90 67 21 18 24 11 22 35 58 96 112 128 137 150 160 165 167 163 164 168 164 163 156 154 136 130 145 164 171 157 139 137 156 117 122 133 119 99 96 123 125 79 72 95 112 121 123 114 102 85 36 15 23 16 22 41 74 94 113 127 138 153 158 162 168 172 172 170 171 166 154 144 138 137 153 170 169 154 142 144 156 150 149 137 140 149 151 136 133 125 117 108 114 130 132 123 106 96 55 15 31 21 17 42 80 92 113 130 144 156 160 171 177 173 169 167 167 154 146 145 140 143 157 168 168 155 151 151 159 162 157 156 143 135 132 136 135 129 138 144 138 139 139 128 107 99 67 15 28 19 18 38 82 91 112 132 145 157 162 173 175 171 169 165 157 151 143 144 140 144 164 170 165 155 158 154 159 172 167 165 170 166 159 156 152 150 149 150 146 143 139 129 111 97 70 23 23 16 13 29 83 91 107 130 144 156 162 167 167 167 165 159 153 145 139 139 136 146 167 168 158 151 158 156 160 176 180 174 173 176 174 169 162 159 160 156 149 145 137 125 109 92 65 28 18 15 14 30 90 91 103 125 139 149 153 155 155 153 149 140 130 122 124 130 134 150 164 159 155 151 154 157 159 172 179 174 172 174 173 172 169 167 163 157 151 147 137 124 102 90 55 22 18 16 13 29 89 91 99 122 132 139 140 139 135 131 132 129 126 130 130 132 143 159 165 152 148 143 143 155 167 175 179 179 175 172 171 171 172 168 161 154 149 146 135 122 96 86 55 31 17 18 21 50 101 92 93 111 122 130 128 126 121 121 127 121 117 141 140 130 150 179 185 162 147 136 133 140 161 178 182 182 182 178 176 176 174 167 156 150 143 141 129 113 90 77 62 53 14 29 78 110 104 107 91 97 112 120 118 118 130 143 140 118 94 122 136 124 137 158 175 158 145 141 141 134 142 158 174 183 182 182 180 178 174 166 155 150 139 132 126 105 83 68 67 90 26 74 134 104 102 120 114 108 112 117 119 127 140 147 146 138 95 57 66 85 109 121 133 135 141 146 148 142 127 130 145 167 177 179 179 176 168 161 152 147 135 128 119 96 78 55 101 113 53 122 104 64 112 126 132 125 125 129 135 134 132 135 137 135 129 126 101 73 74 84 85 90 114 136 141 125 128 142 123 138 163 169 169 163 159 155 147 141 129 121 111 91 68 75 131 97 128 123 39 54 110 126 137 136 134 138 135 129 124 128 134 134 139 143 148 156 134 103 97 87 66 76 94 115 145 148 130 116 135 152 155 151 150 148 138 131 119 111 103 84 61 109 119 127 119 58 10 62 110 125 136 144 139 140 140 135 127 119 126 137 142 142 153 174 174 155 161 177 149 134 134 151 161 158 159 133 111 132 144 141 140 139 130 121 111 103 97 76 72 99 108 125 56 19 23 53 104 128 135 145 138 144 148 111 75 57 68 79 93 100 120 155 166 167 166 161 158 153 157 153 155 154 155 149 123 106 122 136 129 130 123 113 100 106 102 72 79 108 124 100 31 19 19 48 100 126 138 144 130 140 144 105 44 49 47 53 62 62 67 92 131 154 161 159 146 158 149 146 138 140 151 141 129 116 110 117 119 118 103 96 107 118 100 79 114 128 132 67 23 23 13 30 86 122 141 148 133 140 140 135 102 105 128 123 127 98 95 94 92 88 86 88 102 121 135 144 145 142 138 135 130 128 116 111 114 109 106 113 128 126 97 89 123 100 67 20 19 15 16 8 66 116 134 147 137 137 135 136 108 103 152 187 169 150 178 197 163 162 109 96 73 59 71 83 102 120 126 128 136 132 127 126 124 122 125 133 134 130 81 30 36 70 23 7 22 12 22 13 47 104 128 143 137 138 139 137 102 93 103 160 179 181 215 223 198 223 177 196 134 126 85 60 55 55 44 117 151 136 139 140 138 140 138 136 135 122 47 3 7 74 34 28 33 15 20 20 23 82 116 135 133 141 141 136 107 75 86 100 116 138 190 206 212 213 200 212 183 198 165 159 139 103 95 130 142 146 150 149 143 139 142 142 137 95 19 4 20 58 23 28 44 12 13 15 13 58 103 127 132 134 138 137 120 84 72 86 99 104 121 131 141 144 146 144 151 137 129 116 104 119 141 145 146 149 152 150 141 145 148 141 128 56 5 7 25 49 25 9 68 51 33 26 20 32 88 117 130 131 133 132 126 108 87 74 86 98 125 136 129 164 144 100 89 83 76 84 112 137 145 146 151 144 147 143 142 151 147 135 95 18 11 10 35 93 42 16 94 84 63 46 27 19 60 105 124 127 131 126 124 119 112 108 94 86 105 125 122 136 119 88 84 88 95 118 138 152 152 148 142 143 146 145 146 146 138 114 46 6 17 10 28 76 23 21 100 90 80 62 34 15 30 88 117 120 126 126 124 118 116 125 124 116 102 94 98 93 102 107 115 115 122 133 143 147 149 142 138 145 139 143 147 137 121 74 8 13 17 25 64 56 28 9 64 65 65 50 31 25 13 53 100 117 125 127 129 125 122 124 127 135 133 130 130 131 130 126 126 124 134 141 144 140 143 139 139 136 136 141 135 116 87 38 7 12 14 19 73 77 26 8 52 19 23 38 35 18 12 20 71 108 123 131 134 127 135 136 143 144 144 142 138 135 130 129 127 128 136 138 139 139 139 138 133 136 136 131 114 84 59 21 9 12 14 10 23 25 9 14 103 55 29 23 21 17 12 9 33 83 113 124 131 133 140 139 145 156 164 160 155 150 142 136 133 133 138 138 136 138 137 132 132 130 125 109 78 61 56 12 6 11 14 12 9 7 13 12 98 44 21 21 16 16 15 13 13 50 98 119 126 136 141 148 155 161 166 164 159 156 149 142 140 140 140 138 136 135 134 129 130 123 105 74 55 66 53 6 10 10 12 11 8 12 12 9\",\n          \"95 91 40 4 7 7 7 7 6 6 7 18 23 7 4 5 9 18 33 41 47 54 58 61 63 66 68 74 80 84 83 80 77 66 56 44 32 23 21 15 11 6 7 6 5 5 6 15 99 73 14 5 7 6 5 5 5 6 7 22 20 4 6 7 12 26 41 46 51 57 61 62 65 68 72 81 88 91 91 91 93 90 80 67 47 27 21 16 11 9 8 6 5 4 5 21 91 39 7 7 6 6 4 5 5 6 8 25 21 5 8 9 17 33 44 48 53 56 61 65 67 73 78 85 93 97 100 98 99 101 99 91 68 40 24 17 14 11 8 6 5 4 5 20 67 27 7 7 6 5 4 5 6 6 11 28 24 6 9 11 23 39 47 52 54 58 62 66 68 73 80 91 98 103 106 105 103 104 100 95 77 53 31 22 12 8 7 6 5 5 6 18 50 25 3 7 6 6 6 4 4 6 11 28 29 7 11 16 30 44 49 53 55 59 63 67 71 76 84 94 102 108 109 108 108 108 105 100 77 57 38 22 15 7 8 7 4 4 8 19 51 19 4 5 6 6 6 6 5 6 11 28 33 11 13 17 34 47 49 53 56 58 64 68 73 79 86 94 105 109 108 107 110 112 110 99 82 61 42 26 14 7 7 7 6 4 7 15 55 12 6 7 7 6 6 6 4 6 7 25 34 12 14 19 38 48 50 52 54 65 65 71 76 80 87 96 104 109 108 107 110 111 111 104 86 69 46 30 17 9 7 7 6 5 8 11 44 8 7 7 6 5 5 5 4 3 5 20 34 13 13 18 38 47 50 53 55 69 68 72 77 82 88 94 102 103 99 106 109 109 109 108 100 87 59 35 20 13 9 7 6 6 7 12 30 9 6 6 5 5 5 4 5 4 4 17 34 14 13 18 36 45 48 55 62 65 67 72 78 82 89 94 97 97 96 104 107 107 106 111 108 103 91 63 34 17 10 9 9 9 7 9 28 5 4 5 4 4 5 4 5 4 4 14 33 14 13 19 36 46 49 55 59 64 68 72 76 79 84 92 96 96 99 103 106 104 107 113 111 111 112 102 68 33 11 7 8 10 8 8 16 5 4 5 4 4 5 6 6 5 4 13 32 13 13 20 37 47 49 53 58 64 67 69 75 78 81 87 94 96 100 103 102 102 104 109 111 109 111 113 99 68 24 6 4 5 6 7 7 5 5 4 4 5 5 6 6 5 5 12 31 13 14 23 37 47 50 53 56 61 65 69 73 77 80 86 90 94 96 97 94 98 106 112 110 108 112 112 109 95 55 12 6 7 7 7 5 5 4 4 5 5 7 7 6 8 7 14 25 12 15 26 39 46 47 52 55 60 63 64 68 74 79 82 86 85 80 70 61 57 68 87 97 102 107 109 110 104 89 34 6 7 7 6 5 5 4 4 4 5 6 6 5 10 7 15 23 13 16 28 39 44 46 48 54 58 60 61 63 63 58 54 46 38 32 36 54 74 89 102 102 102 108 111 113 108 103 61 12 6 6 6 5 5 5 5 5 4 5 6 6 10 5 16 18 12 17 27 36 41 43 46 52 57 58 57 54 41 29 25 19 23 45 63 79 89 103 107 111 114 116 120 119 112 108 82 22 6 7 7 5 6 6 5 5 4 7 8 8 10 7 20 9 6 9 15 26 36 40 44 52 57 56 58 54 41 40 39 40 47 46 51 61 68 78 93 98 102 111 122 122 118 113 98 36 5 7 6 7 7 4 4 5 4 11 10 13 11 12 21 7 6 7 8 11 23 33 40 50 60 66 69 74 63 47 38 28 22 19 20 22 44 66 65 72 88 106 120 125 123 115 108 56 6 8 8 6 6 5 4 5 4 11 10 18 11 20 17 9 9 9 11 12 15 21 31 43 62 78 87 79 45 32 22 13 10 9 4 8 25 38 40 52 78 99 118 128 127 119 112 76 12 4 5 7 6 5 5 5 5 13 13 18 15 22 9 5 5 6 5 6 9 12 22 36 62 89 105 84 38 21 20 20 30 23 5 7 55 74 50 76 101 103 117 130 125 118 111 91 24 2 6 6 5 5 4 4 10 14 18 17 22 18 6 5 4 5 5 6 6 7 14 31 60 94 116 101 60 31 25 21 34 40 25 17 48 81 91 112 116 111 121 131 124 115 110 96 38 12 11 5 5 5 4 4 12 15 20 20 27 11 7 8 6 5 5 13 12 12 17 30 53 90 119 105 78 56 40 27 27 29 35 45 62 89 101 109 111 116 126 129 122 113 108 97 49 45 23 5 5 6 4 8 16 19 19 26 25 8 6 7 7 9 10 18 16 21 21 28 51 82 108 108 94 71 47 36 31 33 42 56 73 84 97 106 117 120 124 127 120 115 107 101 64 57 49 5 5 6 6 13 17 19 23 29 19 11 7 7 6 10 14 14 13 17 20 28 48 74 101 111 102 93 78 58 50 46 50 60 69 79 93 106 114 119 122 122 117 113 107 100 85 81 67 5 5 6 13 19 19 23 27 15 17 14 9 8 7 9 11 12 16 23 22 29 49 71 99 116 113 110 102 84 78 72 68 69 71 81 98 109 115 118 119 117 110 106 107 100 93 96 83 7 7 12 19 20 23 30 14 7 17 13 10 9 10 12 16 21 25 26 26 29 49 71 98 114 118 120 110 95 88 83 82 78 82 86 99 109 114 115 111 110 107 105 105 99 95 97 92 9 12 17 18 21 29 19 5 5 14 13 12 13 13 16 23 27 29 28 25 30 50 72 94 108 115 122 114 98 88 87 85 87 87 93 98 106 108 109 108 106 106 106 105 100 97 92 46 7 11 14 19 25 17 8 5 4 9 13 12 12 14 19 27 30 30 29 26 33 52 68 91 106 116 125 114 92 86 89 91 92 90 92 97 101 102 103 104 105 106 106 105 99 98 63 0 9 12 22 23 17 10 6 4 4 6 13 12 14 17 23 30 31 29 27 27 38 54 62 89 109 118 115 111 74 74 81 89 94 93 93 96 96 99 100 101 104 105 105 104 98 97 38 0 13 19 27 25 14 6 4 4 3 4 10 13 14 18 24 29 29 27 26 29 45 56 66 95 124 127 124 123 80 60 70 79 90 93 95 97 98 99 102 102 105 107 108 105 101 92 19 1 9 12 14 12 5 4 4 4 4 3 5 11 14 19 25 28 29 25 23 27 44 56 67 96 104 104 117 123 82 60 55 67 84 92 94 96 98 103 105 105 105 108 108 105 102 81 9 4 7 6 5 5 5 5 4 4 4 3 3 7 13 18 23 28 30 26 24 24 28 45 61 95 83 67 85 99 88 81 67 59 74 88 95 95 99 102 105 106 109 109 108 104 100 64 2 5 7 6 6 6 4 5 4 4 4 4 3 5 12 16 21 27 30 28 27 24 21 29 42 65 82 104 115 105 94 93 95 82 71 80 93 96 101 105 107 107 110 111 110 105 97 43 0 5 7 6 5 5 4 5 4 5 4 4 4 4 8 14 21 26 28 27 27 25 23 25 38 33 39 78 94 93 93 95 98 97 90 80 92 99 104 109 110 111 110 109 108 104 89 21 0 4 7 7 6 7 5 4 4 3 4 4 5 4 7 13 21 24 25 25 25 24 24 29 46 48 40 64 86 87 90 93 93 93 96 91 86 99 105 113 115 115 111 109 104 98 73 9 4 6 6 7 6 6 5 4 5 4 5 5 5 5 6 11 21 24 24 24 24 23 23 27 44 49 44 64 87 94 102 108 107 100 95 90 81 96 105 112 115 111 108 106 101 97 54 6 4 6 7 7 5 5 5 4 5 5 5 5 5 4 8 17 19 23 24 23 24 24 23 21 24 32 44 52 54 61 66 67 73 65 63 80 75 92 105 111 109 108 107 102 99 83 47 10 3 4 6 7 7 7 5 5 5 6 5 4 5 4 10 19 16 24 25 22 21 18 15 14 14 16 22 28 31 31 33 37 35 46 83 90 77 81 100 106 105 106 105 98 90 68 46 11 4 4 6 7 7 7 5 5 5 4 4 4 5 7 5 12 19 24 25 24 21 14 12 12 13 16 20 27 38 48 62 74 75 98 107 101 90 84 96 101 102 103 101 91 83 65 48 14 3 4 6 7 7 7 5 4 5 5 4 5 6 4 17 28 15 19 24 23 23 21 18 18 18 26 40 43 50 66 70 80 95 104 103 99 98 92 97 98 99 100 94 85 81 65 56 25 2 5 7 7 7 7 5 5 5 5 4 6 6 9 14 10 3 8 23 23 23 23 21 20 19 21 30 37 45 58 71 83 92 96 97 98 100 96 100 99 100 96 85 83 80 66 61 35 2 5 6 7 7 7 5 5 5 6 5 6 7 14 8 6 5 3 13 24 24 23 23 23 23 30 31 36 38 44 61 75 86 93 97 104 103 100 100 97 93 83 81 83 82 73 64 46 6 5 6 6 6 6 4 3 4 5 5 6 7 6 7 7 6 4 3 15 24 22 23 24 25 31 34 38 45 53 64 77 87 92 98 104 103 99 98 89 79 78 82 85 84 78 69 61 17 4 6 6 6 6 5 5 5 5 7 6 6 7 6 6 7 5 0 24 28 20 23 24 26 31 39 45 54 66 75 85 92 94 101 101 101 98 86 70 70 75 79 86 86 82 78 69 38 11 7 6 6 6 6 4 13 21 13 12 10 6 6 7 7 6 21 32 12 17 24 24 26 30 37 45 53 65 75 84 93 99 103 101 98 82 67 67 70 70 77 83 87 87 84 76 57 40 5 6 5 5 6 4 52 34 16 25 20 16 5 11 7 8 17 6 4 5 19 24 25 28 37 44 49 61 74 83 91 97 98 98 80 66 69 70 71 69 73 82 87 90 87 83 68 63 6 6 5 7 11 14 39 14 22 36 34 19 14 17 6 6 4 5 5 4 8 21 24 26 33 43 44 51 66 80 88 90 90 74 67 74 74 72 73 70 73 80 87 89 89 87 76 74 7 6 14 23 37 46 16 13 35 33 16 9 12 7 5 5 6 5 4 6 8 13 21 23 26 34 38 43 51 67 74 67 54 59 71 76 75 71 69 69 71 78 86 90 89 85 81 82 8 8 20 42 51 35 21 27 28 18 7 6 5 6 5 4 5 4 5 8 12 13 16 20 23 26 29 30 36 39 35 31 42 59 69 74 73 70 67 65 69 76 83 90 89 85 84 82\",\n          \"38 36 34 30 18 17 16 17 17 14 17 15 29 55 64 67 75 80 88 93 100 99 96 88 89 89 84 87 89 88 91 92 93 94 88 83 77 62 36 19 17 24 16 14 16 17 17 14 34 33 32 21 14 15 14 13 11 12 13 14 34 60 69 67 76 84 87 95 95 94 93 93 90 90 89 88 90 90 91 93 92 93 92 83 82 73 50 22 17 19 20 12 13 13 15 12 34 33 27 13 12 13 13 12 10 12 13 16 42 63 69 68 75 84 85 83 83 78 83 88 90 90 91 90 90 89 89 86 85 84 90 85 81 76 62 31 14 16 18 10 11 9 12 11 33 31 20 11 11 13 13 12 11 13 12 21 51 67 60 51 56 59 50 45 42 45 59 71 84 88 84 88 88 83 81 76 69 60 65 71 75 73 65 43 15 12 13 7 12 10 10 10 32 27 13 11 12 12 12 10 13 13 13 31 48 46 31 32 37 27 18 24 25 28 35 50 76 87 84 83 85 82 74 60 44 34 29 35 44 49 52 45 22 10 10 7 9 11 8 8 31 23 10 11 11 11 10 9 12 13 17 31 33 25 22 27 22 16 15 18 23 28 31 46 64 80 88 86 86 76 64 45 27 17 15 14 13 16 21 26 23 11 9 8 9 10 7 10 28 16 10 12 10 10 10 13 11 14 20 26 32 29 30 29 32 40 47 47 48 43 45 46 54 68 87 88 85 68 48 32 23 21 18 16 16 17 15 14 9 8 9 9 7 10 7 9 24 11 9 11 9 9 9 11 12 17 23 37 49 40 36 44 55 55 55 60 60 53 48 49 53 60 84 88 81 55 33 31 31 37 46 45 41 40 42 31 17 8 10 10 4 10 8 8 19 8 10 9 8 9 9 10 13 21 34 50 58 48 41 43 40 24 23 36 42 49 50 48 49 63 85 89 75 44 29 27 35 44 46 49 50 49 44 43 37 17 11 10 5 8 7 7 13 9 10 9 8 9 9 11 13 28 44 57 61 47 30 20 15 16 18 14 32 38 55 49 45 65 79 80 68 39 28 38 42 33 20 22 23 33 38 36 35 25 12 8 7 5 7 6 10 10 10 9 8 9 9 8 15 40 52 59 55 43 26 38 37 18 15 24 68 56 51 51 46 66 77 75 64 37 33 38 36 39 15 19 10 13 18 20 27 31 15 8 8 4 7 6 9 10 8 8 9 9 8 7 30 54 59 61 60 59 46 55 65 51 41 46 55 48 51 50 48 63 76 76 64 39 33 34 56 65 22 14 12 32 29 13 25 33 19 10 8 4 6 6 7 9 9 7 8 10 7 12 43 53 63 68 70 71 58 53 64 72 68 62 55 43 41 45 48 57 65 65 59 39 35 42 42 51 39 25 30 52 45 25 31 33 20 12 9 7 6 6 8 9 9 6 14 59 51 39 66 59 58 74 75 73 69 60 59 60 62 63 56 51 43 44 48 57 61 64 56 38 31 38 41 49 49 55 61 60 43 39 45 36 24 15 10 8 7 6 9 8 8 3 37 78 69 66 83 71 52 68 76 71 65 67 70 66 63 64 62 60 50 48 48 51 62 66 52 38 35 39 44 53 57 59 60 54 51 56 56 44 30 19 10 8 7 6 8 9 7 1 39 75 62 67 74 78 61 63 78 67 71 78 75 72 67 66 66 58 52 47 48 50 65 67 48 38 37 43 49 55 65 68 66 63 65 67 62 52 32 22 11 7 6 5 8 9 7 2 31 76 69 58 81 89 64 62 72 77 73 77 84 80 77 73 65 59 49 49 47 53 70 68 51 37 37 41 54 61 66 70 71 70 68 65 65 60 38 22 10 5 6 5 9 9 8 4 26 81 72 61 94 93 63 56 71 84 82 62 80 85 82 77 68 60 55 48 47 60 74 73 60 40 38 43 55 68 74 71 72 71 68 66 68 61 43 23 10 3 6 5 9 9 8 2 30 87 72 64 99 94 64 55 69 78 86 68 67 82 80 78 73 67 52 44 52 68 77 78 64 44 37 46 55 68 73 74 76 73 70 68 66 61 43 23 10 2 5 4 9 9 7 2 26 83 72 61 95 99 64 54 69 79 89 72 59 81 80 79 83 70 47 49 61 83 86 86 74 45 35 46 61 66 67 79 81 75 72 72 65 59 46 25 8 1 4 3 10 9 6 3 18 77 76 62 98 103 60 48 68 84 94 75 58 81 83 86 88 63 52 56 55 79 98 87 73 43 34 47 66 67 69 76 79 74 69 68 60 55 44 23 4 0 3 3 10 9 5 4 16 82 81 71 104 104 63 39 64 86 95 77 57 81 87 89 82 62 60 47 37 65 82 74 53 34 44 48 68 73 76 78 78 77 73 65 59 56 42 20 2 1 2 3 10 9 7 4 19 86 85 77 107 103 72 32 63 96 102 76 52 83 91 92 79 62 55 27 11 51 68 62 23 19 51 48 72 78 78 79 77 76 72 66 59 50 36 13 0 2 2 2 10 9 7 3 24 88 81 77 107 104 70 30 77 102 99 76 56 86 94 89 83 69 48 52 45 46 58 45 16 33 42 50 78 83 78 80 77 70 65 64 55 44 31 7 1 2 2 2 10 9 6 4 24 86 74 70 102 101 67 39 86 100 101 78 59 88 87 85 85 77 59 53 57 53 41 35 43 46 43 61 78 87 82 81 77 69 64 60 52 45 27 3 1 2 2 2 9 8 7 5 19 82 71 63 101 102 65 49 80 99 102 77 55 87 77 84 83 78 75 64 63 59 53 61 50 49 60 66 76 84 84 79 75 68 61 56 49 42 20 2 3 2 2 4 9 8 6 6 16 77 67 71 96 104 66 56 78 97 105 75 52 76 78 82 81 80 75 69 68 73 75 75 55 58 68 70 73 78 83 79 70 66 58 52 47 32 15 3 4 4 3 5 10 7 5 4 24 70 56 83 103 100 67 56 79 107 104 72 42 63 72 74 79 76 69 67 71 76 74 76 60 55 60 68 69 68 77 81 67 62 57 46 37 25 13 3 3 4 5 6 11 7 6 0 36 71 54 86 107 101 64 59 89 110 107 82 41 61 72 74 75 74 73 71 79 73 72 78 65 60 58 63 64 61 63 75 70 59 54 40 32 22 9 4 3 4 6 7 11 7 6 1 35 76 57 81 105 104 68 59 90 110 109 89 43 61 74 77 78 77 75 71 72 74 75 76 72 68 66 64 60 59 58 69 74 59 50 36 28 22 7 3 4 4 6 8 10 8 6 2 22 76 60 75 106 108 70 61 95 110 110 88 38 50 65 61 53 46 46 50 47 47 51 53 55 56 64 67 60 59 60 62 69 54 43 33 29 23 4 1 5 7 7 9 9 7 5 3 15 70 65 75 108 108 73 63 94 106 109 83 38 41 40 34 32 34 37 39 39 35 33 36 34 32 35 45 52 52 60 59 64 52 38 31 28 20 4 2 6 8 9 10 8 5 4 3 15 70 65 71 108 110 76 61 90 101 104 78 38 48 57 57 54 53 57 58 56 56 57 54 46 38 33 26 26 37 58 64 64 51 38 30 27 18 2 2 6 10 9 11 7 5 4 3 17 67 70 64 99 108 80 59 86 102 99 89 61 42 59 70 70 72 68 63 61 60 60 59 55 49 50 44 43 55 71 68 63 48 36 29 27 14 1 3 7 11 9 10 7 5 3 3 13 62 75 59 93 106 81 58 83 97 103 100 78 56 50 61 63 63 61 57 48 48 49 53 55 57 54 51 60 69 75 69 62 48 32 28 27 9 0 3 8 10 8 10 8 5 3 3 6 57 77 59 84 96 74 58 78 94 107 103 87 78 56 44 56 56 54 52 52 50 49 50 49 52 52 56 60 66 68 63 59 46 29 29 23 5 0 4 8 8 8 9 8 5 4 4 3 50 75 60 81 88 75 64 79 95 105 102 99 93 72 42 47 58 66 73 78 76 71 64 57 61 60 59 60 58 60 55 52 38 29 31 16 0 2 6 9 8 8 9 8 6 5 5 2 43 72 57 79 88 74 69 85 98 106 106 104 96 83 81 67 62 68 75 81 81 77 74 70 66 61 57 59 54 52 50 47 33 31 28 8 0 2 7 9 9 9 8 8 7 5 6 2 40 66 56 78 84 68 67 82 97 99 103 101 99 99 97 89 76 63 70 80 79 76 74 68 73 69 64 58 57 51 47 38 30 30 18 4 1 4 8 10 10 11 6 8 7 5 6 2 37 62 62 79 82 65 64 71 87 92 98 96 99 102 104 95 88 78 69 77 84 84 76 65 66 76 66 63 60 51 43 31 29 24 7 3 1 7 9 11 10 12 6 7 6 5 6 2 39 61 65 84 84 70 61 58 70 86 88 92 99 101 103 103 97 89 80 69 70 79 74 67 58 59 64 65 59 52 39 28 25 12 6 4 3 9 9 10 13 11 8 7 6 5 6 3 41 61 66 88 88 75 67 57 55 72 81 89 96 102 103 104 105 100 91 81 68 60 59 65 55 52 59 60 53 45 31 24 13 7 7 4 5 10 9 10 14 10 8 8 7 5 4 4 47 62 54 83 84 78 74 72 58 60 75 83 91 97 100 103 109 106 99 89 83 74 59 48 47 45 52 55 43 31 22 11 10 10 8 4 6 9 9 10 13 8 8 8 7 5 4 5 53 73 43 56 73 75 71 71 67 62 67 76 84 91 98 102 105 107 103 98 90 86 81 56 37 40 49 45 30 18 12 10 13 10 8 4 7 9 9 11 14 7 9 8 7 5 4 5 49 77 55 35 47 59 63 71 65 68 68 69 81 86 92 98 102 104 104 103 97 90 89 81 48 35 44 30 18 11 7 13 14 11 7 5 7 12 11 10 10 7 10 7 7 6 4 2 32 70 68 50 40 40 44 56 61 64 72 66 71 83 87 89 95 98 100 102 102 99 96 90 76 42 25 20 13 11 11 14 13 9 6 4 8 12 11 9 7 7 9 8 8 7 6 8 13 42 55 54 48 47 48 44 55 57 57 63 64 74 81 81 97 97 97 104 104 99 97 93 88 69 26 15 13 12 14 14 14 10 3 4 9 10 10 8 19 15 8 12 13 12 13 15 16 26 36 47 42 38 42 37 36 51 57 60 61 65 72 79 95 97 97 99 105 110 105 107 94 82 58 25 10 14 11 20 14 7 11 11 18 16 9 5 20 19 15\"\n        ],\n        \"semantic_type\": \"\",\n        \"description\": \"\"\n      }\n    }\n  ]\n}"
            }
          },
          "metadata": {},
          "execution_count": 324
        }
      ]
    },
    {
      "cell_type": "markdown",
      "source": [
        "# 4. Data Split\n",
        "Now lets split the dataset into training, validation and testing. Here we will be using it in a bit different way since we will be reading the image paths from the dataframe so better we split the dataframe directly and then read the images. We will do that by getting a random sample of 70% from our data using `data_df.sample(frac=0.7,random_state=7)` then we will create a new variable of test dataset which we will drop from it the 70% of the train which means that it will be 30% of the data which is the rest of the data using `data_df.drop(train.index)`. Then we will do the same between testing to create validation which will be 50% of the data which means the final split we have is the following:\n",
        "\n",
        "\n",
        "\n",
        "*   Training: 70%\n",
        "*   Validation: 15%\n",
        "*   Testing: 15%"
      ],
      "metadata": {
        "id": "9eD7x_r7UX8H"
      }
    },
    {
      "cell_type": "code",
      "source": [
        "train=data_df.sample(frac=0.8,random_state=42) # Create training of 70% of the data\n",
        "test=data_df.drop(train.index) # Create testing by removing the 70% of the train data which will result in 30%\n",
        "\n",
        "val=test.sample(frac=0.5,random_state=42) # Create validation of 50% of the testing data\n",
        "test=test.drop(val.index) # Create testing by removing the 50% of the validation data which will result in 50%"
      ],
      "metadata": {
        "id": "tVXNzGhivv3E"
      },
      "execution_count": 325,
      "outputs": []
    },
    {
      "cell_type": "markdown",
      "source": [
        "# 6. Custom Dataset Class\n",
        "Lets create a dataset class. Our class is a customized class on how we can our own dataset. The class inherits from the main `Dataset` class from PyTorch, then we overwrite some of the existing functions in that class. We need to convert our dataset to PyTorch Dataset object as it will be more efficient during training, you can use the dataset as its, but lets keep things professional and efficient. First we define our class that will be taking the main Dataset class with the concept of inheritance as mentioned. Let's make the concept simpler. There is a big class that PyTorch, this class has several functions inside it, we will recreate that class and modify some functions to match our needs.\n",
        "\n",
        "In the constructor function `__init__` we are declaring and our dataframe which will have `image_path` and the `labels`. Then we are creating our own image preprocessing object which is `transform` that we talked about before. For our labels, we are declaring our labels with the label_encoder we declared before. Which means that we will convert our labels are changed from string to numeric classes using `fit_tranform`. We didn't read each image inside the constructor as reading images here will be so time consuming. However, we are reading each image, applying the preprocessing and returning it in the `__getitem__` to read this specific image with its corresponding encoded label by their index and returns them."
      ],
      "metadata": {
        "id": "YAmMLxQiUbHN"
      }
    },
    {
      "cell_type": "code",
      "source": [
        "class ExpressionDataset(Dataset):\n",
        "    def __init__(self, dataframe):\n",
        "        df = dataframe\n",
        "        self.labels = df.iloc[:, 0].values\n",
        "        self.images = df.iloc[:, 1].apply(lambda x: np.fromstring(x, sep=' '))\n",
        "        H, W = 48, 48\n",
        "\n",
        "        # Maybe you used different normalization?\n",
        "        self.images = np.stack(self.images).astype(np.float32)\n",
        "\n",
        "        # Option A: Standard normalization\n",
        "        self.images = (self.images - 127.5) / 127.5  # [-1, 1] range\n",
        "\n",
        "        # Option B: Z-score normalization\n",
        "        # mean = self.images.mean()\n",
        "        # std = self.images.std()\n",
        "        # self.images = (self.images - mean) / std\n",
        "\n",
        "        self.images = self.images.reshape(-1, 1, H, W)\n",
        "\n",
        "    def __len__(self):\n",
        "        return len(self.labels)\n",
        "\n",
        "    def __getitem__(self, idx):\n",
        "        return torch.tensor(self.images[idx]), torch.tensor(self.labels[idx])"
      ],
      "metadata": {
        "id": "NRaye1wmh9lb"
      },
      "execution_count": 326,
      "outputs": []
    },
    {
      "cell_type": "markdown",
      "source": [
        "# 7. Create Dataset Objects\n",
        "Now lets create 3 data objects, for training data, validation and testing respectively giving them our dataframes we created before together with the `transform` object that we created before. We will use the same `transform` object to make sure all images are preprocessed as they are."
      ],
      "metadata": {
        "id": "rsttBLHSvLk2"
      }
    },
    {
      "cell_type": "code",
      "source": [
        "train_dataset = ExpressionDataset(dataframe=train)\n",
        "val_dataset = ExpressionDataset(dataframe=val)\n",
        "test_dataset = ExpressionDataset(dataframe=test)"
      ],
      "metadata": {
        "id": "y2v__bqQhrsB"
      },
      "execution_count": 327,
      "outputs": []
    },
    {
      "cell_type": "markdown",
      "source": [
        "# 9. Hyperparameters\n",
        "Now we are setting the training hyperparameters, we defined some variables which are the batch size, number of training epochs and learning rate."
      ],
      "metadata": {
        "id": "YzN8rbnPvlsG"
      }
    },
    {
      "cell_type": "code",
      "source": [
        "LR = 1e-3\n",
        "BATCH_SIZE = 16\n",
        "EPOCHS = 30\n",
        "DROPOUT_RATE = 0.4"
      ],
      "metadata": {
        "id": "REDfPqgOalbQ"
      },
      "execution_count": 328,
      "outputs": []
    },
    {
      "cell_type": "markdown",
      "source": [
        "# 10. DataLoaders\n",
        "PyTorch provides a class called DataLoader which allows us to create objects of it to simplify the training.\n",
        "\n",
        "Dataloader is an object that we can loop through it to train according to batches. When we start training, we loop through epochs, if you skip the batch size it means that the amount of training data in one batch is equal to the complete amount of training data, this method is not efficient and in most of the cases you need to train through using batches. Dataloader allows you to loop through the batches easily during the training. When you create a dataloader. You define the batch size and enable the `shuffle` to randomize the data and then you can loop through it in each epoch to train normally."
      ],
      "metadata": {
        "id": "6b9hEynQvozM"
      }
    },
    {
      "cell_type": "code",
      "source": [
        "train_loader = DataLoader(train_dataset, batch_size=BATCH_SIZE, shuffle=True)\n",
        "val_loader = DataLoader(val_dataset, batch_size=BATCH_SIZE, shuffle=True)\n",
        "test_loader = DataLoader(test_dataset, batch_size=BATCH_SIZE, shuffle=True)"
      ],
      "metadata": {
        "id": "OBfUiGRQwpZS"
      },
      "execution_count": 329,
      "outputs": []
    },
    {
      "cell_type": "markdown",
      "source": [
        "#11. Model\n",
        "Now we will build our CNN Network. We will be building it by creating a class that inherits from `nn.Module` and we will create our layers. Additionally, we will overwrite the `forward` function to modify our forward propagation.\n",
        "The model will start by having a 2-d convolution neural network that will have input channels of 3 which is the RGB input channels. Outputting 32 feature map. Then another 2-d convolution neural network taking 32 channels and outputting 64 and finally another one taking 64 channels and outputting 128 feature map.\n",
        "Each 2-d convolution neural network will be followed by a max pooling layer of size 2x2 and a `ReLU` activation function.\n",
        "\n",
        "After that we will have a `flatten` layer to vectorize these feature maps followed by a linear layer which will have shape of (128, 16, 16) which means 128 feature map each one is 16x16 as the image started by 128x128 and got divided by 2 three times after each pooling layers. finally we will have an output `linear` layer with the length of the unique values of the labels."
      ],
      "metadata": {
        "id": "7J7aGLC8vr2y"
      }
    },
    {
      "cell_type": "markdown",
      "source": [
        "![Screenshot 2025-05-16 at 22.05.21.png](data:image/png;base64,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)"
      ],
      "metadata": {
        "id": "_Vey54XGQZyI"
      }
    },
    {
      "cell_type": "code",
      "source": [
        "class Net(nn.Module):\n",
        "    def __init__(self, num_classes, dropout_rate=DROPOUT_RATE):  # Lower dropout\n",
        "        super().__init__()\n",
        "        self.conv1 = nn.Conv2d(1, 32, kernel_size=3, padding=1)\n",
        "        self.bn1 = nn.BatchNorm2d(32)\n",
        "        self.conv2 = nn.Conv2d(32, 64, kernel_size=3, padding=1)\n",
        "        self.bn2 = nn.BatchNorm2d(64)\n",
        "        self.conv3 = nn.Conv2d(64, 128, kernel_size=3, padding=1)\n",
        "        self.bn3 = nn.BatchNorm2d(128)\n",
        "        self.conv4 = nn.Conv2d(128, 256, kernel_size=3, padding=1)\n",
        "        self.bn4 = nn.BatchNorm2d(256)\n",
        "\n",
        "        self.pooling = nn.MaxPool2d(2, 2)\n",
        "        self.relu = nn.ReLU()\n",
        "        self.dropout = nn.Dropout(dropout_rate)\n",
        "        self.flatten = nn.Flatten()\n",
        "\n",
        "        # Maybe you changed this linear layer size?\n",
        "        self.linear = nn.Linear(256 * 3 * 3, 512)  # Bigger hidden layer\n",
        "        self.linear2 = nn.Linear(512, 256)  # Added another layer\n",
        "        self.output = nn.Linear(256, num_classes)\n",
        "\n",
        "    def forward(self, x):\n",
        "        x = self.relu(self.pooling(self.bn1(self.conv1(x))))\n",
        "        x = self.dropout(x)\n",
        "        x = self.relu(self.pooling(self.bn2(self.conv2(x))))\n",
        "        x = self.dropout(x)\n",
        "        x = self.relu(self.pooling(self.bn3(self.conv3(x))))\n",
        "        x = self.dropout(x)\n",
        "        x = self.relu(self.pooling(self.bn4(self.conv4(x))))\n",
        "        x = self.dropout(x)\n",
        "        x = self.flatten(x)\n",
        "        x = self.relu(self.linear(x))\n",
        "        x = self.dropout(x)\n",
        "        x = self.relu(self.linear2(x))  # Added layer\n",
        "        x = self.dropout(x)\n",
        "        x = self.output(x)\n",
        "        return x\n",
        "\n",
        "# Usage\n",
        "model = Net(num_classes=len(data_df['emotion'].unique())).to(device)\n"
      ],
      "metadata": {
        "id": "g50jsWB4okf-"
      },
      "execution_count": 330,
      "outputs": []
    },
    {
      "cell_type": "markdown",
      "source": [
        "# 12. Model Summary\n",
        "This cell is optional, here we show only the summary of the model and what is the output size for each layer. keep in mind that -1 here will be replaced by the batch size.\n"
      ],
      "metadata": {
        "id": "bGkrTwfEvu4F"
      }
    },
    {
      "cell_type": "code",
      "source": [
        "from torchsummary import summary\n",
        "summary(model, input_size = (1, 48, 48))"
      ],
      "metadata": {
        "colab": {
          "base_uri": "https://localhost:8080/"
        },
        "id": "T1hL4b9k0tqr",
        "outputId": "7eebbd12-73a9-4549-9ed2-26d599e9e1e2"
      },
      "execution_count": 331,
      "outputs": [
        {
          "output_type": "stream",
          "name": "stdout",
          "text": [
            "----------------------------------------------------------------\n",
            "        Layer (type)               Output Shape         Param #\n",
            "================================================================\n",
            "            Conv2d-1           [-1, 32, 48, 48]             320\n",
            "       BatchNorm2d-2           [-1, 32, 48, 48]              64\n",
            "         MaxPool2d-3           [-1, 32, 24, 24]               0\n",
            "              ReLU-4           [-1, 32, 24, 24]               0\n",
            "           Dropout-5           [-1, 32, 24, 24]               0\n",
            "            Conv2d-6           [-1, 64, 24, 24]          18,496\n",
            "       BatchNorm2d-7           [-1, 64, 24, 24]             128\n",
            "         MaxPool2d-8           [-1, 64, 12, 12]               0\n",
            "              ReLU-9           [-1, 64, 12, 12]               0\n",
            "          Dropout-10           [-1, 64, 12, 12]               0\n",
            "           Conv2d-11          [-1, 128, 12, 12]          73,856\n",
            "      BatchNorm2d-12          [-1, 128, 12, 12]             256\n",
            "        MaxPool2d-13            [-1, 128, 6, 6]               0\n",
            "             ReLU-14            [-1, 128, 6, 6]               0\n",
            "          Dropout-15            [-1, 128, 6, 6]               0\n",
            "           Conv2d-16            [-1, 256, 6, 6]         295,168\n",
            "      BatchNorm2d-17            [-1, 256, 6, 6]             512\n",
            "        MaxPool2d-18            [-1, 256, 3, 3]               0\n",
            "             ReLU-19            [-1, 256, 3, 3]               0\n",
            "          Dropout-20            [-1, 256, 3, 3]               0\n",
            "          Flatten-21                 [-1, 2304]               0\n",
            "           Linear-22                  [-1, 512]       1,180,160\n",
            "             ReLU-23                  [-1, 512]               0\n",
            "          Dropout-24                  [-1, 512]               0\n",
            "           Linear-25                  [-1, 256]         131,328\n",
            "             ReLU-26                  [-1, 256]               0\n",
            "          Dropout-27                  [-1, 256]               0\n",
            "           Linear-28                    [-1, 7]           1,799\n",
            "================================================================\n",
            "Total params: 1,702,087\n",
            "Trainable params: 1,702,087\n",
            "Non-trainable params: 0\n",
            "----------------------------------------------------------------\n",
            "Input size (MB): 0.01\n",
            "Forward/backward pass size (MB): 2.94\n",
            "Params size (MB): 6.49\n",
            "Estimated Total Size (MB): 9.44\n",
            "----------------------------------------------------------------\n"
          ]
        }
      ]
    },
    {
      "cell_type": "markdown",
      "source": [
        "# 13. Loss and Optimizer\n",
        "In the cell below, we will create the loss function which will be the Cross Entropy loss. Also we will have create the Adam optimizer and we will provide to it the parameters of the model we created."
      ],
      "metadata": {
        "id": "fnypc3arvzC8"
      }
    },
    {
      "cell_type": "code",
      "source": [
        "# Define loss function and optimizer\n",
        "criterion = nn.CrossEntropyLoss() # Cross Entropy Loss\n",
        "optimizer = Adam(model.parameters(), lr=LR) # Adam optimizer\n",
        "\n",
        "optimizer = Adam(model.parameters(), lr=LR, weight_decay=1e-5)\n",
        "criterion = nn.CrossEntropyLoss()\n",
        "scheduler = StepLR(optimizer, step_size=10, gamma=0.7)"
      ],
      "metadata": {
        "id": "JLc90YSAbBwj"
      },
      "execution_count": 332,
      "outputs": []
    },
    {
      "cell_type": "markdown",
      "source": [
        "# 14. Training\n",
        "Now comes the training part. If you know well the training process of deep learning. You will just need to know PyTorch syntax. We start by initializing the for loop with the specified number of epochs which we defined before. But before that we define 4 lists and inside the loop we define another 4 variables.\n",
        "\n",
        "## Variables:\n",
        "* `total_acc_train`: here we will keep tracking of the training accuracy progress during each epoch, we calculate the accuracy during the batch size and we print it in the end for tracking the accuracy on each epoch.\n",
        "\n",
        "* `total_loss_train`: here we will keep tracking of the training loss progress during each epoch, we calculate the accuracy during the batch size and we use the loss value to optimize and modify the model parameters.\n",
        "\n",
        "* `total_acc_val`: here we will keep tracking of the validation accuracy progress during each epoch, we calculate the accuracy during the batch size and we print it in the end for tracking the accuracy on each epoch and help us know if there is any overfitting.\n",
        "\n",
        "* `total_loss_val`: here we will keep tracking of the validation loss progress during each epoch, we calculate the accuracy during the batch size.\n",
        "\n",
        "## Lists:\n",
        "* `total_acc_train_plot`: We append the losses of the training accuracy to visualize them at the end.\n",
        "\n",
        "* `total_loss_train_plot`: We append the losses of the training to visualize them at the end.\n",
        "\n",
        "* `total_acc_validation_plot`: We append the losses of the validation accuracy to visualize them at the end.\n",
        "\n",
        "* `total_loss_validation_plot`: We append the losses of the validation to visualize them at the end.\n",
        "\n",
        "\n",
        "Then, we start to loop through the training dataloaders, we use the enumerate functionality to loop through data and indices at the same time. We are not using the indices here, but lets kept it just if you want to try different stuff with the loop or debug. In the second loop, we start by getting our data from the data loader, then we move the inputs and labels to the cuda device. We allow the model to make a prediction or what is called forward propagation, then we get the output of the model and compare it with our original output using the loss criteration. We add the loss amount to `total_loss_train`. Additionally, we get the accuracy by comparing the correct batch with the predicted batch and we add it to the `total_acc_train`. Then we do the `batch_loss.backward()` which makes the backpropagation and we use the optimizer to do a step on the weights using `optimizer.step()` and then we reset the optimizer gradients using `optimizer.zero_grad()` which is a very important step that has to be done before proceeding.\n",
        "\n",
        "After that we exit the batch loop (train dataloader loop) and we start with the validation. Don't forget that we are still in the same epoch. In side that we start by with `torch.no_grad()` so that we freeze the weights, which means that we need the model to do predicitons **without being trained**. We just need to see the validation preformance. Then we do the same steps which are predicting and calculating loss and accuracy and storing these values.\n",
        "\n",
        "At the end we print after each epoch the epoch number, training loss, training accuracy, validation loss and validation accuracy. Accuracies are calculated by dividing the right predictions by the complete number of samples and multiplying by 100. Losses are being divided by 1000 just to normalize the values and avoid large values.\n",
        "\n"
      ],
      "metadata": {
        "id": "ZVOrwojrv1Z4"
      }
    },
    {
      "cell_type": "code",
      "source": [
        "total_loss_train_plot = []\n",
        "total_loss_validation_plot = []\n",
        "total_acc_train_plot = []\n",
        "total_acc_validation_plot = []\n",
        "\n",
        "for epoch in range(EPOCHS):\n",
        "  wandb.init(\n",
        "    project=\"TrainingHumanEmotionDetector_\"+optimizer.__class__.__name__,\n",
        "    name=f\"epoch_{epoch}\",\n",
        "    config={\n",
        "    \"LR\": LR,\n",
        "    \"batchSize\": BATCH_SIZE,\n",
        "    \"epochs\": EPOCHS,\n",
        "    \"architecture\": \"CNN\",\n",
        "    \"optimizer\": optimizer.__class__.__name__,\n",
        "    \"criterion\": criterion.__class__.__name__,\n",
        "    \"dropout_rate\": DROPOUT_RATE,\n",
        "    })\n",
        "  total_acc_train = 0\n",
        "  total_loss_train = 0\n",
        "  total_loss_val = 0\n",
        "  total_acc_val = 0\n",
        "\n",
        "  for inputs, labels in train_loader:\n",
        "    inputs = inputs.cuda()\n",
        "    labels = labels.cuda()\n",
        "\n",
        "    optimizer.zero_grad()\n",
        "    outputs = model(inputs)\n",
        "    optimizer.zero_grad()\n",
        "    outputs = model(inputs)\n",
        "    train_loss = criterion(outputs, labels)\n",
        "    total_loss_train += train_loss.item()\n",
        "    train_loss.backward()\n",
        "\n",
        "    train_acc = (torch.argmax(outputs, axis = 1) == labels).sum().item()\n",
        "    total_acc_train += train_acc\n",
        "    optimizer.step()\n",
        "\n",
        "  with torch.no_grad():\n",
        "    for inputs, labels in val_loader:\n",
        "      inputs = inputs.cuda()\n",
        "      labels = labels.cuda()\n",
        "      outputs = model(inputs)\n",
        "      val_loss = criterion(outputs, labels)\n",
        "      total_loss_val += val_loss.item()\n",
        "\n",
        "      val_acc = (torch.argmax(outputs, axis = 1) == labels).sum().item()\n",
        "      total_acc_val += val_acc\n",
        "      # scheduler.step(val_acc)\n",
        "\n",
        "  total_loss_train_plot.append(round(total_loss_train/1000, 4))\n",
        "  total_loss_validation_plot.append(round(total_loss_val/1000, 4))\n",
        "  total_acc_train_plot.append(round(total_acc_train/(train_dataset.__len__())*100, 4))\n",
        "  total_acc_validation_plot.append(round(total_acc_val/(val_dataset.__len__())*100, 4))\n",
        "  wandb.log({\"Train Accuracy\": round((total_acc_train)/train_dataset.__len__() * 100, 4),\n",
        "             \"Train_Loss\": round(total_loss_train/100, 4),\n",
        "             \"Validation_Loss\": round(total_loss_val/100, 4),\n",
        "             \"Validation Accuracy\": round((total_acc_val)/val_dataset.__len__() * 100, 4),\n",
        "              \"dropout_rate\": DROPOUT_RATE,})\n",
        "  print(f'''Epoch {epoch+1}/{EPOCHS}, Train Loss: {round(total_loss_train/100, 4)} Train Accuracy {round((total_acc_train)/train_dataset.__len__() * 100, 4)}\n",
        "              Validation Loss: {round(total_loss_val/100, 4)} Validation Accuracy: {round((total_acc_val)/val_dataset.__len__() * 100, 4)}''')\n",
        "  print(\"=\"*25)\n",
        "  wandb.finish()"
      ],
      "metadata": {
        "colab": {
          "base_uri": "https://localhost:8080/",
          "height": 1000
        },
        "id": "PJqFH59PiOcN",
        "outputId": "f95c366d-26c3-4c5a-cd47-5508be4d9fc3"
      },
      "execution_count": 333,
      "outputs": [
        {
          "output_type": "display_data",
          "data": {
            "text/plain": [
              "<IPython.core.display.HTML object>"
            ],
            "text/html": [
              "Tracking run with wandb version 0.20.1"
            ]
          },
          "metadata": {}
        },
        {
          "output_type": "display_data",
          "data": {
            "text/plain": [
              "<IPython.core.display.HTML object>"
            ],
            "text/html": [
              "Run data is saved locally in <code>/content/wandb/run-20250607_111835-rzmi5acy</code>"
            ]
          },
          "metadata": {}
        },
        {
          "output_type": "display_data",
          "data": {
            "text/plain": [
              "<IPython.core.display.HTML object>"
            ],
            "text/html": [
              "Syncing run <strong><a href='https://wandb.ai/dshan21-free-university-of-tbilisi-/TrainingHumanEmotionDetector_Adam/runs/rzmi5acy' target=\"_blank\">epoch_0</a></strong> to <a href='https://wandb.ai/dshan21-free-university-of-tbilisi-/TrainingHumanEmotionDetector_Adam' target=\"_blank\">Weights & Biases</a> (<a href='https://wandb.me/developer-guide' target=\"_blank\">docs</a>)<br>"
            ]
          },
          "metadata": {}
        },
        {
          "output_type": "display_data",
          "data": {
            "text/plain": [
              "<IPython.core.display.HTML object>"
            ],
            "text/html": [
              " View project at <a href='https://wandb.ai/dshan21-free-university-of-tbilisi-/TrainingHumanEmotionDetector_Adam' target=\"_blank\">https://wandb.ai/dshan21-free-university-of-tbilisi-/TrainingHumanEmotionDetector_Adam</a>"
            ]
          },
          "metadata": {}
        },
        {
          "output_type": "display_data",
          "data": {
            "text/plain": [
              "<IPython.core.display.HTML object>"
            ],
            "text/html": [
              " View run at <a href='https://wandb.ai/dshan21-free-university-of-tbilisi-/TrainingHumanEmotionDetector_Adam/runs/rzmi5acy' target=\"_blank\">https://wandb.ai/dshan21-free-university-of-tbilisi-/TrainingHumanEmotionDetector_Adam/runs/rzmi5acy</a>"
            ]
          },
          "metadata": {}
        },
        {
          "output_type": "stream",
          "name": "stdout",
          "text": [
            "Epoch 1/30, Train Loss: 26.0635 Train Accuracy 24.1912\n",
            "              Validation Loss: 3.19 Validation Accuracy: 28.039\n",
            "=========================\n"
          ]
        },
        {
          "output_type": "display_data",
          "data": {
            "text/plain": [
              "<IPython.core.display.HTML object>"
            ],
            "text/html": []
          },
          "metadata": {}
        },
        {
          "output_type": "display_data",
          "data": {
            "text/plain": [
              "<IPython.core.display.HTML object>"
            ],
            "text/html": [
              "<br>    <style><br>        .wandb-row {<br>            display: flex;<br>            flex-direction: row;<br>            flex-wrap: wrap;<br>            justify-content: flex-start;<br>            width: 100%;<br>        }<br>        .wandb-col {<br>            display: flex;<br>            flex-direction: column;<br>            flex-basis: 100%;<br>            flex: 1;<br>            padding: 10px;<br>        }<br>    </style><br><div class=\"wandb-row\"><div class=\"wandb-col\"><h3>Run history:</h3><br/><table class=\"wandb\"><tr><td>Train Accuracy</td><td>▁</td></tr><tr><td>Train_Loss</td><td>▁</td></tr><tr><td>Validation Accuracy</td><td>▁</td></tr><tr><td>Validation_Loss</td><td>▁</td></tr><tr><td>dropout_rate</td><td>▁</td></tr></table><br/></div><div class=\"wandb-col\"><h3>Run summary:</h3><br/><table class=\"wandb\"><tr><td>Train Accuracy</td><td>24.1912</td></tr><tr><td>Train_Loss</td><td>26.0635</td></tr><tr><td>Validation Accuracy</td><td>28.039</td></tr><tr><td>Validation_Loss</td><td>3.19</td></tr><tr><td>dropout_rate</td><td>0.4</td></tr></table><br/></div></div>"
            ]
          },
          "metadata": {}
        },
        {
          "output_type": "display_data",
          "data": {
            "text/plain": [
              "<IPython.core.display.HTML object>"
            ],
            "text/html": [
              " View run <strong style=\"color:#cdcd00\">epoch_0</strong> at: <a href='https://wandb.ai/dshan21-free-university-of-tbilisi-/TrainingHumanEmotionDetector_Adam/runs/rzmi5acy' target=\"_blank\">https://wandb.ai/dshan21-free-university-of-tbilisi-/TrainingHumanEmotionDetector_Adam/runs/rzmi5acy</a><br> View project at: <a href='https://wandb.ai/dshan21-free-university-of-tbilisi-/TrainingHumanEmotionDetector_Adam' target=\"_blank\">https://wandb.ai/dshan21-free-university-of-tbilisi-/TrainingHumanEmotionDetector_Adam</a><br>Synced 5 W&B file(s), 0 media file(s), 0 artifact file(s) and 0 other file(s)"
            ]
          },
          "metadata": {}
        },
        {
          "output_type": "display_data",
          "data": {
            "text/plain": [
              "<IPython.core.display.HTML object>"
            ],
            "text/html": [
              "Find logs at: <code>./wandb/run-20250607_111835-rzmi5acy/logs</code>"
            ]
          },
          "metadata": {}
        },
        {
          "output_type": "display_data",
          "data": {
            "text/plain": [
              "<IPython.core.display.HTML object>"
            ],
            "text/html": [
              "Tracking run with wandb version 0.20.1"
            ]
          },
          "metadata": {}
        },
        {
          "output_type": "display_data",
          "data": {
            "text/plain": [
              "<IPython.core.display.HTML object>"
            ],
            "text/html": [
              "Run data is saved locally in <code>/content/wandb/run-20250607_111856-ggydud3u</code>"
            ]
          },
          "metadata": {}
        },
        {
          "output_type": "display_data",
          "data": {
            "text/plain": [
              "<IPython.core.display.HTML object>"
            ],
            "text/html": [
              "Syncing run <strong><a href='https://wandb.ai/dshan21-free-university-of-tbilisi-/TrainingHumanEmotionDetector_Adam/runs/ggydud3u' target=\"_blank\">epoch_1</a></strong> to <a href='https://wandb.ai/dshan21-free-university-of-tbilisi-/TrainingHumanEmotionDetector_Adam' target=\"_blank\">Weights & Biases</a> (<a href='https://wandb.me/developer-guide' target=\"_blank\">docs</a>)<br>"
            ]
          },
          "metadata": {}
        },
        {
          "output_type": "display_data",
          "data": {
            "text/plain": [
              "<IPython.core.display.HTML object>"
            ],
            "text/html": [
              " View project at <a href='https://wandb.ai/dshan21-free-university-of-tbilisi-/TrainingHumanEmotionDetector_Adam' target=\"_blank\">https://wandb.ai/dshan21-free-university-of-tbilisi-/TrainingHumanEmotionDetector_Adam</a>"
            ]
          },
          "metadata": {}
        },
        {
          "output_type": "display_data",
          "data": {
            "text/plain": [
              "<IPython.core.display.HTML object>"
            ],
            "text/html": [
              " View run at <a href='https://wandb.ai/dshan21-free-university-of-tbilisi-/TrainingHumanEmotionDetector_Adam/runs/ggydud3u' target=\"_blank\">https://wandb.ai/dshan21-free-university-of-tbilisi-/TrainingHumanEmotionDetector_Adam/runs/ggydud3u</a>"
            ]
          },
          "metadata": {}
        },
        {
          "output_type": "stream",
          "name": "stdout",
          "text": [
            "Epoch 2/30, Train Loss: 24.2649 Train Accuracy 31.0141\n",
            "              Validation Loss: 2.8819 Validation Accuracy: 35.7018\n",
            "=========================\n"
          ]
        },
        {
          "output_type": "display_data",
          "data": {
            "text/plain": [
              "<IPython.core.display.HTML object>"
            ],
            "text/html": []
          },
          "metadata": {}
        },
        {
          "output_type": "display_data",
          "data": {
            "text/plain": [
              "<IPython.core.display.HTML object>"
            ],
            "text/html": [
              "<br>    <style><br>        .wandb-row {<br>            display: flex;<br>            flex-direction: row;<br>            flex-wrap: wrap;<br>            justify-content: flex-start;<br>            width: 100%;<br>        }<br>        .wandb-col {<br>            display: flex;<br>            flex-direction: column;<br>            flex-basis: 100%;<br>            flex: 1;<br>            padding: 10px;<br>        }<br>    </style><br><div class=\"wandb-row\"><div class=\"wandb-col\"><h3>Run history:</h3><br/><table class=\"wandb\"><tr><td>Train Accuracy</td><td>▁</td></tr><tr><td>Train_Loss</td><td>▁</td></tr><tr><td>Validation Accuracy</td><td>▁</td></tr><tr><td>Validation_Loss</td><td>▁</td></tr><tr><td>dropout_rate</td><td>▁</td></tr></table><br/></div><div class=\"wandb-col\"><h3>Run summary:</h3><br/><table class=\"wandb\"><tr><td>Train Accuracy</td><td>31.0141</td></tr><tr><td>Train_Loss</td><td>24.2649</td></tr><tr><td>Validation Accuracy</td><td>35.7018</td></tr><tr><td>Validation_Loss</td><td>2.8819</td></tr><tr><td>dropout_rate</td><td>0.4</td></tr></table><br/></div></div>"
            ]
          },
          "metadata": {}
        },
        {
          "output_type": "display_data",
          "data": {
            "text/plain": [
              "<IPython.core.display.HTML object>"
            ],
            "text/html": [
              " View run <strong style=\"color:#cdcd00\">epoch_1</strong> at: <a href='https://wandb.ai/dshan21-free-university-of-tbilisi-/TrainingHumanEmotionDetector_Adam/runs/ggydud3u' target=\"_blank\">https://wandb.ai/dshan21-free-university-of-tbilisi-/TrainingHumanEmotionDetector_Adam/runs/ggydud3u</a><br> View project at: <a href='https://wandb.ai/dshan21-free-university-of-tbilisi-/TrainingHumanEmotionDetector_Adam' target=\"_blank\">https://wandb.ai/dshan21-free-university-of-tbilisi-/TrainingHumanEmotionDetector_Adam</a><br>Synced 5 W&B file(s), 0 media file(s), 0 artifact file(s) and 0 other file(s)"
            ]
          },
          "metadata": {}
        },
        {
          "output_type": "display_data",
          "data": {
            "text/plain": [
              "<IPython.core.display.HTML object>"
            ],
            "text/html": [
              "Find logs at: <code>./wandb/run-20250607_111856-ggydud3u/logs</code>"
            ]
          },
          "metadata": {}
        },
        {
          "output_type": "display_data",
          "data": {
            "text/plain": [
              "<IPython.core.display.HTML object>"
            ],
            "text/html": [
              "Tracking run with wandb version 0.20.1"
            ]
          },
          "metadata": {}
        },
        {
          "output_type": "display_data",
          "data": {
            "text/plain": [
              "<IPython.core.display.HTML object>"
            ],
            "text/html": [
              "Run data is saved locally in <code>/content/wandb/run-20250607_111909-ljlzqrv8</code>"
            ]
          },
          "metadata": {}
        },
        {
          "output_type": "display_data",
          "data": {
            "text/plain": [
              "<IPython.core.display.HTML object>"
            ],
            "text/html": [
              "Syncing run <strong><a href='https://wandb.ai/dshan21-free-university-of-tbilisi-/TrainingHumanEmotionDetector_Adam/runs/ljlzqrv8' target=\"_blank\">epoch_2</a></strong> to <a href='https://wandb.ai/dshan21-free-university-of-tbilisi-/TrainingHumanEmotionDetector_Adam' target=\"_blank\">Weights & Biases</a> (<a href='https://wandb.me/developer-guide' target=\"_blank\">docs</a>)<br>"
            ]
          },
          "metadata": {}
        },
        {
          "output_type": "display_data",
          "data": {
            "text/plain": [
              "<IPython.core.display.HTML object>"
            ],
            "text/html": [
              " View project at <a href='https://wandb.ai/dshan21-free-university-of-tbilisi-/TrainingHumanEmotionDetector_Adam' target=\"_blank\">https://wandb.ai/dshan21-free-university-of-tbilisi-/TrainingHumanEmotionDetector_Adam</a>"
            ]
          },
          "metadata": {}
        },
        {
          "output_type": "display_data",
          "data": {
            "text/plain": [
              "<IPython.core.display.HTML object>"
            ],
            "text/html": [
              " View run at <a href='https://wandb.ai/dshan21-free-university-of-tbilisi-/TrainingHumanEmotionDetector_Adam/runs/ljlzqrv8' target=\"_blank\">https://wandb.ai/dshan21-free-university-of-tbilisi-/TrainingHumanEmotionDetector_Adam/runs/ljlzqrv8</a>"
            ]
          },
          "metadata": {}
        },
        {
          "output_type": "stream",
          "name": "stdout",
          "text": [
            "Epoch 3/30, Train Loss: 22.7052 Train Accuracy 37.3579\n",
            "              Validation Loss: 2.7887 Validation Accuracy: 40.7872\n",
            "=========================\n"
          ]
        },
        {
          "output_type": "display_data",
          "data": {
            "text/plain": [
              "<IPython.core.display.HTML object>"
            ],
            "text/html": []
          },
          "metadata": {}
        },
        {
          "output_type": "display_data",
          "data": {
            "text/plain": [
              "<IPython.core.display.HTML object>"
            ],
            "text/html": [
              "<br>    <style><br>        .wandb-row {<br>            display: flex;<br>            flex-direction: row;<br>            flex-wrap: wrap;<br>            justify-content: flex-start;<br>            width: 100%;<br>        }<br>        .wandb-col {<br>            display: flex;<br>            flex-direction: column;<br>            flex-basis: 100%;<br>            flex: 1;<br>            padding: 10px;<br>        }<br>    </style><br><div class=\"wandb-row\"><div class=\"wandb-col\"><h3>Run history:</h3><br/><table class=\"wandb\"><tr><td>Train Accuracy</td><td>▁</td></tr><tr><td>Train_Loss</td><td>▁</td></tr><tr><td>Validation Accuracy</td><td>▁</td></tr><tr><td>Validation_Loss</td><td>▁</td></tr><tr><td>dropout_rate</td><td>▁</td></tr></table><br/></div><div class=\"wandb-col\"><h3>Run summary:</h3><br/><table class=\"wandb\"><tr><td>Train Accuracy</td><td>37.3579</td></tr><tr><td>Train_Loss</td><td>22.7052</td></tr><tr><td>Validation Accuracy</td><td>40.7872</td></tr><tr><td>Validation_Loss</td><td>2.7887</td></tr><tr><td>dropout_rate</td><td>0.4</td></tr></table><br/></div></div>"
            ]
          },
          "metadata": {}
        },
        {
          "output_type": "display_data",
          "data": {
            "text/plain": [
              "<IPython.core.display.HTML object>"
            ],
            "text/html": [
              " View run <strong style=\"color:#cdcd00\">epoch_2</strong> at: <a href='https://wandb.ai/dshan21-free-university-of-tbilisi-/TrainingHumanEmotionDetector_Adam/runs/ljlzqrv8' target=\"_blank\">https://wandb.ai/dshan21-free-university-of-tbilisi-/TrainingHumanEmotionDetector_Adam/runs/ljlzqrv8</a><br> View project at: <a href='https://wandb.ai/dshan21-free-university-of-tbilisi-/TrainingHumanEmotionDetector_Adam' target=\"_blank\">https://wandb.ai/dshan21-free-university-of-tbilisi-/TrainingHumanEmotionDetector_Adam</a><br>Synced 5 W&B file(s), 0 media file(s), 0 artifact file(s) and 0 other file(s)"
            ]
          },
          "metadata": {}
        },
        {
          "output_type": "display_data",
          "data": {
            "text/plain": [
              "<IPython.core.display.HTML object>"
            ],
            "text/html": [
              "Find logs at: <code>./wandb/run-20250607_111909-ljlzqrv8/logs</code>"
            ]
          },
          "metadata": {}
        },
        {
          "output_type": "display_data",
          "data": {
            "text/plain": [
              "<IPython.core.display.HTML object>"
            ],
            "text/html": [
              "Tracking run with wandb version 0.20.1"
            ]
          },
          "metadata": {}
        },
        {
          "output_type": "display_data",
          "data": {
            "text/plain": [
              "<IPython.core.display.HTML object>"
            ],
            "text/html": [
              "Run data is saved locally in <code>/content/wandb/run-20250607_111921-elqe7bef</code>"
            ]
          },
          "metadata": {}
        },
        {
          "output_type": "display_data",
          "data": {
            "text/plain": [
              "<IPython.core.display.HTML object>"
            ],
            "text/html": [
              "Syncing run <strong><a href='https://wandb.ai/dshan21-free-university-of-tbilisi-/TrainingHumanEmotionDetector_Adam/runs/elqe7bef' target=\"_blank\">epoch_3</a></strong> to <a href='https://wandb.ai/dshan21-free-university-of-tbilisi-/TrainingHumanEmotionDetector_Adam' target=\"_blank\">Weights & Biases</a> (<a href='https://wandb.me/developer-guide' target=\"_blank\">docs</a>)<br>"
            ]
          },
          "metadata": {}
        },
        {
          "output_type": "display_data",
          "data": {
            "text/plain": [
              "<IPython.core.display.HTML object>"
            ],
            "text/html": [
              " View project at <a href='https://wandb.ai/dshan21-free-university-of-tbilisi-/TrainingHumanEmotionDetector_Adam' target=\"_blank\">https://wandb.ai/dshan21-free-university-of-tbilisi-/TrainingHumanEmotionDetector_Adam</a>"
            ]
          },
          "metadata": {}
        },
        {
          "output_type": "display_data",
          "data": {
            "text/plain": [
              "<IPython.core.display.HTML object>"
            ],
            "text/html": [
              " View run at <a href='https://wandb.ai/dshan21-free-university-of-tbilisi-/TrainingHumanEmotionDetector_Adam/runs/elqe7bef' target=\"_blank\">https://wandb.ai/dshan21-free-university-of-tbilisi-/TrainingHumanEmotionDetector_Adam/runs/elqe7bef</a>"
            ]
          },
          "metadata": {}
        },
        {
          "output_type": "stream",
          "name": "stdout",
          "text": [
            "Epoch 4/30, Train Loss: 21.9373 Train Accuracy 40.0836\n",
            "              Validation Loss: 2.7031 Validation Accuracy: 41.449\n",
            "=========================\n"
          ]
        },
        {
          "output_type": "display_data",
          "data": {
            "text/plain": [
              "<IPython.core.display.HTML object>"
            ],
            "text/html": []
          },
          "metadata": {}
        },
        {
          "output_type": "display_data",
          "data": {
            "text/plain": [
              "<IPython.core.display.HTML object>"
            ],
            "text/html": [
              "<br>    <style><br>        .wandb-row {<br>            display: flex;<br>            flex-direction: row;<br>            flex-wrap: wrap;<br>            justify-content: flex-start;<br>            width: 100%;<br>        }<br>        .wandb-col {<br>            display: flex;<br>            flex-direction: column;<br>            flex-basis: 100%;<br>            flex: 1;<br>            padding: 10px;<br>        }<br>    </style><br><div class=\"wandb-row\"><div class=\"wandb-col\"><h3>Run history:</h3><br/><table class=\"wandb\"><tr><td>Train Accuracy</td><td>▁</td></tr><tr><td>Train_Loss</td><td>▁</td></tr><tr><td>Validation Accuracy</td><td>▁</td></tr><tr><td>Validation_Loss</td><td>▁</td></tr><tr><td>dropout_rate</td><td>▁</td></tr></table><br/></div><div class=\"wandb-col\"><h3>Run summary:</h3><br/><table class=\"wandb\"><tr><td>Train Accuracy</td><td>40.0836</td></tr><tr><td>Train_Loss</td><td>21.9373</td></tr><tr><td>Validation Accuracy</td><td>41.449</td></tr><tr><td>Validation_Loss</td><td>2.7031</td></tr><tr><td>dropout_rate</td><td>0.4</td></tr></table><br/></div></div>"
            ]
          },
          "metadata": {}
        },
        {
          "output_type": "display_data",
          "data": {
            "text/plain": [
              "<IPython.core.display.HTML object>"
            ],
            "text/html": [
              " View run <strong style=\"color:#cdcd00\">epoch_3</strong> at: <a href='https://wandb.ai/dshan21-free-university-of-tbilisi-/TrainingHumanEmotionDetector_Adam/runs/elqe7bef' target=\"_blank\">https://wandb.ai/dshan21-free-university-of-tbilisi-/TrainingHumanEmotionDetector_Adam/runs/elqe7bef</a><br> View project at: <a href='https://wandb.ai/dshan21-free-university-of-tbilisi-/TrainingHumanEmotionDetector_Adam' target=\"_blank\">https://wandb.ai/dshan21-free-university-of-tbilisi-/TrainingHumanEmotionDetector_Adam</a><br>Synced 5 W&B file(s), 0 media file(s), 0 artifact file(s) and 0 other file(s)"
            ]
          },
          "metadata": {}
        },
        {
          "output_type": "display_data",
          "data": {
            "text/plain": [
              "<IPython.core.display.HTML object>"
            ],
            "text/html": [
              "Find logs at: <code>./wandb/run-20250607_111921-elqe7bef/logs</code>"
            ]
          },
          "metadata": {}
        },
        {
          "output_type": "display_data",
          "data": {
            "text/plain": [
              "<IPython.core.display.HTML object>"
            ],
            "text/html": [
              "Tracking run with wandb version 0.20.1"
            ]
          },
          "metadata": {}
        },
        {
          "output_type": "display_data",
          "data": {
            "text/plain": [
              "<IPython.core.display.HTML object>"
            ],
            "text/html": [
              "Run data is saved locally in <code>/content/wandb/run-20250607_111933-w3nm9be8</code>"
            ]
          },
          "metadata": {}
        },
        {
          "output_type": "display_data",
          "data": {
            "text/plain": [
              "<IPython.core.display.HTML object>"
            ],
            "text/html": [
              "Syncing run <strong><a href='https://wandb.ai/dshan21-free-university-of-tbilisi-/TrainingHumanEmotionDetector_Adam/runs/w3nm9be8' target=\"_blank\">epoch_4</a></strong> to <a href='https://wandb.ai/dshan21-free-university-of-tbilisi-/TrainingHumanEmotionDetector_Adam' target=\"_blank\">Weights & Biases</a> (<a href='https://wandb.me/developer-guide' target=\"_blank\">docs</a>)<br>"
            ]
          },
          "metadata": {}
        },
        {
          "output_type": "display_data",
          "data": {
            "text/plain": [
              "<IPython.core.display.HTML object>"
            ],
            "text/html": [
              " View project at <a href='https://wandb.ai/dshan21-free-university-of-tbilisi-/TrainingHumanEmotionDetector_Adam' target=\"_blank\">https://wandb.ai/dshan21-free-university-of-tbilisi-/TrainingHumanEmotionDetector_Adam</a>"
            ]
          },
          "metadata": {}
        },
        {
          "output_type": "display_data",
          "data": {
            "text/plain": [
              "<IPython.core.display.HTML object>"
            ],
            "text/html": [
              " View run at <a href='https://wandb.ai/dshan21-free-university-of-tbilisi-/TrainingHumanEmotionDetector_Adam/runs/w3nm9be8' target=\"_blank\">https://wandb.ai/dshan21-free-university-of-tbilisi-/TrainingHumanEmotionDetector_Adam/runs/w3nm9be8</a>"
            ]
          },
          "metadata": {}
        },
        {
          "output_type": "stream",
          "name": "stdout",
          "text": [
            "Epoch 5/30, Train Loss: 21.5551 Train Accuracy 41.3376\n",
            "              Validation Loss: 2.7037 Validation Accuracy: 41.8321\n",
            "=========================\n"
          ]
        },
        {
          "output_type": "display_data",
          "data": {
            "text/plain": [
              "<IPython.core.display.HTML object>"
            ],
            "text/html": []
          },
          "metadata": {}
        },
        {
          "output_type": "display_data",
          "data": {
            "text/plain": [
              "<IPython.core.display.HTML object>"
            ],
            "text/html": [
              "<br>    <style><br>        .wandb-row {<br>            display: flex;<br>            flex-direction: row;<br>            flex-wrap: wrap;<br>            justify-content: flex-start;<br>            width: 100%;<br>        }<br>        .wandb-col {<br>            display: flex;<br>            flex-direction: column;<br>            flex-basis: 100%;<br>            flex: 1;<br>            padding: 10px;<br>        }<br>    </style><br><div class=\"wandb-row\"><div class=\"wandb-col\"><h3>Run history:</h3><br/><table class=\"wandb\"><tr><td>Train Accuracy</td><td>▁</td></tr><tr><td>Train_Loss</td><td>▁</td></tr><tr><td>Validation Accuracy</td><td>▁</td></tr><tr><td>Validation_Loss</td><td>▁</td></tr><tr><td>dropout_rate</td><td>▁</td></tr></table><br/></div><div class=\"wandb-col\"><h3>Run summary:</h3><br/><table class=\"wandb\"><tr><td>Train Accuracy</td><td>41.3376</td></tr><tr><td>Train_Loss</td><td>21.5551</td></tr><tr><td>Validation Accuracy</td><td>41.8321</td></tr><tr><td>Validation_Loss</td><td>2.7037</td></tr><tr><td>dropout_rate</td><td>0.4</td></tr></table><br/></div></div>"
            ]
          },
          "metadata": {}
        },
        {
          "output_type": "display_data",
          "data": {
            "text/plain": [
              "<IPython.core.display.HTML object>"
            ],
            "text/html": [
              " View run <strong style=\"color:#cdcd00\">epoch_4</strong> at: <a href='https://wandb.ai/dshan21-free-university-of-tbilisi-/TrainingHumanEmotionDetector_Adam/runs/w3nm9be8' target=\"_blank\">https://wandb.ai/dshan21-free-university-of-tbilisi-/TrainingHumanEmotionDetector_Adam/runs/w3nm9be8</a><br> View project at: <a href='https://wandb.ai/dshan21-free-university-of-tbilisi-/TrainingHumanEmotionDetector_Adam' target=\"_blank\">https://wandb.ai/dshan21-free-university-of-tbilisi-/TrainingHumanEmotionDetector_Adam</a><br>Synced 5 W&B file(s), 0 media file(s), 0 artifact file(s) and 0 other file(s)"
            ]
          },
          "metadata": {}
        },
        {
          "output_type": "display_data",
          "data": {
            "text/plain": [
              "<IPython.core.display.HTML object>"
            ],
            "text/html": [
              "Find logs at: <code>./wandb/run-20250607_111933-w3nm9be8/logs</code>"
            ]
          },
          "metadata": {}
        },
        {
          "output_type": "display_data",
          "data": {
            "text/plain": [
              "<IPython.core.display.HTML object>"
            ],
            "text/html": [
              "Tracking run with wandb version 0.20.1"
            ]
          },
          "metadata": {}
        },
        {
          "output_type": "display_data",
          "data": {
            "text/plain": [
              "<IPython.core.display.HTML object>"
            ],
            "text/html": [
              "Run data is saved locally in <code>/content/wandb/run-20250607_111945-u771dr0g</code>"
            ]
          },
          "metadata": {}
        },
        {
          "output_type": "display_data",
          "data": {
            "text/plain": [
              "<IPython.core.display.HTML object>"
            ],
            "text/html": [
              "Syncing run <strong><a href='https://wandb.ai/dshan21-free-university-of-tbilisi-/TrainingHumanEmotionDetector_Adam/runs/u771dr0g' target=\"_blank\">epoch_5</a></strong> to <a href='https://wandb.ai/dshan21-free-university-of-tbilisi-/TrainingHumanEmotionDetector_Adam' target=\"_blank\">Weights & Biases</a> (<a href='https://wandb.me/developer-guide' target=\"_blank\">docs</a>)<br>"
            ]
          },
          "metadata": {}
        },
        {
          "output_type": "display_data",
          "data": {
            "text/plain": [
              "<IPython.core.display.HTML object>"
            ],
            "text/html": [
              " View project at <a href='https://wandb.ai/dshan21-free-university-of-tbilisi-/TrainingHumanEmotionDetector_Adam' target=\"_blank\">https://wandb.ai/dshan21-free-university-of-tbilisi-/TrainingHumanEmotionDetector_Adam</a>"
            ]
          },
          "metadata": {}
        },
        {
          "output_type": "display_data",
          "data": {
            "text/plain": [
              "<IPython.core.display.HTML object>"
            ],
            "text/html": [
              " View run at <a href='https://wandb.ai/dshan21-free-university-of-tbilisi-/TrainingHumanEmotionDetector_Adam/runs/u771dr0g' target=\"_blank\">https://wandb.ai/dshan21-free-university-of-tbilisi-/TrainingHumanEmotionDetector_Adam/runs/u771dr0g</a>"
            ]
          },
          "metadata": {}
        },
        {
          "output_type": "stream",
          "name": "stdout",
          "text": [
            "Epoch 6/30, Train Loss: 21.09 Train Accuracy 42.2084\n",
            "              Validation Loss: 2.64 Validation Accuracy: 41.2748\n",
            "=========================\n"
          ]
        },
        {
          "output_type": "display_data",
          "data": {
            "text/plain": [
              "<IPython.core.display.HTML object>"
            ],
            "text/html": []
          },
          "metadata": {}
        },
        {
          "output_type": "display_data",
          "data": {
            "text/plain": [
              "<IPython.core.display.HTML object>"
            ],
            "text/html": [
              "<br>    <style><br>        .wandb-row {<br>            display: flex;<br>            flex-direction: row;<br>            flex-wrap: wrap;<br>            justify-content: flex-start;<br>            width: 100%;<br>        }<br>        .wandb-col {<br>            display: flex;<br>            flex-direction: column;<br>            flex-basis: 100%;<br>            flex: 1;<br>            padding: 10px;<br>        }<br>    </style><br><div class=\"wandb-row\"><div class=\"wandb-col\"><h3>Run history:</h3><br/><table class=\"wandb\"><tr><td>Train Accuracy</td><td>▁</td></tr><tr><td>Train_Loss</td><td>▁</td></tr><tr><td>Validation Accuracy</td><td>▁</td></tr><tr><td>Validation_Loss</td><td>▁</td></tr><tr><td>dropout_rate</td><td>▁</td></tr></table><br/></div><div class=\"wandb-col\"><h3>Run summary:</h3><br/><table class=\"wandb\"><tr><td>Train Accuracy</td><td>42.2084</td></tr><tr><td>Train_Loss</td><td>21.09</td></tr><tr><td>Validation Accuracy</td><td>41.2748</td></tr><tr><td>Validation_Loss</td><td>2.64</td></tr><tr><td>dropout_rate</td><td>0.4</td></tr></table><br/></div></div>"
            ]
          },
          "metadata": {}
        },
        {
          "output_type": "display_data",
          "data": {
            "text/plain": [
              "<IPython.core.display.HTML object>"
            ],
            "text/html": [
              " View run <strong style=\"color:#cdcd00\">epoch_5</strong> at: <a href='https://wandb.ai/dshan21-free-university-of-tbilisi-/TrainingHumanEmotionDetector_Adam/runs/u771dr0g' target=\"_blank\">https://wandb.ai/dshan21-free-university-of-tbilisi-/TrainingHumanEmotionDetector_Adam/runs/u771dr0g</a><br> View project at: <a href='https://wandb.ai/dshan21-free-university-of-tbilisi-/TrainingHumanEmotionDetector_Adam' target=\"_blank\">https://wandb.ai/dshan21-free-university-of-tbilisi-/TrainingHumanEmotionDetector_Adam</a><br>Synced 5 W&B file(s), 0 media file(s), 0 artifact file(s) and 0 other file(s)"
            ]
          },
          "metadata": {}
        },
        {
          "output_type": "display_data",
          "data": {
            "text/plain": [
              "<IPython.core.display.HTML object>"
            ],
            "text/html": [
              "Find logs at: <code>./wandb/run-20250607_111945-u771dr0g/logs</code>"
            ]
          },
          "metadata": {}
        },
        {
          "output_type": "display_data",
          "data": {
            "text/plain": [
              "<IPython.core.display.HTML object>"
            ],
            "text/html": [
              "Tracking run with wandb version 0.20.1"
            ]
          },
          "metadata": {}
        },
        {
          "output_type": "display_data",
          "data": {
            "text/plain": [
              "<IPython.core.display.HTML object>"
            ],
            "text/html": [
              "Run data is saved locally in <code>/content/wandb/run-20250607_111957-n0rxj0mb</code>"
            ]
          },
          "metadata": {}
        },
        {
          "output_type": "display_data",
          "data": {
            "text/plain": [
              "<IPython.core.display.HTML object>"
            ],
            "text/html": [
              "Syncing run <strong><a href='https://wandb.ai/dshan21-free-university-of-tbilisi-/TrainingHumanEmotionDetector_Adam/runs/n0rxj0mb' target=\"_blank\">epoch_6</a></strong> to <a href='https://wandb.ai/dshan21-free-university-of-tbilisi-/TrainingHumanEmotionDetector_Adam' target=\"_blank\">Weights & Biases</a> (<a href='https://wandb.me/developer-guide' target=\"_blank\">docs</a>)<br>"
            ]
          },
          "metadata": {}
        },
        {
          "output_type": "display_data",
          "data": {
            "text/plain": [
              "<IPython.core.display.HTML object>"
            ],
            "text/html": [
              " View project at <a href='https://wandb.ai/dshan21-free-university-of-tbilisi-/TrainingHumanEmotionDetector_Adam' target=\"_blank\">https://wandb.ai/dshan21-free-university-of-tbilisi-/TrainingHumanEmotionDetector_Adam</a>"
            ]
          },
          "metadata": {}
        },
        {
          "output_type": "display_data",
          "data": {
            "text/plain": [
              "<IPython.core.display.HTML object>"
            ],
            "text/html": [
              " View run at <a href='https://wandb.ai/dshan21-free-university-of-tbilisi-/TrainingHumanEmotionDetector_Adam/runs/n0rxj0mb' target=\"_blank\">https://wandb.ai/dshan21-free-university-of-tbilisi-/TrainingHumanEmotionDetector_Adam/runs/n0rxj0mb</a>"
            ]
          },
          "metadata": {}
        },
        {
          "output_type": "stream",
          "name": "stdout",
          "text": [
            "Epoch 7/30, Train Loss: 20.8923 Train Accuracy 42.5959\n",
            "              Validation Loss: 2.5735 Validation Accuracy: 45.2107\n",
            "=========================\n"
          ]
        },
        {
          "output_type": "display_data",
          "data": {
            "text/plain": [
              "<IPython.core.display.HTML object>"
            ],
            "text/html": []
          },
          "metadata": {}
        },
        {
          "output_type": "display_data",
          "data": {
            "text/plain": [
              "<IPython.core.display.HTML object>"
            ],
            "text/html": [
              "<br>    <style><br>        .wandb-row {<br>            display: flex;<br>            flex-direction: row;<br>            flex-wrap: wrap;<br>            justify-content: flex-start;<br>            width: 100%;<br>        }<br>        .wandb-col {<br>            display: flex;<br>            flex-direction: column;<br>            flex-basis: 100%;<br>            flex: 1;<br>            padding: 10px;<br>        }<br>    </style><br><div class=\"wandb-row\"><div class=\"wandb-col\"><h3>Run history:</h3><br/><table class=\"wandb\"><tr><td>Train Accuracy</td><td>▁</td></tr><tr><td>Train_Loss</td><td>▁</td></tr><tr><td>Validation Accuracy</td><td>▁</td></tr><tr><td>Validation_Loss</td><td>▁</td></tr><tr><td>dropout_rate</td><td>▁</td></tr></table><br/></div><div class=\"wandb-col\"><h3>Run summary:</h3><br/><table class=\"wandb\"><tr><td>Train Accuracy</td><td>42.5959</td></tr><tr><td>Train_Loss</td><td>20.8923</td></tr><tr><td>Validation Accuracy</td><td>45.2107</td></tr><tr><td>Validation_Loss</td><td>2.5735</td></tr><tr><td>dropout_rate</td><td>0.4</td></tr></table><br/></div></div>"
            ]
          },
          "metadata": {}
        },
        {
          "output_type": "display_data",
          "data": {
            "text/plain": [
              "<IPython.core.display.HTML object>"
            ],
            "text/html": [
              " View run <strong style=\"color:#cdcd00\">epoch_6</strong> at: <a href='https://wandb.ai/dshan21-free-university-of-tbilisi-/TrainingHumanEmotionDetector_Adam/runs/n0rxj0mb' target=\"_blank\">https://wandb.ai/dshan21-free-university-of-tbilisi-/TrainingHumanEmotionDetector_Adam/runs/n0rxj0mb</a><br> View project at: <a href='https://wandb.ai/dshan21-free-university-of-tbilisi-/TrainingHumanEmotionDetector_Adam' target=\"_blank\">https://wandb.ai/dshan21-free-university-of-tbilisi-/TrainingHumanEmotionDetector_Adam</a><br>Synced 5 W&B file(s), 0 media file(s), 0 artifact file(s) and 0 other file(s)"
            ]
          },
          "metadata": {}
        },
        {
          "output_type": "display_data",
          "data": {
            "text/plain": [
              "<IPython.core.display.HTML object>"
            ],
            "text/html": [
              "Find logs at: <code>./wandb/run-20250607_111957-n0rxj0mb/logs</code>"
            ]
          },
          "metadata": {}
        },
        {
          "output_type": "display_data",
          "data": {
            "text/plain": [
              "<IPython.core.display.HTML object>"
            ],
            "text/html": [
              "Tracking run with wandb version 0.20.1"
            ]
          },
          "metadata": {}
        },
        {
          "output_type": "display_data",
          "data": {
            "text/plain": [
              "<IPython.core.display.HTML object>"
            ],
            "text/html": [
              "Run data is saved locally in <code>/content/wandb/run-20250607_112010-sw268w3b</code>"
            ]
          },
          "metadata": {}
        },
        {
          "output_type": "display_data",
          "data": {
            "text/plain": [
              "<IPython.core.display.HTML object>"
            ],
            "text/html": [
              "Syncing run <strong><a href='https://wandb.ai/dshan21-free-university-of-tbilisi-/TrainingHumanEmotionDetector_Adam/runs/sw268w3b' target=\"_blank\">epoch_7</a></strong> to <a href='https://wandb.ai/dshan21-free-university-of-tbilisi-/TrainingHumanEmotionDetector_Adam' target=\"_blank\">Weights & Biases</a> (<a href='https://wandb.me/developer-guide' target=\"_blank\">docs</a>)<br>"
            ]
          },
          "metadata": {}
        },
        {
          "output_type": "display_data",
          "data": {
            "text/plain": [
              "<IPython.core.display.HTML object>"
            ],
            "text/html": [
              " View project at <a href='https://wandb.ai/dshan21-free-university-of-tbilisi-/TrainingHumanEmotionDetector_Adam' target=\"_blank\">https://wandb.ai/dshan21-free-university-of-tbilisi-/TrainingHumanEmotionDetector_Adam</a>"
            ]
          },
          "metadata": {}
        },
        {
          "output_type": "display_data",
          "data": {
            "text/plain": [
              "<IPython.core.display.HTML object>"
            ],
            "text/html": [
              " View run at <a href='https://wandb.ai/dshan21-free-university-of-tbilisi-/TrainingHumanEmotionDetector_Adam/runs/sw268w3b' target=\"_blank\">https://wandb.ai/dshan21-free-university-of-tbilisi-/TrainingHumanEmotionDetector_Adam/runs/sw268w3b</a>"
            ]
          },
          "metadata": {}
        },
        {
          "output_type": "stream",
          "name": "stdout",
          "text": [
            "Epoch 8/30, Train Loss: 20.4951 Train Accuracy 44.3158\n",
            "              Validation Loss: 2.5578 Validation Accuracy: 44.5489\n",
            "=========================\n"
          ]
        },
        {
          "output_type": "display_data",
          "data": {
            "text/plain": [
              "<IPython.core.display.HTML object>"
            ],
            "text/html": []
          },
          "metadata": {}
        },
        {
          "output_type": "display_data",
          "data": {
            "text/plain": [
              "<IPython.core.display.HTML object>"
            ],
            "text/html": [
              "<br>    <style><br>        .wandb-row {<br>            display: flex;<br>            flex-direction: row;<br>            flex-wrap: wrap;<br>            justify-content: flex-start;<br>            width: 100%;<br>        }<br>        .wandb-col {<br>            display: flex;<br>            flex-direction: column;<br>            flex-basis: 100%;<br>            flex: 1;<br>            padding: 10px;<br>        }<br>    </style><br><div class=\"wandb-row\"><div class=\"wandb-col\"><h3>Run history:</h3><br/><table class=\"wandb\"><tr><td>Train Accuracy</td><td>▁</td></tr><tr><td>Train_Loss</td><td>▁</td></tr><tr><td>Validation Accuracy</td><td>▁</td></tr><tr><td>Validation_Loss</td><td>▁</td></tr><tr><td>dropout_rate</td><td>▁</td></tr></table><br/></div><div class=\"wandb-col\"><h3>Run summary:</h3><br/><table class=\"wandb\"><tr><td>Train Accuracy</td><td>44.3158</td></tr><tr><td>Train_Loss</td><td>20.4951</td></tr><tr><td>Validation Accuracy</td><td>44.5489</td></tr><tr><td>Validation_Loss</td><td>2.5578</td></tr><tr><td>dropout_rate</td><td>0.4</td></tr></table><br/></div></div>"
            ]
          },
          "metadata": {}
        },
        {
          "output_type": "display_data",
          "data": {
            "text/plain": [
              "<IPython.core.display.HTML object>"
            ],
            "text/html": [
              " View run <strong style=\"color:#cdcd00\">epoch_7</strong> at: <a href='https://wandb.ai/dshan21-free-university-of-tbilisi-/TrainingHumanEmotionDetector_Adam/runs/sw268w3b' target=\"_blank\">https://wandb.ai/dshan21-free-university-of-tbilisi-/TrainingHumanEmotionDetector_Adam/runs/sw268w3b</a><br> View project at: <a href='https://wandb.ai/dshan21-free-university-of-tbilisi-/TrainingHumanEmotionDetector_Adam' target=\"_blank\">https://wandb.ai/dshan21-free-university-of-tbilisi-/TrainingHumanEmotionDetector_Adam</a><br>Synced 5 W&B file(s), 0 media file(s), 0 artifact file(s) and 0 other file(s)"
            ]
          },
          "metadata": {}
        },
        {
          "output_type": "display_data",
          "data": {
            "text/plain": [
              "<IPython.core.display.HTML object>"
            ],
            "text/html": [
              "Find logs at: <code>./wandb/run-20250607_112010-sw268w3b/logs</code>"
            ]
          },
          "metadata": {}
        },
        {
          "output_type": "display_data",
          "data": {
            "text/plain": [
              "<IPython.core.display.HTML object>"
            ],
            "text/html": [
              "Tracking run with wandb version 0.20.1"
            ]
          },
          "metadata": {}
        },
        {
          "output_type": "display_data",
          "data": {
            "text/plain": [
              "<IPython.core.display.HTML object>"
            ],
            "text/html": [
              "Run data is saved locally in <code>/content/wandb/run-20250607_112023-zwocjiu7</code>"
            ]
          },
          "metadata": {}
        },
        {
          "output_type": "display_data",
          "data": {
            "text/plain": [
              "<IPython.core.display.HTML object>"
            ],
            "text/html": [
              "Syncing run <strong><a href='https://wandb.ai/dshan21-free-university-of-tbilisi-/TrainingHumanEmotionDetector_Adam/runs/zwocjiu7' target=\"_blank\">epoch_8</a></strong> to <a href='https://wandb.ai/dshan21-free-university-of-tbilisi-/TrainingHumanEmotionDetector_Adam' target=\"_blank\">Weights & Biases</a> (<a href='https://wandb.me/developer-guide' target=\"_blank\">docs</a>)<br>"
            ]
          },
          "metadata": {}
        },
        {
          "output_type": "display_data",
          "data": {
            "text/plain": [
              "<IPython.core.display.HTML object>"
            ],
            "text/html": [
              " View project at <a href='https://wandb.ai/dshan21-free-university-of-tbilisi-/TrainingHumanEmotionDetector_Adam' target=\"_blank\">https://wandb.ai/dshan21-free-university-of-tbilisi-/TrainingHumanEmotionDetector_Adam</a>"
            ]
          },
          "metadata": {}
        },
        {
          "output_type": "display_data",
          "data": {
            "text/plain": [
              "<IPython.core.display.HTML object>"
            ],
            "text/html": [
              " View run at <a href='https://wandb.ai/dshan21-free-university-of-tbilisi-/TrainingHumanEmotionDetector_Adam/runs/zwocjiu7' target=\"_blank\">https://wandb.ai/dshan21-free-university-of-tbilisi-/TrainingHumanEmotionDetector_Adam/runs/zwocjiu7</a>"
            ]
          },
          "metadata": {}
        },
        {
          "output_type": "stream",
          "name": "stdout",
          "text": [
            "Epoch 9/30, Train Loss: 20.1337 Train Accuracy 45.3215\n",
            "              Validation Loss: 2.527 Validation Accuracy: 46.7781\n",
            "=========================\n"
          ]
        },
        {
          "output_type": "display_data",
          "data": {
            "text/plain": [
              "<IPython.core.display.HTML object>"
            ],
            "text/html": []
          },
          "metadata": {}
        },
        {
          "output_type": "display_data",
          "data": {
            "text/plain": [
              "<IPython.core.display.HTML object>"
            ],
            "text/html": [
              "<br>    <style><br>        .wandb-row {<br>            display: flex;<br>            flex-direction: row;<br>            flex-wrap: wrap;<br>            justify-content: flex-start;<br>            width: 100%;<br>        }<br>        .wandb-col {<br>            display: flex;<br>            flex-direction: column;<br>            flex-basis: 100%;<br>            flex: 1;<br>            padding: 10px;<br>        }<br>    </style><br><div class=\"wandb-row\"><div class=\"wandb-col\"><h3>Run history:</h3><br/><table class=\"wandb\"><tr><td>Train Accuracy</td><td>▁</td></tr><tr><td>Train_Loss</td><td>▁</td></tr><tr><td>Validation Accuracy</td><td>▁</td></tr><tr><td>Validation_Loss</td><td>▁</td></tr><tr><td>dropout_rate</td><td>▁</td></tr></table><br/></div><div class=\"wandb-col\"><h3>Run summary:</h3><br/><table class=\"wandb\"><tr><td>Train Accuracy</td><td>45.3215</td></tr><tr><td>Train_Loss</td><td>20.1337</td></tr><tr><td>Validation Accuracy</td><td>46.7781</td></tr><tr><td>Validation_Loss</td><td>2.527</td></tr><tr><td>dropout_rate</td><td>0.4</td></tr></table><br/></div></div>"
            ]
          },
          "metadata": {}
        },
        {
          "output_type": "display_data",
          "data": {
            "text/plain": [
              "<IPython.core.display.HTML object>"
            ],
            "text/html": [
              " View run <strong style=\"color:#cdcd00\">epoch_8</strong> at: <a href='https://wandb.ai/dshan21-free-university-of-tbilisi-/TrainingHumanEmotionDetector_Adam/runs/zwocjiu7' target=\"_blank\">https://wandb.ai/dshan21-free-university-of-tbilisi-/TrainingHumanEmotionDetector_Adam/runs/zwocjiu7</a><br> View project at: <a href='https://wandb.ai/dshan21-free-university-of-tbilisi-/TrainingHumanEmotionDetector_Adam' target=\"_blank\">https://wandb.ai/dshan21-free-university-of-tbilisi-/TrainingHumanEmotionDetector_Adam</a><br>Synced 5 W&B file(s), 0 media file(s), 0 artifact file(s) and 0 other file(s)"
            ]
          },
          "metadata": {}
        },
        {
          "output_type": "display_data",
          "data": {
            "text/plain": [
              "<IPython.core.display.HTML object>"
            ],
            "text/html": [
              "Find logs at: <code>./wandb/run-20250607_112023-zwocjiu7/logs</code>"
            ]
          },
          "metadata": {}
        },
        {
          "output_type": "display_data",
          "data": {
            "text/plain": [
              "<IPython.core.display.HTML object>"
            ],
            "text/html": [
              "Tracking run with wandb version 0.20.1"
            ]
          },
          "metadata": {}
        },
        {
          "output_type": "display_data",
          "data": {
            "text/plain": [
              "<IPython.core.display.HTML object>"
            ],
            "text/html": [
              "Run data is saved locally in <code>/content/wandb/run-20250607_112036-z0pi6mqb</code>"
            ]
          },
          "metadata": {}
        },
        {
          "output_type": "display_data",
          "data": {
            "text/plain": [
              "<IPython.core.display.HTML object>"
            ],
            "text/html": [
              "Syncing run <strong><a href='https://wandb.ai/dshan21-free-university-of-tbilisi-/TrainingHumanEmotionDetector_Adam/runs/z0pi6mqb' target=\"_blank\">epoch_9</a></strong> to <a href='https://wandb.ai/dshan21-free-university-of-tbilisi-/TrainingHumanEmotionDetector_Adam' target=\"_blank\">Weights & Biases</a> (<a href='https://wandb.me/developer-guide' target=\"_blank\">docs</a>)<br>"
            ]
          },
          "metadata": {}
        },
        {
          "output_type": "display_data",
          "data": {
            "text/plain": [
              "<IPython.core.display.HTML object>"
            ],
            "text/html": [
              " View project at <a href='https://wandb.ai/dshan21-free-university-of-tbilisi-/TrainingHumanEmotionDetector_Adam' target=\"_blank\">https://wandb.ai/dshan21-free-university-of-tbilisi-/TrainingHumanEmotionDetector_Adam</a>"
            ]
          },
          "metadata": {}
        },
        {
          "output_type": "display_data",
          "data": {
            "text/plain": [
              "<IPython.core.display.HTML object>"
            ],
            "text/html": [
              " View run at <a href='https://wandb.ai/dshan21-free-university-of-tbilisi-/TrainingHumanEmotionDetector_Adam/runs/z0pi6mqb' target=\"_blank\">https://wandb.ai/dshan21-free-university-of-tbilisi-/TrainingHumanEmotionDetector_Adam/runs/z0pi6mqb</a>"
            ]
          },
          "metadata": {}
        },
        {
          "output_type": "stream",
          "name": "stdout",
          "text": [
            "Epoch 10/30, Train Loss: 19.7015 Train Accuracy 46.9282\n",
            "              Validation Loss: 2.4504 Validation Accuracy: 47.3354\n",
            "=========================\n"
          ]
        },
        {
          "output_type": "display_data",
          "data": {
            "text/plain": [
              "<IPython.core.display.HTML object>"
            ],
            "text/html": []
          },
          "metadata": {}
        },
        {
          "output_type": "display_data",
          "data": {
            "text/plain": [
              "<IPython.core.display.HTML object>"
            ],
            "text/html": [
              "<br>    <style><br>        .wandb-row {<br>            display: flex;<br>            flex-direction: row;<br>            flex-wrap: wrap;<br>            justify-content: flex-start;<br>            width: 100%;<br>        }<br>        .wandb-col {<br>            display: flex;<br>            flex-direction: column;<br>            flex-basis: 100%;<br>            flex: 1;<br>            padding: 10px;<br>        }<br>    </style><br><div class=\"wandb-row\"><div class=\"wandb-col\"><h3>Run history:</h3><br/><table class=\"wandb\"><tr><td>Train Accuracy</td><td>▁</td></tr><tr><td>Train_Loss</td><td>▁</td></tr><tr><td>Validation Accuracy</td><td>▁</td></tr><tr><td>Validation_Loss</td><td>▁</td></tr><tr><td>dropout_rate</td><td>▁</td></tr></table><br/></div><div class=\"wandb-col\"><h3>Run summary:</h3><br/><table class=\"wandb\"><tr><td>Train Accuracy</td><td>46.9282</td></tr><tr><td>Train_Loss</td><td>19.7015</td></tr><tr><td>Validation Accuracy</td><td>47.3354</td></tr><tr><td>Validation_Loss</td><td>2.4504</td></tr><tr><td>dropout_rate</td><td>0.4</td></tr></table><br/></div></div>"
            ]
          },
          "metadata": {}
        },
        {
          "output_type": "display_data",
          "data": {
            "text/plain": [
              "<IPython.core.display.HTML object>"
            ],
            "text/html": [
              " View run <strong style=\"color:#cdcd00\">epoch_9</strong> at: <a href='https://wandb.ai/dshan21-free-university-of-tbilisi-/TrainingHumanEmotionDetector_Adam/runs/z0pi6mqb' target=\"_blank\">https://wandb.ai/dshan21-free-university-of-tbilisi-/TrainingHumanEmotionDetector_Adam/runs/z0pi6mqb</a><br> View project at: <a href='https://wandb.ai/dshan21-free-university-of-tbilisi-/TrainingHumanEmotionDetector_Adam' target=\"_blank\">https://wandb.ai/dshan21-free-university-of-tbilisi-/TrainingHumanEmotionDetector_Adam</a><br>Synced 5 W&B file(s), 0 media file(s), 0 artifact file(s) and 0 other file(s)"
            ]
          },
          "metadata": {}
        },
        {
          "output_type": "display_data",
          "data": {
            "text/plain": [
              "<IPython.core.display.HTML object>"
            ],
            "text/html": [
              "Find logs at: <code>./wandb/run-20250607_112036-z0pi6mqb/logs</code>"
            ]
          },
          "metadata": {}
        },
        {
          "output_type": "display_data",
          "data": {
            "text/plain": [
              "<IPython.core.display.HTML object>"
            ],
            "text/html": [
              "Tracking run with wandb version 0.20.1"
            ]
          },
          "metadata": {}
        },
        {
          "output_type": "display_data",
          "data": {
            "text/plain": [
              "<IPython.core.display.HTML object>"
            ],
            "text/html": [
              "Run data is saved locally in <code>/content/wandb/run-20250607_112049-xzn7zrol</code>"
            ]
          },
          "metadata": {}
        },
        {
          "output_type": "display_data",
          "data": {
            "text/plain": [
              "<IPython.core.display.HTML object>"
            ],
            "text/html": [
              "Syncing run <strong><a href='https://wandb.ai/dshan21-free-university-of-tbilisi-/TrainingHumanEmotionDetector_Adam/runs/xzn7zrol' target=\"_blank\">epoch_10</a></strong> to <a href='https://wandb.ai/dshan21-free-university-of-tbilisi-/TrainingHumanEmotionDetector_Adam' target=\"_blank\">Weights & Biases</a> (<a href='https://wandb.me/developer-guide' target=\"_blank\">docs</a>)<br>"
            ]
          },
          "metadata": {}
        },
        {
          "output_type": "display_data",
          "data": {
            "text/plain": [
              "<IPython.core.display.HTML object>"
            ],
            "text/html": [
              " View project at <a href='https://wandb.ai/dshan21-free-university-of-tbilisi-/TrainingHumanEmotionDetector_Adam' target=\"_blank\">https://wandb.ai/dshan21-free-university-of-tbilisi-/TrainingHumanEmotionDetector_Adam</a>"
            ]
          },
          "metadata": {}
        },
        {
          "output_type": "display_data",
          "data": {
            "text/plain": [
              "<IPython.core.display.HTML object>"
            ],
            "text/html": [
              " View run at <a href='https://wandb.ai/dshan21-free-university-of-tbilisi-/TrainingHumanEmotionDetector_Adam/runs/xzn7zrol' target=\"_blank\">https://wandb.ai/dshan21-free-university-of-tbilisi-/TrainingHumanEmotionDetector_Adam/runs/xzn7zrol</a>"
            ]
          },
          "metadata": {}
        },
        {
          "output_type": "stream",
          "name": "stdout",
          "text": [
            "Epoch 11/30, Train Loss: 19.238 Train Accuracy 48.5784\n",
            "              Validation Loss: 2.4089 Validation Accuracy: 48.4848\n",
            "=========================\n"
          ]
        },
        {
          "output_type": "display_data",
          "data": {
            "text/plain": [
              "<IPython.core.display.HTML object>"
            ],
            "text/html": []
          },
          "metadata": {}
        },
        {
          "output_type": "display_data",
          "data": {
            "text/plain": [
              "<IPython.core.display.HTML object>"
            ],
            "text/html": [
              "<br>    <style><br>        .wandb-row {<br>            display: flex;<br>            flex-direction: row;<br>            flex-wrap: wrap;<br>            justify-content: flex-start;<br>            width: 100%;<br>        }<br>        .wandb-col {<br>            display: flex;<br>            flex-direction: column;<br>            flex-basis: 100%;<br>            flex: 1;<br>            padding: 10px;<br>        }<br>    </style><br><div class=\"wandb-row\"><div class=\"wandb-col\"><h3>Run history:</h3><br/><table class=\"wandb\"><tr><td>Train Accuracy</td><td>▁</td></tr><tr><td>Train_Loss</td><td>▁</td></tr><tr><td>Validation Accuracy</td><td>▁</td></tr><tr><td>Validation_Loss</td><td>▁</td></tr><tr><td>dropout_rate</td><td>▁</td></tr></table><br/></div><div class=\"wandb-col\"><h3>Run summary:</h3><br/><table class=\"wandb\"><tr><td>Train Accuracy</td><td>48.5784</td></tr><tr><td>Train_Loss</td><td>19.238</td></tr><tr><td>Validation Accuracy</td><td>48.4848</td></tr><tr><td>Validation_Loss</td><td>2.4089</td></tr><tr><td>dropout_rate</td><td>0.4</td></tr></table><br/></div></div>"
            ]
          },
          "metadata": {}
        },
        {
          "output_type": "display_data",
          "data": {
            "text/plain": [
              "<IPython.core.display.HTML object>"
            ],
            "text/html": [
              " View run <strong style=\"color:#cdcd00\">epoch_10</strong> at: <a href='https://wandb.ai/dshan21-free-university-of-tbilisi-/TrainingHumanEmotionDetector_Adam/runs/xzn7zrol' target=\"_blank\">https://wandb.ai/dshan21-free-university-of-tbilisi-/TrainingHumanEmotionDetector_Adam/runs/xzn7zrol</a><br> View project at: <a href='https://wandb.ai/dshan21-free-university-of-tbilisi-/TrainingHumanEmotionDetector_Adam' target=\"_blank\">https://wandb.ai/dshan21-free-university-of-tbilisi-/TrainingHumanEmotionDetector_Adam</a><br>Synced 5 W&B file(s), 0 media file(s), 0 artifact file(s) and 0 other file(s)"
            ]
          },
          "metadata": {}
        },
        {
          "output_type": "display_data",
          "data": {
            "text/plain": [
              "<IPython.core.display.HTML object>"
            ],
            "text/html": [
              "Find logs at: <code>./wandb/run-20250607_112049-xzn7zrol/logs</code>"
            ]
          },
          "metadata": {}
        },
        {
          "output_type": "display_data",
          "data": {
            "text/plain": [
              "<IPython.core.display.HTML object>"
            ],
            "text/html": [
              "Tracking run with wandb version 0.20.1"
            ]
          },
          "metadata": {}
        },
        {
          "output_type": "display_data",
          "data": {
            "text/plain": [
              "<IPython.core.display.HTML object>"
            ],
            "text/html": [
              "Run data is saved locally in <code>/content/wandb/run-20250607_112101-d66jqye9</code>"
            ]
          },
          "metadata": {}
        },
        {
          "output_type": "display_data",
          "data": {
            "text/plain": [
              "<IPython.core.display.HTML object>"
            ],
            "text/html": [
              "Syncing run <strong><a href='https://wandb.ai/dshan21-free-university-of-tbilisi-/TrainingHumanEmotionDetector_Adam/runs/d66jqye9' target=\"_blank\">epoch_11</a></strong> to <a href='https://wandb.ai/dshan21-free-university-of-tbilisi-/TrainingHumanEmotionDetector_Adam' target=\"_blank\">Weights & Biases</a> (<a href='https://wandb.me/developer-guide' target=\"_blank\">docs</a>)<br>"
            ]
          },
          "metadata": {}
        },
        {
          "output_type": "display_data",
          "data": {
            "text/plain": [
              "<IPython.core.display.HTML object>"
            ],
            "text/html": [
              " View project at <a href='https://wandb.ai/dshan21-free-university-of-tbilisi-/TrainingHumanEmotionDetector_Adam' target=\"_blank\">https://wandb.ai/dshan21-free-university-of-tbilisi-/TrainingHumanEmotionDetector_Adam</a>"
            ]
          },
          "metadata": {}
        },
        {
          "output_type": "display_data",
          "data": {
            "text/plain": [
              "<IPython.core.display.HTML object>"
            ],
            "text/html": [
              " View run at <a href='https://wandb.ai/dshan21-free-university-of-tbilisi-/TrainingHumanEmotionDetector_Adam/runs/d66jqye9' target=\"_blank\">https://wandb.ai/dshan21-free-university-of-tbilisi-/TrainingHumanEmotionDetector_Adam/runs/d66jqye9</a>"
            ]
          },
          "metadata": {}
        },
        {
          "output_type": "stream",
          "name": "stdout",
          "text": [
            "Epoch 12/30, Train Loss: 19.077 Train Accuracy 49.3273\n",
            "              Validation Loss: 2.4079 Validation Accuracy: 48.8332\n",
            "=========================\n"
          ]
        },
        {
          "output_type": "display_data",
          "data": {
            "text/plain": [
              "<IPython.core.display.HTML object>"
            ],
            "text/html": []
          },
          "metadata": {}
        },
        {
          "output_type": "display_data",
          "data": {
            "text/plain": [
              "<IPython.core.display.HTML object>"
            ],
            "text/html": [
              "<br>    <style><br>        .wandb-row {<br>            display: flex;<br>            flex-direction: row;<br>            flex-wrap: wrap;<br>            justify-content: flex-start;<br>            width: 100%;<br>        }<br>        .wandb-col {<br>            display: flex;<br>            flex-direction: column;<br>            flex-basis: 100%;<br>            flex: 1;<br>            padding: 10px;<br>        }<br>    </style><br><div class=\"wandb-row\"><div class=\"wandb-col\"><h3>Run history:</h3><br/><table class=\"wandb\"><tr><td>Train Accuracy</td><td>▁</td></tr><tr><td>Train_Loss</td><td>▁</td></tr><tr><td>Validation Accuracy</td><td>▁</td></tr><tr><td>Validation_Loss</td><td>▁</td></tr><tr><td>dropout_rate</td><td>▁</td></tr></table><br/></div><div class=\"wandb-col\"><h3>Run summary:</h3><br/><table class=\"wandb\"><tr><td>Train Accuracy</td><td>49.3273</td></tr><tr><td>Train_Loss</td><td>19.077</td></tr><tr><td>Validation Accuracy</td><td>48.8332</td></tr><tr><td>Validation_Loss</td><td>2.4079</td></tr><tr><td>dropout_rate</td><td>0.4</td></tr></table><br/></div></div>"
            ]
          },
          "metadata": {}
        },
        {
          "output_type": "display_data",
          "data": {
            "text/plain": [
              "<IPython.core.display.HTML object>"
            ],
            "text/html": [
              " View run <strong style=\"color:#cdcd00\">epoch_11</strong> at: <a href='https://wandb.ai/dshan21-free-university-of-tbilisi-/TrainingHumanEmotionDetector_Adam/runs/d66jqye9' target=\"_blank\">https://wandb.ai/dshan21-free-university-of-tbilisi-/TrainingHumanEmotionDetector_Adam/runs/d66jqye9</a><br> View project at: <a href='https://wandb.ai/dshan21-free-university-of-tbilisi-/TrainingHumanEmotionDetector_Adam' target=\"_blank\">https://wandb.ai/dshan21-free-university-of-tbilisi-/TrainingHumanEmotionDetector_Adam</a><br>Synced 5 W&B file(s), 0 media file(s), 0 artifact file(s) and 0 other file(s)"
            ]
          },
          "metadata": {}
        },
        {
          "output_type": "display_data",
          "data": {
            "text/plain": [
              "<IPython.core.display.HTML object>"
            ],
            "text/html": [
              "Find logs at: <code>./wandb/run-20250607_112101-d66jqye9/logs</code>"
            ]
          },
          "metadata": {}
        },
        {
          "output_type": "display_data",
          "data": {
            "text/plain": [
              "<IPython.core.display.HTML object>"
            ],
            "text/html": [
              "Tracking run with wandb version 0.20.1"
            ]
          },
          "metadata": {}
        },
        {
          "output_type": "display_data",
          "data": {
            "text/plain": [
              "<IPython.core.display.HTML object>"
            ],
            "text/html": [
              "Run data is saved locally in <code>/content/wandb/run-20250607_112114-8x7kw2bz</code>"
            ]
          },
          "metadata": {}
        },
        {
          "output_type": "display_data",
          "data": {
            "text/plain": [
              "<IPython.core.display.HTML object>"
            ],
            "text/html": [
              "Syncing run <strong><a href='https://wandb.ai/dshan21-free-university-of-tbilisi-/TrainingHumanEmotionDetector_Adam/runs/8x7kw2bz' target=\"_blank\">epoch_12</a></strong> to <a href='https://wandb.ai/dshan21-free-university-of-tbilisi-/TrainingHumanEmotionDetector_Adam' target=\"_blank\">Weights & Biases</a> (<a href='https://wandb.me/developer-guide' target=\"_blank\">docs</a>)<br>"
            ]
          },
          "metadata": {}
        },
        {
          "output_type": "display_data",
          "data": {
            "text/plain": [
              "<IPython.core.display.HTML object>"
            ],
            "text/html": [
              " View project at <a href='https://wandb.ai/dshan21-free-university-of-tbilisi-/TrainingHumanEmotionDetector_Adam' target=\"_blank\">https://wandb.ai/dshan21-free-university-of-tbilisi-/TrainingHumanEmotionDetector_Adam</a>"
            ]
          },
          "metadata": {}
        },
        {
          "output_type": "display_data",
          "data": {
            "text/plain": [
              "<IPython.core.display.HTML object>"
            ],
            "text/html": [
              " View run at <a href='https://wandb.ai/dshan21-free-university-of-tbilisi-/TrainingHumanEmotionDetector_Adam/runs/8x7kw2bz' target=\"_blank\">https://wandb.ai/dshan21-free-university-of-tbilisi-/TrainingHumanEmotionDetector_Adam/runs/8x7kw2bz</a>"
            ]
          },
          "metadata": {}
        },
        {
          "output_type": "stream",
          "name": "stdout",
          "text": [
            "Epoch 13/30, Train Loss: 18.726 Train Accuracy 50.1197\n",
            "              Validation Loss: 2.4258 Validation Accuracy: 49.4949\n",
            "=========================\n"
          ]
        },
        {
          "output_type": "display_data",
          "data": {
            "text/plain": [
              "<IPython.core.display.HTML object>"
            ],
            "text/html": []
          },
          "metadata": {}
        },
        {
          "output_type": "display_data",
          "data": {
            "text/plain": [
              "<IPython.core.display.HTML object>"
            ],
            "text/html": [
              "<br>    <style><br>        .wandb-row {<br>            display: flex;<br>            flex-direction: row;<br>            flex-wrap: wrap;<br>            justify-content: flex-start;<br>            width: 100%;<br>        }<br>        .wandb-col {<br>            display: flex;<br>            flex-direction: column;<br>            flex-basis: 100%;<br>            flex: 1;<br>            padding: 10px;<br>        }<br>    </style><br><div class=\"wandb-row\"><div class=\"wandb-col\"><h3>Run history:</h3><br/><table class=\"wandb\"><tr><td>Train Accuracy</td><td>▁</td></tr><tr><td>Train_Loss</td><td>▁</td></tr><tr><td>Validation Accuracy</td><td>▁</td></tr><tr><td>Validation_Loss</td><td>▁</td></tr><tr><td>dropout_rate</td><td>▁</td></tr></table><br/></div><div class=\"wandb-col\"><h3>Run summary:</h3><br/><table class=\"wandb\"><tr><td>Train Accuracy</td><td>50.1197</td></tr><tr><td>Train_Loss</td><td>18.726</td></tr><tr><td>Validation Accuracy</td><td>49.4949</td></tr><tr><td>Validation_Loss</td><td>2.4258</td></tr><tr><td>dropout_rate</td><td>0.4</td></tr></table><br/></div></div>"
            ]
          },
          "metadata": {}
        },
        {
          "output_type": "display_data",
          "data": {
            "text/plain": [
              "<IPython.core.display.HTML object>"
            ],
            "text/html": [
              " View run <strong style=\"color:#cdcd00\">epoch_12</strong> at: <a href='https://wandb.ai/dshan21-free-university-of-tbilisi-/TrainingHumanEmotionDetector_Adam/runs/8x7kw2bz' target=\"_blank\">https://wandb.ai/dshan21-free-university-of-tbilisi-/TrainingHumanEmotionDetector_Adam/runs/8x7kw2bz</a><br> View project at: <a href='https://wandb.ai/dshan21-free-university-of-tbilisi-/TrainingHumanEmotionDetector_Adam' target=\"_blank\">https://wandb.ai/dshan21-free-university-of-tbilisi-/TrainingHumanEmotionDetector_Adam</a><br>Synced 5 W&B file(s), 0 media file(s), 0 artifact file(s) and 0 other file(s)"
            ]
          },
          "metadata": {}
        },
        {
          "output_type": "display_data",
          "data": {
            "text/plain": [
              "<IPython.core.display.HTML object>"
            ],
            "text/html": [
              "Find logs at: <code>./wandb/run-20250607_112114-8x7kw2bz/logs</code>"
            ]
          },
          "metadata": {}
        },
        {
          "output_type": "display_data",
          "data": {
            "text/plain": [
              "<IPython.core.display.HTML object>"
            ],
            "text/html": [
              "Tracking run with wandb version 0.20.1"
            ]
          },
          "metadata": {}
        },
        {
          "output_type": "display_data",
          "data": {
            "text/plain": [
              "<IPython.core.display.HTML object>"
            ],
            "text/html": [
              "Run data is saved locally in <code>/content/wandb/run-20250607_112125-j7icefri</code>"
            ]
          },
          "metadata": {}
        },
        {
          "output_type": "display_data",
          "data": {
            "text/plain": [
              "<IPython.core.display.HTML object>"
            ],
            "text/html": [
              "Syncing run <strong><a href='https://wandb.ai/dshan21-free-university-of-tbilisi-/TrainingHumanEmotionDetector_Adam/runs/j7icefri' target=\"_blank\">epoch_13</a></strong> to <a href='https://wandb.ai/dshan21-free-university-of-tbilisi-/TrainingHumanEmotionDetector_Adam' target=\"_blank\">Weights & Biases</a> (<a href='https://wandb.me/developer-guide' target=\"_blank\">docs</a>)<br>"
            ]
          },
          "metadata": {}
        },
        {
          "output_type": "display_data",
          "data": {
            "text/plain": [
              "<IPython.core.display.HTML object>"
            ],
            "text/html": [
              " View project at <a href='https://wandb.ai/dshan21-free-university-of-tbilisi-/TrainingHumanEmotionDetector_Adam' target=\"_blank\">https://wandb.ai/dshan21-free-university-of-tbilisi-/TrainingHumanEmotionDetector_Adam</a>"
            ]
          },
          "metadata": {}
        },
        {
          "output_type": "display_data",
          "data": {
            "text/plain": [
              "<IPython.core.display.HTML object>"
            ],
            "text/html": [
              " View run at <a href='https://wandb.ai/dshan21-free-university-of-tbilisi-/TrainingHumanEmotionDetector_Adam/runs/j7icefri' target=\"_blank\">https://wandb.ai/dshan21-free-university-of-tbilisi-/TrainingHumanEmotionDetector_Adam/runs/j7icefri</a>"
            ]
          },
          "metadata": {}
        },
        {
          "output_type": "stream",
          "name": "stdout",
          "text": [
            "Epoch 14/30, Train Loss: 18.5217 Train Accuracy 50.8033\n",
            "              Validation Loss: 2.3605 Validation Accuracy: 50.4702\n",
            "=========================\n"
          ]
        },
        {
          "output_type": "display_data",
          "data": {
            "text/plain": [
              "<IPython.core.display.HTML object>"
            ],
            "text/html": []
          },
          "metadata": {}
        },
        {
          "output_type": "display_data",
          "data": {
            "text/plain": [
              "<IPython.core.display.HTML object>"
            ],
            "text/html": [
              "<br>    <style><br>        .wandb-row {<br>            display: flex;<br>            flex-direction: row;<br>            flex-wrap: wrap;<br>            justify-content: flex-start;<br>            width: 100%;<br>        }<br>        .wandb-col {<br>            display: flex;<br>            flex-direction: column;<br>            flex-basis: 100%;<br>            flex: 1;<br>            padding: 10px;<br>        }<br>    </style><br><div class=\"wandb-row\"><div class=\"wandb-col\"><h3>Run history:</h3><br/><table class=\"wandb\"><tr><td>Train Accuracy</td><td>▁</td></tr><tr><td>Train_Loss</td><td>▁</td></tr><tr><td>Validation Accuracy</td><td>▁</td></tr><tr><td>Validation_Loss</td><td>▁</td></tr><tr><td>dropout_rate</td><td>▁</td></tr></table><br/></div><div class=\"wandb-col\"><h3>Run summary:</h3><br/><table class=\"wandb\"><tr><td>Train Accuracy</td><td>50.8033</td></tr><tr><td>Train_Loss</td><td>18.5217</td></tr><tr><td>Validation Accuracy</td><td>50.4702</td></tr><tr><td>Validation_Loss</td><td>2.3605</td></tr><tr><td>dropout_rate</td><td>0.4</td></tr></table><br/></div></div>"
            ]
          },
          "metadata": {}
        },
        {
          "output_type": "display_data",
          "data": {
            "text/plain": [
              "<IPython.core.display.HTML object>"
            ],
            "text/html": [
              " View run <strong style=\"color:#cdcd00\">epoch_13</strong> at: <a href='https://wandb.ai/dshan21-free-university-of-tbilisi-/TrainingHumanEmotionDetector_Adam/runs/j7icefri' target=\"_blank\">https://wandb.ai/dshan21-free-university-of-tbilisi-/TrainingHumanEmotionDetector_Adam/runs/j7icefri</a><br> View project at: <a href='https://wandb.ai/dshan21-free-university-of-tbilisi-/TrainingHumanEmotionDetector_Adam' target=\"_blank\">https://wandb.ai/dshan21-free-university-of-tbilisi-/TrainingHumanEmotionDetector_Adam</a><br>Synced 5 W&B file(s), 0 media file(s), 0 artifact file(s) and 0 other file(s)"
            ]
          },
          "metadata": {}
        },
        {
          "output_type": "display_data",
          "data": {
            "text/plain": [
              "<IPython.core.display.HTML object>"
            ],
            "text/html": [
              "Find logs at: <code>./wandb/run-20250607_112125-j7icefri/logs</code>"
            ]
          },
          "metadata": {}
        },
        {
          "output_type": "display_data",
          "data": {
            "text/plain": [
              "<IPython.core.display.HTML object>"
            ],
            "text/html": [
              "Tracking run with wandb version 0.20.1"
            ]
          },
          "metadata": {}
        },
        {
          "output_type": "display_data",
          "data": {
            "text/plain": [
              "<IPython.core.display.HTML object>"
            ],
            "text/html": [
              "Run data is saved locally in <code>/content/wandb/run-20250607_112138-7op6gxgk</code>"
            ]
          },
          "metadata": {}
        },
        {
          "output_type": "display_data",
          "data": {
            "text/plain": [
              "<IPython.core.display.HTML object>"
            ],
            "text/html": [
              "Syncing run <strong><a href='https://wandb.ai/dshan21-free-university-of-tbilisi-/TrainingHumanEmotionDetector_Adam/runs/7op6gxgk' target=\"_blank\">epoch_14</a></strong> to <a href='https://wandb.ai/dshan21-free-university-of-tbilisi-/TrainingHumanEmotionDetector_Adam' target=\"_blank\">Weights & Biases</a> (<a href='https://wandb.me/developer-guide' target=\"_blank\">docs</a>)<br>"
            ]
          },
          "metadata": {}
        },
        {
          "output_type": "display_data",
          "data": {
            "text/plain": [
              "<IPython.core.display.HTML object>"
            ],
            "text/html": [
              " View project at <a href='https://wandb.ai/dshan21-free-university-of-tbilisi-/TrainingHumanEmotionDetector_Adam' target=\"_blank\">https://wandb.ai/dshan21-free-university-of-tbilisi-/TrainingHumanEmotionDetector_Adam</a>"
            ]
          },
          "metadata": {}
        },
        {
          "output_type": "display_data",
          "data": {
            "text/plain": [
              "<IPython.core.display.HTML object>"
            ],
            "text/html": [
              " View run at <a href='https://wandb.ai/dshan21-free-university-of-tbilisi-/TrainingHumanEmotionDetector_Adam/runs/7op6gxgk' target=\"_blank\">https://wandb.ai/dshan21-free-university-of-tbilisi-/TrainingHumanEmotionDetector_Adam/runs/7op6gxgk</a>"
            ]
          },
          "metadata": {}
        },
        {
          "output_type": "stream",
          "name": "stdout",
          "text": [
            "Epoch 15/30, Train Loss: 18.2368 Train Accuracy 51.6524\n",
            "              Validation Loss: 2.3625 Validation Accuracy: 50.4006\n",
            "=========================\n"
          ]
        },
        {
          "output_type": "display_data",
          "data": {
            "text/plain": [
              "<IPython.core.display.HTML object>"
            ],
            "text/html": []
          },
          "metadata": {}
        },
        {
          "output_type": "display_data",
          "data": {
            "text/plain": [
              "<IPython.core.display.HTML object>"
            ],
            "text/html": [
              "<br>    <style><br>        .wandb-row {<br>            display: flex;<br>            flex-direction: row;<br>            flex-wrap: wrap;<br>            justify-content: flex-start;<br>            width: 100%;<br>        }<br>        .wandb-col {<br>            display: flex;<br>            flex-direction: column;<br>            flex-basis: 100%;<br>            flex: 1;<br>            padding: 10px;<br>        }<br>    </style><br><div class=\"wandb-row\"><div class=\"wandb-col\"><h3>Run history:</h3><br/><table class=\"wandb\"><tr><td>Train Accuracy</td><td>▁</td></tr><tr><td>Train_Loss</td><td>▁</td></tr><tr><td>Validation Accuracy</td><td>▁</td></tr><tr><td>Validation_Loss</td><td>▁</td></tr><tr><td>dropout_rate</td><td>▁</td></tr></table><br/></div><div class=\"wandb-col\"><h3>Run summary:</h3><br/><table class=\"wandb\"><tr><td>Train Accuracy</td><td>51.6524</td></tr><tr><td>Train_Loss</td><td>18.2368</td></tr><tr><td>Validation Accuracy</td><td>50.4006</td></tr><tr><td>Validation_Loss</td><td>2.3625</td></tr><tr><td>dropout_rate</td><td>0.4</td></tr></table><br/></div></div>"
            ]
          },
          "metadata": {}
        },
        {
          "output_type": "display_data",
          "data": {
            "text/plain": [
              "<IPython.core.display.HTML object>"
            ],
            "text/html": [
              " View run <strong style=\"color:#cdcd00\">epoch_14</strong> at: <a href='https://wandb.ai/dshan21-free-university-of-tbilisi-/TrainingHumanEmotionDetector_Adam/runs/7op6gxgk' target=\"_blank\">https://wandb.ai/dshan21-free-university-of-tbilisi-/TrainingHumanEmotionDetector_Adam/runs/7op6gxgk</a><br> View project at: <a href='https://wandb.ai/dshan21-free-university-of-tbilisi-/TrainingHumanEmotionDetector_Adam' target=\"_blank\">https://wandb.ai/dshan21-free-university-of-tbilisi-/TrainingHumanEmotionDetector_Adam</a><br>Synced 5 W&B file(s), 0 media file(s), 0 artifact file(s) and 0 other file(s)"
            ]
          },
          "metadata": {}
        },
        {
          "output_type": "display_data",
          "data": {
            "text/plain": [
              "<IPython.core.display.HTML object>"
            ],
            "text/html": [
              "Find logs at: <code>./wandb/run-20250607_112138-7op6gxgk/logs</code>"
            ]
          },
          "metadata": {}
        },
        {
          "output_type": "display_data",
          "data": {
            "text/plain": [
              "<IPython.core.display.HTML object>"
            ],
            "text/html": [
              "Tracking run with wandb version 0.20.1"
            ]
          },
          "metadata": {}
        },
        {
          "output_type": "display_data",
          "data": {
            "text/plain": [
              "<IPython.core.display.HTML object>"
            ],
            "text/html": [
              "Run data is saved locally in <code>/content/wandb/run-20250607_112151-5j3dw9wd</code>"
            ]
          },
          "metadata": {}
        },
        {
          "output_type": "display_data",
          "data": {
            "text/plain": [
              "<IPython.core.display.HTML object>"
            ],
            "text/html": [
              "Syncing run <strong><a href='https://wandb.ai/dshan21-free-university-of-tbilisi-/TrainingHumanEmotionDetector_Adam/runs/5j3dw9wd' target=\"_blank\">epoch_15</a></strong> to <a href='https://wandb.ai/dshan21-free-university-of-tbilisi-/TrainingHumanEmotionDetector_Adam' target=\"_blank\">Weights & Biases</a> (<a href='https://wandb.me/developer-guide' target=\"_blank\">docs</a>)<br>"
            ]
          },
          "metadata": {}
        },
        {
          "output_type": "display_data",
          "data": {
            "text/plain": [
              "<IPython.core.display.HTML object>"
            ],
            "text/html": [
              " View project at <a href='https://wandb.ai/dshan21-free-university-of-tbilisi-/TrainingHumanEmotionDetector_Adam' target=\"_blank\">https://wandb.ai/dshan21-free-university-of-tbilisi-/TrainingHumanEmotionDetector_Adam</a>"
            ]
          },
          "metadata": {}
        },
        {
          "output_type": "display_data",
          "data": {
            "text/plain": [
              "<IPython.core.display.HTML object>"
            ],
            "text/html": [
              " View run at <a href='https://wandb.ai/dshan21-free-university-of-tbilisi-/TrainingHumanEmotionDetector_Adam/runs/5j3dw9wd' target=\"_blank\">https://wandb.ai/dshan21-free-university-of-tbilisi-/TrainingHumanEmotionDetector_Adam/runs/5j3dw9wd</a>"
            ]
          },
          "metadata": {}
        },
        {
          "output_type": "stream",
          "name": "stdout",
          "text": [
            "Epoch 16/30, Train Loss: 18.096 Train Accuracy 52.2184\n",
            "              Validation Loss: 2.3411 Validation Accuracy: 51.5848\n",
            "=========================\n"
          ]
        },
        {
          "output_type": "display_data",
          "data": {
            "text/plain": [
              "<IPython.core.display.HTML object>"
            ],
            "text/html": []
          },
          "metadata": {}
        },
        {
          "output_type": "display_data",
          "data": {
            "text/plain": [
              "<IPython.core.display.HTML object>"
            ],
            "text/html": [
              "<br>    <style><br>        .wandb-row {<br>            display: flex;<br>            flex-direction: row;<br>            flex-wrap: wrap;<br>            justify-content: flex-start;<br>            width: 100%;<br>        }<br>        .wandb-col {<br>            display: flex;<br>            flex-direction: column;<br>            flex-basis: 100%;<br>            flex: 1;<br>            padding: 10px;<br>        }<br>    </style><br><div class=\"wandb-row\"><div class=\"wandb-col\"><h3>Run history:</h3><br/><table class=\"wandb\"><tr><td>Train Accuracy</td><td>▁</td></tr><tr><td>Train_Loss</td><td>▁</td></tr><tr><td>Validation Accuracy</td><td>▁</td></tr><tr><td>Validation_Loss</td><td>▁</td></tr><tr><td>dropout_rate</td><td>▁</td></tr></table><br/></div><div class=\"wandb-col\"><h3>Run summary:</h3><br/><table class=\"wandb\"><tr><td>Train Accuracy</td><td>52.2184</td></tr><tr><td>Train_Loss</td><td>18.096</td></tr><tr><td>Validation Accuracy</td><td>51.5848</td></tr><tr><td>Validation_Loss</td><td>2.3411</td></tr><tr><td>dropout_rate</td><td>0.4</td></tr></table><br/></div></div>"
            ]
          },
          "metadata": {}
        },
        {
          "output_type": "display_data",
          "data": {
            "text/plain": [
              "<IPython.core.display.HTML object>"
            ],
            "text/html": [
              " View run <strong style=\"color:#cdcd00\">epoch_15</strong> at: <a href='https://wandb.ai/dshan21-free-university-of-tbilisi-/TrainingHumanEmotionDetector_Adam/runs/5j3dw9wd' target=\"_blank\">https://wandb.ai/dshan21-free-university-of-tbilisi-/TrainingHumanEmotionDetector_Adam/runs/5j3dw9wd</a><br> View project at: <a href='https://wandb.ai/dshan21-free-university-of-tbilisi-/TrainingHumanEmotionDetector_Adam' target=\"_blank\">https://wandb.ai/dshan21-free-university-of-tbilisi-/TrainingHumanEmotionDetector_Adam</a><br>Synced 5 W&B file(s), 0 media file(s), 0 artifact file(s) and 0 other file(s)"
            ]
          },
          "metadata": {}
        },
        {
          "output_type": "display_data",
          "data": {
            "text/plain": [
              "<IPython.core.display.HTML object>"
            ],
            "text/html": [
              "Find logs at: <code>./wandb/run-20250607_112151-5j3dw9wd/logs</code>"
            ]
          },
          "metadata": {}
        },
        {
          "output_type": "display_data",
          "data": {
            "text/plain": [
              "<IPython.core.display.HTML object>"
            ],
            "text/html": [
              "Tracking run with wandb version 0.20.1"
            ]
          },
          "metadata": {}
        },
        {
          "output_type": "display_data",
          "data": {
            "text/plain": [
              "<IPython.core.display.HTML object>"
            ],
            "text/html": [
              "Run data is saved locally in <code>/content/wandb/run-20250607_112204-ppu375wj</code>"
            ]
          },
          "metadata": {}
        },
        {
          "output_type": "display_data",
          "data": {
            "text/plain": [
              "<IPython.core.display.HTML object>"
            ],
            "text/html": [
              "Syncing run <strong><a href='https://wandb.ai/dshan21-free-university-of-tbilisi-/TrainingHumanEmotionDetector_Adam/runs/ppu375wj' target=\"_blank\">epoch_16</a></strong> to <a href='https://wandb.ai/dshan21-free-university-of-tbilisi-/TrainingHumanEmotionDetector_Adam' target=\"_blank\">Weights & Biases</a> (<a href='https://wandb.me/developer-guide' target=\"_blank\">docs</a>)<br>"
            ]
          },
          "metadata": {}
        },
        {
          "output_type": "display_data",
          "data": {
            "text/plain": [
              "<IPython.core.display.HTML object>"
            ],
            "text/html": [
              " View project at <a href='https://wandb.ai/dshan21-free-university-of-tbilisi-/TrainingHumanEmotionDetector_Adam' target=\"_blank\">https://wandb.ai/dshan21-free-university-of-tbilisi-/TrainingHumanEmotionDetector_Adam</a>"
            ]
          },
          "metadata": {}
        },
        {
          "output_type": "display_data",
          "data": {
            "text/plain": [
              "<IPython.core.display.HTML object>"
            ],
            "text/html": [
              " View run at <a href='https://wandb.ai/dshan21-free-university-of-tbilisi-/TrainingHumanEmotionDetector_Adam/runs/ppu375wj' target=\"_blank\">https://wandb.ai/dshan21-free-university-of-tbilisi-/TrainingHumanEmotionDetector_Adam/runs/ppu375wj</a>"
            ]
          },
          "metadata": {}
        },
        {
          "output_type": "stream",
          "name": "stdout",
          "text": [
            "Epoch 17/30, Train Loss: 17.8748 Train Accuracy 52.7931\n",
            "              Validation Loss: 2.3448 Validation Accuracy: 53.2915\n",
            "=========================\n"
          ]
        },
        {
          "output_type": "display_data",
          "data": {
            "text/plain": [
              "<IPython.core.display.HTML object>"
            ],
            "text/html": []
          },
          "metadata": {}
        },
        {
          "output_type": "display_data",
          "data": {
            "text/plain": [
              "<IPython.core.display.HTML object>"
            ],
            "text/html": [
              "<br>    <style><br>        .wandb-row {<br>            display: flex;<br>            flex-direction: row;<br>            flex-wrap: wrap;<br>            justify-content: flex-start;<br>            width: 100%;<br>        }<br>        .wandb-col {<br>            display: flex;<br>            flex-direction: column;<br>            flex-basis: 100%;<br>            flex: 1;<br>            padding: 10px;<br>        }<br>    </style><br><div class=\"wandb-row\"><div class=\"wandb-col\"><h3>Run history:</h3><br/><table class=\"wandb\"><tr><td>Train Accuracy</td><td>▁</td></tr><tr><td>Train_Loss</td><td>▁</td></tr><tr><td>Validation Accuracy</td><td>▁</td></tr><tr><td>Validation_Loss</td><td>▁</td></tr><tr><td>dropout_rate</td><td>▁</td></tr></table><br/></div><div class=\"wandb-col\"><h3>Run summary:</h3><br/><table class=\"wandb\"><tr><td>Train Accuracy</td><td>52.7931</td></tr><tr><td>Train_Loss</td><td>17.8748</td></tr><tr><td>Validation Accuracy</td><td>53.2915</td></tr><tr><td>Validation_Loss</td><td>2.3448</td></tr><tr><td>dropout_rate</td><td>0.4</td></tr></table><br/></div></div>"
            ]
          },
          "metadata": {}
        },
        {
          "output_type": "display_data",
          "data": {
            "text/plain": [
              "<IPython.core.display.HTML object>"
            ],
            "text/html": [
              " View run <strong style=\"color:#cdcd00\">epoch_16</strong> at: <a href='https://wandb.ai/dshan21-free-university-of-tbilisi-/TrainingHumanEmotionDetector_Adam/runs/ppu375wj' target=\"_blank\">https://wandb.ai/dshan21-free-university-of-tbilisi-/TrainingHumanEmotionDetector_Adam/runs/ppu375wj</a><br> View project at: <a href='https://wandb.ai/dshan21-free-university-of-tbilisi-/TrainingHumanEmotionDetector_Adam' target=\"_blank\">https://wandb.ai/dshan21-free-university-of-tbilisi-/TrainingHumanEmotionDetector_Adam</a><br>Synced 5 W&B file(s), 0 media file(s), 0 artifact file(s) and 0 other file(s)"
            ]
          },
          "metadata": {}
        },
        {
          "output_type": "display_data",
          "data": {
            "text/plain": [
              "<IPython.core.display.HTML object>"
            ],
            "text/html": [
              "Find logs at: <code>./wandb/run-20250607_112204-ppu375wj/logs</code>"
            ]
          },
          "metadata": {}
        },
        {
          "output_type": "display_data",
          "data": {
            "text/plain": [
              "<IPython.core.display.HTML object>"
            ],
            "text/html": [
              "Tracking run with wandb version 0.20.1"
            ]
          },
          "metadata": {}
        },
        {
          "output_type": "display_data",
          "data": {
            "text/plain": [
              "<IPython.core.display.HTML object>"
            ],
            "text/html": [
              "Run data is saved locally in <code>/content/wandb/run-20250607_112217-5gdv85m1</code>"
            ]
          },
          "metadata": {}
        },
        {
          "output_type": "display_data",
          "data": {
            "text/plain": [
              "<IPython.core.display.HTML object>"
            ],
            "text/html": [
              "Syncing run <strong><a href='https://wandb.ai/dshan21-free-university-of-tbilisi-/TrainingHumanEmotionDetector_Adam/runs/5gdv85m1' target=\"_blank\">epoch_17</a></strong> to <a href='https://wandb.ai/dshan21-free-university-of-tbilisi-/TrainingHumanEmotionDetector_Adam' target=\"_blank\">Weights & Biases</a> (<a href='https://wandb.me/developer-guide' target=\"_blank\">docs</a>)<br>"
            ]
          },
          "metadata": {}
        },
        {
          "output_type": "display_data",
          "data": {
            "text/plain": [
              "<IPython.core.display.HTML object>"
            ],
            "text/html": [
              " View project at <a href='https://wandb.ai/dshan21-free-university-of-tbilisi-/TrainingHumanEmotionDetector_Adam' target=\"_blank\">https://wandb.ai/dshan21-free-university-of-tbilisi-/TrainingHumanEmotionDetector_Adam</a>"
            ]
          },
          "metadata": {}
        },
        {
          "output_type": "display_data",
          "data": {
            "text/plain": [
              "<IPython.core.display.HTML object>"
            ],
            "text/html": [
              " View run at <a href='https://wandb.ai/dshan21-free-university-of-tbilisi-/TrainingHumanEmotionDetector_Adam/runs/5gdv85m1' target=\"_blank\">https://wandb.ai/dshan21-free-university-of-tbilisi-/TrainingHumanEmotionDetector_Adam/runs/5gdv85m1</a>"
            ]
          },
          "metadata": {}
        },
        {
          "output_type": "stream",
          "name": "stdout",
          "text": [
            "Epoch 18/30, Train Loss: 17.7578 Train Accuracy 53.6378\n",
            "              Validation Loss: 2.283 Validation Accuracy: 52.2118\n",
            "=========================\n"
          ]
        },
        {
          "output_type": "display_data",
          "data": {
            "text/plain": [
              "<IPython.core.display.HTML object>"
            ],
            "text/html": []
          },
          "metadata": {}
        },
        {
          "output_type": "display_data",
          "data": {
            "text/plain": [
              "<IPython.core.display.HTML object>"
            ],
            "text/html": [
              "<br>    <style><br>        .wandb-row {<br>            display: flex;<br>            flex-direction: row;<br>            flex-wrap: wrap;<br>            justify-content: flex-start;<br>            width: 100%;<br>        }<br>        .wandb-col {<br>            display: flex;<br>            flex-direction: column;<br>            flex-basis: 100%;<br>            flex: 1;<br>            padding: 10px;<br>        }<br>    </style><br><div class=\"wandb-row\"><div class=\"wandb-col\"><h3>Run history:</h3><br/><table class=\"wandb\"><tr><td>Train Accuracy</td><td>▁</td></tr><tr><td>Train_Loss</td><td>▁</td></tr><tr><td>Validation Accuracy</td><td>▁</td></tr><tr><td>Validation_Loss</td><td>▁</td></tr><tr><td>dropout_rate</td><td>▁</td></tr></table><br/></div><div class=\"wandb-col\"><h3>Run summary:</h3><br/><table class=\"wandb\"><tr><td>Train Accuracy</td><td>53.6378</td></tr><tr><td>Train_Loss</td><td>17.7578</td></tr><tr><td>Validation Accuracy</td><td>52.2118</td></tr><tr><td>Validation_Loss</td><td>2.283</td></tr><tr><td>dropout_rate</td><td>0.4</td></tr></table><br/></div></div>"
            ]
          },
          "metadata": {}
        },
        {
          "output_type": "display_data",
          "data": {
            "text/plain": [
              "<IPython.core.display.HTML object>"
            ],
            "text/html": [
              " View run <strong style=\"color:#cdcd00\">epoch_17</strong> at: <a href='https://wandb.ai/dshan21-free-university-of-tbilisi-/TrainingHumanEmotionDetector_Adam/runs/5gdv85m1' target=\"_blank\">https://wandb.ai/dshan21-free-university-of-tbilisi-/TrainingHumanEmotionDetector_Adam/runs/5gdv85m1</a><br> View project at: <a href='https://wandb.ai/dshan21-free-university-of-tbilisi-/TrainingHumanEmotionDetector_Adam' target=\"_blank\">https://wandb.ai/dshan21-free-university-of-tbilisi-/TrainingHumanEmotionDetector_Adam</a><br>Synced 5 W&B file(s), 0 media file(s), 0 artifact file(s) and 0 other file(s)"
            ]
          },
          "metadata": {}
        },
        {
          "output_type": "display_data",
          "data": {
            "text/plain": [
              "<IPython.core.display.HTML object>"
            ],
            "text/html": [
              "Find logs at: <code>./wandb/run-20250607_112217-5gdv85m1/logs</code>"
            ]
          },
          "metadata": {}
        },
        {
          "output_type": "display_data",
          "data": {
            "text/plain": [
              "<IPython.core.display.HTML object>"
            ],
            "text/html": [
              "Tracking run with wandb version 0.20.1"
            ]
          },
          "metadata": {}
        },
        {
          "output_type": "display_data",
          "data": {
            "text/plain": [
              "<IPython.core.display.HTML object>"
            ],
            "text/html": [
              "Run data is saved locally in <code>/content/wandb/run-20250607_112230-f60zcycq</code>"
            ]
          },
          "metadata": {}
        },
        {
          "output_type": "display_data",
          "data": {
            "text/plain": [
              "<IPython.core.display.HTML object>"
            ],
            "text/html": [
              "Syncing run <strong><a href='https://wandb.ai/dshan21-free-university-of-tbilisi-/TrainingHumanEmotionDetector_Adam/runs/f60zcycq' target=\"_blank\">epoch_18</a></strong> to <a href='https://wandb.ai/dshan21-free-university-of-tbilisi-/TrainingHumanEmotionDetector_Adam' target=\"_blank\">Weights & Biases</a> (<a href='https://wandb.me/developer-guide' target=\"_blank\">docs</a>)<br>"
            ]
          },
          "metadata": {}
        },
        {
          "output_type": "display_data",
          "data": {
            "text/plain": [
              "<IPython.core.display.HTML object>"
            ],
            "text/html": [
              " View project at <a href='https://wandb.ai/dshan21-free-university-of-tbilisi-/TrainingHumanEmotionDetector_Adam' target=\"_blank\">https://wandb.ai/dshan21-free-university-of-tbilisi-/TrainingHumanEmotionDetector_Adam</a>"
            ]
          },
          "metadata": {}
        },
        {
          "output_type": "display_data",
          "data": {
            "text/plain": [
              "<IPython.core.display.HTML object>"
            ],
            "text/html": [
              " View run at <a href='https://wandb.ai/dshan21-free-university-of-tbilisi-/TrainingHumanEmotionDetector_Adam/runs/f60zcycq' target=\"_blank\">https://wandb.ai/dshan21-free-university-of-tbilisi-/TrainingHumanEmotionDetector_Adam/runs/f60zcycq</a>"
            ]
          },
          "metadata": {}
        },
        {
          "output_type": "stream",
          "name": "stdout",
          "text": [
            "Epoch 19/30, Train Loss: 17.5763 Train Accuracy 53.4158\n",
            "              Validation Loss: 2.2894 Validation Accuracy: 52.2814\n",
            "=========================\n"
          ]
        },
        {
          "output_type": "display_data",
          "data": {
            "text/plain": [
              "<IPython.core.display.HTML object>"
            ],
            "text/html": []
          },
          "metadata": {}
        },
        {
          "output_type": "display_data",
          "data": {
            "text/plain": [
              "<IPython.core.display.HTML object>"
            ],
            "text/html": [
              "<br>    <style><br>        .wandb-row {<br>            display: flex;<br>            flex-direction: row;<br>            flex-wrap: wrap;<br>            justify-content: flex-start;<br>            width: 100%;<br>        }<br>        .wandb-col {<br>            display: flex;<br>            flex-direction: column;<br>            flex-basis: 100%;<br>            flex: 1;<br>            padding: 10px;<br>        }<br>    </style><br><div class=\"wandb-row\"><div class=\"wandb-col\"><h3>Run history:</h3><br/><table class=\"wandb\"><tr><td>Train Accuracy</td><td>▁</td></tr><tr><td>Train_Loss</td><td>▁</td></tr><tr><td>Validation Accuracy</td><td>▁</td></tr><tr><td>Validation_Loss</td><td>▁</td></tr><tr><td>dropout_rate</td><td>▁</td></tr></table><br/></div><div class=\"wandb-col\"><h3>Run summary:</h3><br/><table class=\"wandb\"><tr><td>Train Accuracy</td><td>53.4158</td></tr><tr><td>Train_Loss</td><td>17.5763</td></tr><tr><td>Validation Accuracy</td><td>52.2814</td></tr><tr><td>Validation_Loss</td><td>2.2894</td></tr><tr><td>dropout_rate</td><td>0.4</td></tr></table><br/></div></div>"
            ]
          },
          "metadata": {}
        },
        {
          "output_type": "display_data",
          "data": {
            "text/plain": [
              "<IPython.core.display.HTML object>"
            ],
            "text/html": [
              " View run <strong style=\"color:#cdcd00\">epoch_18</strong> at: <a href='https://wandb.ai/dshan21-free-university-of-tbilisi-/TrainingHumanEmotionDetector_Adam/runs/f60zcycq' target=\"_blank\">https://wandb.ai/dshan21-free-university-of-tbilisi-/TrainingHumanEmotionDetector_Adam/runs/f60zcycq</a><br> View project at: <a href='https://wandb.ai/dshan21-free-university-of-tbilisi-/TrainingHumanEmotionDetector_Adam' target=\"_blank\">https://wandb.ai/dshan21-free-university-of-tbilisi-/TrainingHumanEmotionDetector_Adam</a><br>Synced 5 W&B file(s), 0 media file(s), 0 artifact file(s) and 0 other file(s)"
            ]
          },
          "metadata": {}
        },
        {
          "output_type": "display_data",
          "data": {
            "text/plain": [
              "<IPython.core.display.HTML object>"
            ],
            "text/html": [
              "Find logs at: <code>./wandb/run-20250607_112230-f60zcycq/logs</code>"
            ]
          },
          "metadata": {}
        },
        {
          "output_type": "display_data",
          "data": {
            "text/plain": [
              "<IPython.core.display.HTML object>"
            ],
            "text/html": [
              "Tracking run with wandb version 0.20.1"
            ]
          },
          "metadata": {}
        },
        {
          "output_type": "display_data",
          "data": {
            "text/plain": [
              "<IPython.core.display.HTML object>"
            ],
            "text/html": [
              "Run data is saved locally in <code>/content/wandb/run-20250607_112244-oyj19ya8</code>"
            ]
          },
          "metadata": {}
        },
        {
          "output_type": "display_data",
          "data": {
            "text/plain": [
              "<IPython.core.display.HTML object>"
            ],
            "text/html": [
              "Syncing run <strong><a href='https://wandb.ai/dshan21-free-university-of-tbilisi-/TrainingHumanEmotionDetector_Adam/runs/oyj19ya8' target=\"_blank\">epoch_19</a></strong> to <a href='https://wandb.ai/dshan21-free-university-of-tbilisi-/TrainingHumanEmotionDetector_Adam' target=\"_blank\">Weights & Biases</a> (<a href='https://wandb.me/developer-guide' target=\"_blank\">docs</a>)<br>"
            ]
          },
          "metadata": {}
        },
        {
          "output_type": "display_data",
          "data": {
            "text/plain": [
              "<IPython.core.display.HTML object>"
            ],
            "text/html": [
              " View project at <a href='https://wandb.ai/dshan21-free-university-of-tbilisi-/TrainingHumanEmotionDetector_Adam' target=\"_blank\">https://wandb.ai/dshan21-free-university-of-tbilisi-/TrainingHumanEmotionDetector_Adam</a>"
            ]
          },
          "metadata": {}
        },
        {
          "output_type": "display_data",
          "data": {
            "text/plain": [
              "<IPython.core.display.HTML object>"
            ],
            "text/html": [
              " View run at <a href='https://wandb.ai/dshan21-free-university-of-tbilisi-/TrainingHumanEmotionDetector_Adam/runs/oyj19ya8' target=\"_blank\">https://wandb.ai/dshan21-free-university-of-tbilisi-/TrainingHumanEmotionDetector_Adam/runs/oyj19ya8</a>"
            ]
          },
          "metadata": {}
        },
        {
          "output_type": "stream",
          "name": "stdout",
          "text": [
            "Epoch 20/30, Train Loss: 17.467 Train Accuracy 54.1037\n",
            "              Validation Loss: 2.3572 Validation Accuracy: 52.6646\n",
            "=========================\n"
          ]
        },
        {
          "output_type": "display_data",
          "data": {
            "text/plain": [
              "<IPython.core.display.HTML object>"
            ],
            "text/html": []
          },
          "metadata": {}
        },
        {
          "output_type": "display_data",
          "data": {
            "text/plain": [
              "<IPython.core.display.HTML object>"
            ],
            "text/html": [
              "<br>    <style><br>        .wandb-row {<br>            display: flex;<br>            flex-direction: row;<br>            flex-wrap: wrap;<br>            justify-content: flex-start;<br>            width: 100%;<br>        }<br>        .wandb-col {<br>            display: flex;<br>            flex-direction: column;<br>            flex-basis: 100%;<br>            flex: 1;<br>            padding: 10px;<br>        }<br>    </style><br><div class=\"wandb-row\"><div class=\"wandb-col\"><h3>Run history:</h3><br/><table class=\"wandb\"><tr><td>Train Accuracy</td><td>▁</td></tr><tr><td>Train_Loss</td><td>▁</td></tr><tr><td>Validation Accuracy</td><td>▁</td></tr><tr><td>Validation_Loss</td><td>▁</td></tr><tr><td>dropout_rate</td><td>▁</td></tr></table><br/></div><div class=\"wandb-col\"><h3>Run summary:</h3><br/><table class=\"wandb\"><tr><td>Train Accuracy</td><td>54.1037</td></tr><tr><td>Train_Loss</td><td>17.467</td></tr><tr><td>Validation Accuracy</td><td>52.6646</td></tr><tr><td>Validation_Loss</td><td>2.3572</td></tr><tr><td>dropout_rate</td><td>0.4</td></tr></table><br/></div></div>"
            ]
          },
          "metadata": {}
        },
        {
          "output_type": "display_data",
          "data": {
            "text/plain": [
              "<IPython.core.display.HTML object>"
            ],
            "text/html": [
              " View run <strong style=\"color:#cdcd00\">epoch_19</strong> at: <a href='https://wandb.ai/dshan21-free-university-of-tbilisi-/TrainingHumanEmotionDetector_Adam/runs/oyj19ya8' target=\"_blank\">https://wandb.ai/dshan21-free-university-of-tbilisi-/TrainingHumanEmotionDetector_Adam/runs/oyj19ya8</a><br> View project at: <a href='https://wandb.ai/dshan21-free-university-of-tbilisi-/TrainingHumanEmotionDetector_Adam' target=\"_blank\">https://wandb.ai/dshan21-free-university-of-tbilisi-/TrainingHumanEmotionDetector_Adam</a><br>Synced 5 W&B file(s), 0 media file(s), 0 artifact file(s) and 0 other file(s)"
            ]
          },
          "metadata": {}
        },
        {
          "output_type": "display_data",
          "data": {
            "text/plain": [
              "<IPython.core.display.HTML object>"
            ],
            "text/html": [
              "Find logs at: <code>./wandb/run-20250607_112244-oyj19ya8/logs</code>"
            ]
          },
          "metadata": {}
        },
        {
          "output_type": "display_data",
          "data": {
            "text/plain": [
              "<IPython.core.display.HTML object>"
            ],
            "text/html": [
              "Tracking run with wandb version 0.20.1"
            ]
          },
          "metadata": {}
        },
        {
          "output_type": "display_data",
          "data": {
            "text/plain": [
              "<IPython.core.display.HTML object>"
            ],
            "text/html": [
              "Run data is saved locally in <code>/content/wandb/run-20250607_112258-73p6r81s</code>"
            ]
          },
          "metadata": {}
        },
        {
          "output_type": "display_data",
          "data": {
            "text/plain": [
              "<IPython.core.display.HTML object>"
            ],
            "text/html": [
              "Syncing run <strong><a href='https://wandb.ai/dshan21-free-university-of-tbilisi-/TrainingHumanEmotionDetector_Adam/runs/73p6r81s' target=\"_blank\">epoch_20</a></strong> to <a href='https://wandb.ai/dshan21-free-university-of-tbilisi-/TrainingHumanEmotionDetector_Adam' target=\"_blank\">Weights & Biases</a> (<a href='https://wandb.me/developer-guide' target=\"_blank\">docs</a>)<br>"
            ]
          },
          "metadata": {}
        },
        {
          "output_type": "display_data",
          "data": {
            "text/plain": [
              "<IPython.core.display.HTML object>"
            ],
            "text/html": [
              " View project at <a href='https://wandb.ai/dshan21-free-university-of-tbilisi-/TrainingHumanEmotionDetector_Adam' target=\"_blank\">https://wandb.ai/dshan21-free-university-of-tbilisi-/TrainingHumanEmotionDetector_Adam</a>"
            ]
          },
          "metadata": {}
        },
        {
          "output_type": "display_data",
          "data": {
            "text/plain": [
              "<IPython.core.display.HTML object>"
            ],
            "text/html": [
              " View run at <a href='https://wandb.ai/dshan21-free-university-of-tbilisi-/TrainingHumanEmotionDetector_Adam/runs/73p6r81s' target=\"_blank\">https://wandb.ai/dshan21-free-university-of-tbilisi-/TrainingHumanEmotionDetector_Adam/runs/73p6r81s</a>"
            ]
          },
          "metadata": {}
        },
        {
          "output_type": "stream",
          "name": "stdout",
          "text": [
            "Epoch 21/30, Train Loss: 17.3036 Train Accuracy 54.4869\n",
            "              Validation Loss: 2.3001 Validation Accuracy: 52.1769\n",
            "=========================\n"
          ]
        },
        {
          "output_type": "display_data",
          "data": {
            "text/plain": [
              "<IPython.core.display.HTML object>"
            ],
            "text/html": []
          },
          "metadata": {}
        },
        {
          "output_type": "display_data",
          "data": {
            "text/plain": [
              "<IPython.core.display.HTML object>"
            ],
            "text/html": [
              "<br>    <style><br>        .wandb-row {<br>            display: flex;<br>            flex-direction: row;<br>            flex-wrap: wrap;<br>            justify-content: flex-start;<br>            width: 100%;<br>        }<br>        .wandb-col {<br>            display: flex;<br>            flex-direction: column;<br>            flex-basis: 100%;<br>            flex: 1;<br>            padding: 10px;<br>        }<br>    </style><br><div class=\"wandb-row\"><div class=\"wandb-col\"><h3>Run history:</h3><br/><table class=\"wandb\"><tr><td>Train Accuracy</td><td>▁</td></tr><tr><td>Train_Loss</td><td>▁</td></tr><tr><td>Validation Accuracy</td><td>▁</td></tr><tr><td>Validation_Loss</td><td>▁</td></tr><tr><td>dropout_rate</td><td>▁</td></tr></table><br/></div><div class=\"wandb-col\"><h3>Run summary:</h3><br/><table class=\"wandb\"><tr><td>Train Accuracy</td><td>54.4869</td></tr><tr><td>Train_Loss</td><td>17.3036</td></tr><tr><td>Validation Accuracy</td><td>52.1769</td></tr><tr><td>Validation_Loss</td><td>2.3001</td></tr><tr><td>dropout_rate</td><td>0.4</td></tr></table><br/></div></div>"
            ]
          },
          "metadata": {}
        },
        {
          "output_type": "display_data",
          "data": {
            "text/plain": [
              "<IPython.core.display.HTML object>"
            ],
            "text/html": [
              " View run <strong style=\"color:#cdcd00\">epoch_20</strong> at: <a href='https://wandb.ai/dshan21-free-university-of-tbilisi-/TrainingHumanEmotionDetector_Adam/runs/73p6r81s' target=\"_blank\">https://wandb.ai/dshan21-free-university-of-tbilisi-/TrainingHumanEmotionDetector_Adam/runs/73p6r81s</a><br> View project at: <a href='https://wandb.ai/dshan21-free-university-of-tbilisi-/TrainingHumanEmotionDetector_Adam' target=\"_blank\">https://wandb.ai/dshan21-free-university-of-tbilisi-/TrainingHumanEmotionDetector_Adam</a><br>Synced 5 W&B file(s), 0 media file(s), 0 artifact file(s) and 0 other file(s)"
            ]
          },
          "metadata": {}
        },
        {
          "output_type": "display_data",
          "data": {
            "text/plain": [
              "<IPython.core.display.HTML object>"
            ],
            "text/html": [
              "Find logs at: <code>./wandb/run-20250607_112258-73p6r81s/logs</code>"
            ]
          },
          "metadata": {}
        },
        {
          "output_type": "display_data",
          "data": {
            "text/plain": [
              "<IPython.core.display.HTML object>"
            ],
            "text/html": [
              "Tracking run with wandb version 0.20.1"
            ]
          },
          "metadata": {}
        },
        {
          "output_type": "display_data",
          "data": {
            "text/plain": [
              "<IPython.core.display.HTML object>"
            ],
            "text/html": [
              "Run data is saved locally in <code>/content/wandb/run-20250607_112312-z2e57ulb</code>"
            ]
          },
          "metadata": {}
        },
        {
          "output_type": "display_data",
          "data": {
            "text/plain": [
              "<IPython.core.display.HTML object>"
            ],
            "text/html": [
              "Syncing run <strong><a href='https://wandb.ai/dshan21-free-university-of-tbilisi-/TrainingHumanEmotionDetector_Adam/runs/z2e57ulb' target=\"_blank\">epoch_21</a></strong> to <a href='https://wandb.ai/dshan21-free-university-of-tbilisi-/TrainingHumanEmotionDetector_Adam' target=\"_blank\">Weights & Biases</a> (<a href='https://wandb.me/developer-guide' target=\"_blank\">docs</a>)<br>"
            ]
          },
          "metadata": {}
        },
        {
          "output_type": "display_data",
          "data": {
            "text/plain": [
              "<IPython.core.display.HTML object>"
            ],
            "text/html": [
              " View project at <a href='https://wandb.ai/dshan21-free-university-of-tbilisi-/TrainingHumanEmotionDetector_Adam' target=\"_blank\">https://wandb.ai/dshan21-free-university-of-tbilisi-/TrainingHumanEmotionDetector_Adam</a>"
            ]
          },
          "metadata": {}
        },
        {
          "output_type": "display_data",
          "data": {
            "text/plain": [
              "<IPython.core.display.HTML object>"
            ],
            "text/html": [
              " View run at <a href='https://wandb.ai/dshan21-free-university-of-tbilisi-/TrainingHumanEmotionDetector_Adam/runs/z2e57ulb' target=\"_blank\">https://wandb.ai/dshan21-free-university-of-tbilisi-/TrainingHumanEmotionDetector_Adam/runs/z2e57ulb</a>"
            ]
          },
          "metadata": {}
        },
        {
          "output_type": "stream",
          "name": "stdout",
          "text": [
            "Epoch 22/30, Train Loss: 17.2196 Train Accuracy 54.5957\n",
            "              Validation Loss: 2.2759 Validation Accuracy: 52.3859\n",
            "=========================\n"
          ]
        },
        {
          "output_type": "display_data",
          "data": {
            "text/plain": [
              "<IPython.core.display.HTML object>"
            ],
            "text/html": []
          },
          "metadata": {}
        },
        {
          "output_type": "display_data",
          "data": {
            "text/plain": [
              "<IPython.core.display.HTML object>"
            ],
            "text/html": [
              "<br>    <style><br>        .wandb-row {<br>            display: flex;<br>            flex-direction: row;<br>            flex-wrap: wrap;<br>            justify-content: flex-start;<br>            width: 100%;<br>        }<br>        .wandb-col {<br>            display: flex;<br>            flex-direction: column;<br>            flex-basis: 100%;<br>            flex: 1;<br>            padding: 10px;<br>        }<br>    </style><br><div class=\"wandb-row\"><div class=\"wandb-col\"><h3>Run history:</h3><br/><table class=\"wandb\"><tr><td>Train Accuracy</td><td>▁</td></tr><tr><td>Train_Loss</td><td>▁</td></tr><tr><td>Validation Accuracy</td><td>▁</td></tr><tr><td>Validation_Loss</td><td>▁</td></tr><tr><td>dropout_rate</td><td>▁</td></tr></table><br/></div><div class=\"wandb-col\"><h3>Run summary:</h3><br/><table class=\"wandb\"><tr><td>Train Accuracy</td><td>54.5957</td></tr><tr><td>Train_Loss</td><td>17.2196</td></tr><tr><td>Validation Accuracy</td><td>52.3859</td></tr><tr><td>Validation_Loss</td><td>2.2759</td></tr><tr><td>dropout_rate</td><td>0.4</td></tr></table><br/></div></div>"
            ]
          },
          "metadata": {}
        },
        {
          "output_type": "display_data",
          "data": {
            "text/plain": [
              "<IPython.core.display.HTML object>"
            ],
            "text/html": [
              " View run <strong style=\"color:#cdcd00\">epoch_21</strong> at: <a href='https://wandb.ai/dshan21-free-university-of-tbilisi-/TrainingHumanEmotionDetector_Adam/runs/z2e57ulb' target=\"_blank\">https://wandb.ai/dshan21-free-university-of-tbilisi-/TrainingHumanEmotionDetector_Adam/runs/z2e57ulb</a><br> View project at: <a href='https://wandb.ai/dshan21-free-university-of-tbilisi-/TrainingHumanEmotionDetector_Adam' target=\"_blank\">https://wandb.ai/dshan21-free-university-of-tbilisi-/TrainingHumanEmotionDetector_Adam</a><br>Synced 5 W&B file(s), 0 media file(s), 0 artifact file(s) and 0 other file(s)"
            ]
          },
          "metadata": {}
        },
        {
          "output_type": "display_data",
          "data": {
            "text/plain": [
              "<IPython.core.display.HTML object>"
            ],
            "text/html": [
              "Find logs at: <code>./wandb/run-20250607_112312-z2e57ulb/logs</code>"
            ]
          },
          "metadata": {}
        },
        {
          "output_type": "display_data",
          "data": {
            "text/plain": [
              "<IPython.core.display.HTML object>"
            ],
            "text/html": [
              "Tracking run with wandb version 0.20.1"
            ]
          },
          "metadata": {}
        },
        {
          "output_type": "display_data",
          "data": {
            "text/plain": [
              "<IPython.core.display.HTML object>"
            ],
            "text/html": [
              "Run data is saved locally in <code>/content/wandb/run-20250607_112326-ca4a8aar</code>"
            ]
          },
          "metadata": {}
        },
        {
          "output_type": "display_data",
          "data": {
            "text/plain": [
              "<IPython.core.display.HTML object>"
            ],
            "text/html": [
              "Syncing run <strong><a href='https://wandb.ai/dshan21-free-university-of-tbilisi-/TrainingHumanEmotionDetector_Adam/runs/ca4a8aar' target=\"_blank\">epoch_22</a></strong> to <a href='https://wandb.ai/dshan21-free-university-of-tbilisi-/TrainingHumanEmotionDetector_Adam' target=\"_blank\">Weights & Biases</a> (<a href='https://wandb.me/developer-guide' target=\"_blank\">docs</a>)<br>"
            ]
          },
          "metadata": {}
        },
        {
          "output_type": "display_data",
          "data": {
            "text/plain": [
              "<IPython.core.display.HTML object>"
            ],
            "text/html": [
              " View project at <a href='https://wandb.ai/dshan21-free-university-of-tbilisi-/TrainingHumanEmotionDetector_Adam' target=\"_blank\">https://wandb.ai/dshan21-free-university-of-tbilisi-/TrainingHumanEmotionDetector_Adam</a>"
            ]
          },
          "metadata": {}
        },
        {
          "output_type": "display_data",
          "data": {
            "text/plain": [
              "<IPython.core.display.HTML object>"
            ],
            "text/html": [
              " View run at <a href='https://wandb.ai/dshan21-free-university-of-tbilisi-/TrainingHumanEmotionDetector_Adam/runs/ca4a8aar' target=\"_blank\">https://wandb.ai/dshan21-free-university-of-tbilisi-/TrainingHumanEmotionDetector_Adam/runs/ca4a8aar</a>"
            ]
          },
          "metadata": {}
        },
        {
          "output_type": "stream",
          "name": "stdout",
          "text": [
            "Epoch 23/30, Train Loss: 17.1231 Train Accuracy 54.8613\n",
            "              Validation Loss: 2.2731 Validation Accuracy: 52.8387\n",
            "=========================\n"
          ]
        },
        {
          "output_type": "display_data",
          "data": {
            "text/plain": [
              "<IPython.core.display.HTML object>"
            ],
            "text/html": []
          },
          "metadata": {}
        },
        {
          "output_type": "display_data",
          "data": {
            "text/plain": [
              "<IPython.core.display.HTML object>"
            ],
            "text/html": [
              "<br>    <style><br>        .wandb-row {<br>            display: flex;<br>            flex-direction: row;<br>            flex-wrap: wrap;<br>            justify-content: flex-start;<br>            width: 100%;<br>        }<br>        .wandb-col {<br>            display: flex;<br>            flex-direction: column;<br>            flex-basis: 100%;<br>            flex: 1;<br>            padding: 10px;<br>        }<br>    </style><br><div class=\"wandb-row\"><div class=\"wandb-col\"><h3>Run history:</h3><br/><table class=\"wandb\"><tr><td>Train Accuracy</td><td>▁</td></tr><tr><td>Train_Loss</td><td>▁</td></tr><tr><td>Validation Accuracy</td><td>▁</td></tr><tr><td>Validation_Loss</td><td>▁</td></tr><tr><td>dropout_rate</td><td>▁</td></tr></table><br/></div><div class=\"wandb-col\"><h3>Run summary:</h3><br/><table class=\"wandb\"><tr><td>Train Accuracy</td><td>54.8613</td></tr><tr><td>Train_Loss</td><td>17.1231</td></tr><tr><td>Validation Accuracy</td><td>52.8387</td></tr><tr><td>Validation_Loss</td><td>2.2731</td></tr><tr><td>dropout_rate</td><td>0.4</td></tr></table><br/></div></div>"
            ]
          },
          "metadata": {}
        },
        {
          "output_type": "display_data",
          "data": {
            "text/plain": [
              "<IPython.core.display.HTML object>"
            ],
            "text/html": [
              " View run <strong style=\"color:#cdcd00\">epoch_22</strong> at: <a href='https://wandb.ai/dshan21-free-university-of-tbilisi-/TrainingHumanEmotionDetector_Adam/runs/ca4a8aar' target=\"_blank\">https://wandb.ai/dshan21-free-university-of-tbilisi-/TrainingHumanEmotionDetector_Adam/runs/ca4a8aar</a><br> View project at: <a href='https://wandb.ai/dshan21-free-university-of-tbilisi-/TrainingHumanEmotionDetector_Adam' target=\"_blank\">https://wandb.ai/dshan21-free-university-of-tbilisi-/TrainingHumanEmotionDetector_Adam</a><br>Synced 5 W&B file(s), 0 media file(s), 0 artifact file(s) and 0 other file(s)"
            ]
          },
          "metadata": {}
        },
        {
          "output_type": "display_data",
          "data": {
            "text/plain": [
              "<IPython.core.display.HTML object>"
            ],
            "text/html": [
              "Find logs at: <code>./wandb/run-20250607_112326-ca4a8aar/logs</code>"
            ]
          },
          "metadata": {}
        },
        {
          "output_type": "display_data",
          "data": {
            "text/plain": [
              "<IPython.core.display.HTML object>"
            ],
            "text/html": [
              "Tracking run with wandb version 0.20.1"
            ]
          },
          "metadata": {}
        },
        {
          "output_type": "display_data",
          "data": {
            "text/plain": [
              "<IPython.core.display.HTML object>"
            ],
            "text/html": [
              "Run data is saved locally in <code>/content/wandb/run-20250607_112339-6un9zj48</code>"
            ]
          },
          "metadata": {}
        },
        {
          "output_type": "display_data",
          "data": {
            "text/plain": [
              "<IPython.core.display.HTML object>"
            ],
            "text/html": [
              "Syncing run <strong><a href='https://wandb.ai/dshan21-free-university-of-tbilisi-/TrainingHumanEmotionDetector_Adam/runs/6un9zj48' target=\"_blank\">epoch_23</a></strong> to <a href='https://wandb.ai/dshan21-free-university-of-tbilisi-/TrainingHumanEmotionDetector_Adam' target=\"_blank\">Weights & Biases</a> (<a href='https://wandb.me/developer-guide' target=\"_blank\">docs</a>)<br>"
            ]
          },
          "metadata": {}
        },
        {
          "output_type": "display_data",
          "data": {
            "text/plain": [
              "<IPython.core.display.HTML object>"
            ],
            "text/html": [
              " View project at <a href='https://wandb.ai/dshan21-free-university-of-tbilisi-/TrainingHumanEmotionDetector_Adam' target=\"_blank\">https://wandb.ai/dshan21-free-university-of-tbilisi-/TrainingHumanEmotionDetector_Adam</a>"
            ]
          },
          "metadata": {}
        },
        {
          "output_type": "display_data",
          "data": {
            "text/plain": [
              "<IPython.core.display.HTML object>"
            ],
            "text/html": [
              " View run at <a href='https://wandb.ai/dshan21-free-university-of-tbilisi-/TrainingHumanEmotionDetector_Adam/runs/6un9zj48' target=\"_blank\">https://wandb.ai/dshan21-free-university-of-tbilisi-/TrainingHumanEmotionDetector_Adam/runs/6un9zj48</a>"
            ]
          },
          "metadata": {}
        },
        {
          "output_type": "stream",
          "name": "stdout",
          "text": [
            "Epoch 24/30, Train Loss: 16.8365 Train Accuracy 55.7278\n",
            "              Validation Loss: 2.298 Validation Accuracy: 52.8387\n",
            "=========================\n"
          ]
        },
        {
          "output_type": "display_data",
          "data": {
            "text/plain": [
              "<IPython.core.display.HTML object>"
            ],
            "text/html": []
          },
          "metadata": {}
        },
        {
          "output_type": "display_data",
          "data": {
            "text/plain": [
              "<IPython.core.display.HTML object>"
            ],
            "text/html": [
              "<br>    <style><br>        .wandb-row {<br>            display: flex;<br>            flex-direction: row;<br>            flex-wrap: wrap;<br>            justify-content: flex-start;<br>            width: 100%;<br>        }<br>        .wandb-col {<br>            display: flex;<br>            flex-direction: column;<br>            flex-basis: 100%;<br>            flex: 1;<br>            padding: 10px;<br>        }<br>    </style><br><div class=\"wandb-row\"><div class=\"wandb-col\"><h3>Run history:</h3><br/><table class=\"wandb\"><tr><td>Train Accuracy</td><td>▁</td></tr><tr><td>Train_Loss</td><td>▁</td></tr><tr><td>Validation Accuracy</td><td>▁</td></tr><tr><td>Validation_Loss</td><td>▁</td></tr><tr><td>dropout_rate</td><td>▁</td></tr></table><br/></div><div class=\"wandb-col\"><h3>Run summary:</h3><br/><table class=\"wandb\"><tr><td>Train Accuracy</td><td>55.7278</td></tr><tr><td>Train_Loss</td><td>16.8365</td></tr><tr><td>Validation Accuracy</td><td>52.8387</td></tr><tr><td>Validation_Loss</td><td>2.298</td></tr><tr><td>dropout_rate</td><td>0.4</td></tr></table><br/></div></div>"
            ]
          },
          "metadata": {}
        },
        {
          "output_type": "display_data",
          "data": {
            "text/plain": [
              "<IPython.core.display.HTML object>"
            ],
            "text/html": [
              " View run <strong style=\"color:#cdcd00\">epoch_23</strong> at: <a href='https://wandb.ai/dshan21-free-university-of-tbilisi-/TrainingHumanEmotionDetector_Adam/runs/6un9zj48' target=\"_blank\">https://wandb.ai/dshan21-free-university-of-tbilisi-/TrainingHumanEmotionDetector_Adam/runs/6un9zj48</a><br> View project at: <a href='https://wandb.ai/dshan21-free-university-of-tbilisi-/TrainingHumanEmotionDetector_Adam' target=\"_blank\">https://wandb.ai/dshan21-free-university-of-tbilisi-/TrainingHumanEmotionDetector_Adam</a><br>Synced 5 W&B file(s), 0 media file(s), 0 artifact file(s) and 0 other file(s)"
            ]
          },
          "metadata": {}
        },
        {
          "output_type": "display_data",
          "data": {
            "text/plain": [
              "<IPython.core.display.HTML object>"
            ],
            "text/html": [
              "Find logs at: <code>./wandb/run-20250607_112339-6un9zj48/logs</code>"
            ]
          },
          "metadata": {}
        },
        {
          "output_type": "display_data",
          "data": {
            "text/plain": [
              "<IPython.core.display.HTML object>"
            ],
            "text/html": [
              "Tracking run with wandb version 0.20.1"
            ]
          },
          "metadata": {}
        },
        {
          "output_type": "display_data",
          "data": {
            "text/plain": [
              "<IPython.core.display.HTML object>"
            ],
            "text/html": [
              "Run data is saved locally in <code>/content/wandb/run-20250607_112352-bc5fuv2t</code>"
            ]
          },
          "metadata": {}
        },
        {
          "output_type": "display_data",
          "data": {
            "text/plain": [
              "<IPython.core.display.HTML object>"
            ],
            "text/html": [
              "Syncing run <strong><a href='https://wandb.ai/dshan21-free-university-of-tbilisi-/TrainingHumanEmotionDetector_Adam/runs/bc5fuv2t' target=\"_blank\">epoch_24</a></strong> to <a href='https://wandb.ai/dshan21-free-university-of-tbilisi-/TrainingHumanEmotionDetector_Adam' target=\"_blank\">Weights & Biases</a> (<a href='https://wandb.me/developer-guide' target=\"_blank\">docs</a>)<br>"
            ]
          },
          "metadata": {}
        },
        {
          "output_type": "display_data",
          "data": {
            "text/plain": [
              "<IPython.core.display.HTML object>"
            ],
            "text/html": [
              " View project at <a href='https://wandb.ai/dshan21-free-university-of-tbilisi-/TrainingHumanEmotionDetector_Adam' target=\"_blank\">https://wandb.ai/dshan21-free-university-of-tbilisi-/TrainingHumanEmotionDetector_Adam</a>"
            ]
          },
          "metadata": {}
        },
        {
          "output_type": "display_data",
          "data": {
            "text/plain": [
              "<IPython.core.display.HTML object>"
            ],
            "text/html": [
              " View run at <a href='https://wandb.ai/dshan21-free-university-of-tbilisi-/TrainingHumanEmotionDetector_Adam/runs/bc5fuv2t' target=\"_blank\">https://wandb.ai/dshan21-free-university-of-tbilisi-/TrainingHumanEmotionDetector_Adam/runs/bc5fuv2t</a>"
            ]
          },
          "metadata": {}
        },
        {
          "output_type": "stream",
          "name": "stdout",
          "text": [
            "Epoch 25/30, Train Loss: 16.8048 Train Accuracy 55.9847\n",
            "              Validation Loss: 2.276 Validation Accuracy: 52.9084\n",
            "=========================\n"
          ]
        },
        {
          "output_type": "display_data",
          "data": {
            "text/plain": [
              "<IPython.core.display.HTML object>"
            ],
            "text/html": []
          },
          "metadata": {}
        },
        {
          "output_type": "display_data",
          "data": {
            "text/plain": [
              "<IPython.core.display.HTML object>"
            ],
            "text/html": [
              "<br>    <style><br>        .wandb-row {<br>            display: flex;<br>            flex-direction: row;<br>            flex-wrap: wrap;<br>            justify-content: flex-start;<br>            width: 100%;<br>        }<br>        .wandb-col {<br>            display: flex;<br>            flex-direction: column;<br>            flex-basis: 100%;<br>            flex: 1;<br>            padding: 10px;<br>        }<br>    </style><br><div class=\"wandb-row\"><div class=\"wandb-col\"><h3>Run history:</h3><br/><table class=\"wandb\"><tr><td>Train Accuracy</td><td>▁</td></tr><tr><td>Train_Loss</td><td>▁</td></tr><tr><td>Validation Accuracy</td><td>▁</td></tr><tr><td>Validation_Loss</td><td>▁</td></tr><tr><td>dropout_rate</td><td>▁</td></tr></table><br/></div><div class=\"wandb-col\"><h3>Run summary:</h3><br/><table class=\"wandb\"><tr><td>Train Accuracy</td><td>55.9847</td></tr><tr><td>Train_Loss</td><td>16.8048</td></tr><tr><td>Validation Accuracy</td><td>52.9084</td></tr><tr><td>Validation_Loss</td><td>2.276</td></tr><tr><td>dropout_rate</td><td>0.4</td></tr></table><br/></div></div>"
            ]
          },
          "metadata": {}
        },
        {
          "output_type": "display_data",
          "data": {
            "text/plain": [
              "<IPython.core.display.HTML object>"
            ],
            "text/html": [
              " View run <strong style=\"color:#cdcd00\">epoch_24</strong> at: <a href='https://wandb.ai/dshan21-free-university-of-tbilisi-/TrainingHumanEmotionDetector_Adam/runs/bc5fuv2t' target=\"_blank\">https://wandb.ai/dshan21-free-university-of-tbilisi-/TrainingHumanEmotionDetector_Adam/runs/bc5fuv2t</a><br> View project at: <a href='https://wandb.ai/dshan21-free-university-of-tbilisi-/TrainingHumanEmotionDetector_Adam' target=\"_blank\">https://wandb.ai/dshan21-free-university-of-tbilisi-/TrainingHumanEmotionDetector_Adam</a><br>Synced 5 W&B file(s), 0 media file(s), 0 artifact file(s) and 0 other file(s)"
            ]
          },
          "metadata": {}
        },
        {
          "output_type": "display_data",
          "data": {
            "text/plain": [
              "<IPython.core.display.HTML object>"
            ],
            "text/html": [
              "Find logs at: <code>./wandb/run-20250607_112352-bc5fuv2t/logs</code>"
            ]
          },
          "metadata": {}
        },
        {
          "output_type": "display_data",
          "data": {
            "text/plain": [
              "<IPython.core.display.HTML object>"
            ],
            "text/html": [
              "Tracking run with wandb version 0.20.1"
            ]
          },
          "metadata": {}
        },
        {
          "output_type": "display_data",
          "data": {
            "text/plain": [
              "<IPython.core.display.HTML object>"
            ],
            "text/html": [
              "Run data is saved locally in <code>/content/wandb/run-20250607_112406-ac9a8nqm</code>"
            ]
          },
          "metadata": {}
        },
        {
          "output_type": "display_data",
          "data": {
            "text/plain": [
              "<IPython.core.display.HTML object>"
            ],
            "text/html": [
              "Syncing run <strong><a href='https://wandb.ai/dshan21-free-university-of-tbilisi-/TrainingHumanEmotionDetector_Adam/runs/ac9a8nqm' target=\"_blank\">epoch_25</a></strong> to <a href='https://wandb.ai/dshan21-free-university-of-tbilisi-/TrainingHumanEmotionDetector_Adam' target=\"_blank\">Weights & Biases</a> (<a href='https://wandb.me/developer-guide' target=\"_blank\">docs</a>)<br>"
            ]
          },
          "metadata": {}
        },
        {
          "output_type": "display_data",
          "data": {
            "text/plain": [
              "<IPython.core.display.HTML object>"
            ],
            "text/html": [
              " View project at <a href='https://wandb.ai/dshan21-free-university-of-tbilisi-/TrainingHumanEmotionDetector_Adam' target=\"_blank\">https://wandb.ai/dshan21-free-university-of-tbilisi-/TrainingHumanEmotionDetector_Adam</a>"
            ]
          },
          "metadata": {}
        },
        {
          "output_type": "display_data",
          "data": {
            "text/plain": [
              "<IPython.core.display.HTML object>"
            ],
            "text/html": [
              " View run at <a href='https://wandb.ai/dshan21-free-university-of-tbilisi-/TrainingHumanEmotionDetector_Adam/runs/ac9a8nqm' target=\"_blank\">https://wandb.ai/dshan21-free-university-of-tbilisi-/TrainingHumanEmotionDetector_Adam/runs/ac9a8nqm</a>"
            ]
          },
          "metadata": {}
        },
        {
          "output_type": "stream",
          "name": "stdout",
          "text": [
            "Epoch 26/30, Train Loss: 16.6324 Train Accuracy 56.5855\n",
            "              Validation Loss: 2.2622 Validation Accuracy: 52.7342\n",
            "=========================\n"
          ]
        },
        {
          "output_type": "display_data",
          "data": {
            "text/plain": [
              "<IPython.core.display.HTML object>"
            ],
            "text/html": []
          },
          "metadata": {}
        },
        {
          "output_type": "display_data",
          "data": {
            "text/plain": [
              "<IPython.core.display.HTML object>"
            ],
            "text/html": [
              "<br>    <style><br>        .wandb-row {<br>            display: flex;<br>            flex-direction: row;<br>            flex-wrap: wrap;<br>            justify-content: flex-start;<br>            width: 100%;<br>        }<br>        .wandb-col {<br>            display: flex;<br>            flex-direction: column;<br>            flex-basis: 100%;<br>            flex: 1;<br>            padding: 10px;<br>        }<br>    </style><br><div class=\"wandb-row\"><div class=\"wandb-col\"><h3>Run history:</h3><br/><table class=\"wandb\"><tr><td>Train Accuracy</td><td>▁</td></tr><tr><td>Train_Loss</td><td>▁</td></tr><tr><td>Validation Accuracy</td><td>▁</td></tr><tr><td>Validation_Loss</td><td>▁</td></tr><tr><td>dropout_rate</td><td>▁</td></tr></table><br/></div><div class=\"wandb-col\"><h3>Run summary:</h3><br/><table class=\"wandb\"><tr><td>Train Accuracy</td><td>56.5855</td></tr><tr><td>Train_Loss</td><td>16.6324</td></tr><tr><td>Validation Accuracy</td><td>52.7342</td></tr><tr><td>Validation_Loss</td><td>2.2622</td></tr><tr><td>dropout_rate</td><td>0.4</td></tr></table><br/></div></div>"
            ]
          },
          "metadata": {}
        },
        {
          "output_type": "display_data",
          "data": {
            "text/plain": [
              "<IPython.core.display.HTML object>"
            ],
            "text/html": [
              " View run <strong style=\"color:#cdcd00\">epoch_25</strong> at: <a href='https://wandb.ai/dshan21-free-university-of-tbilisi-/TrainingHumanEmotionDetector_Adam/runs/ac9a8nqm' target=\"_blank\">https://wandb.ai/dshan21-free-university-of-tbilisi-/TrainingHumanEmotionDetector_Adam/runs/ac9a8nqm</a><br> View project at: <a href='https://wandb.ai/dshan21-free-university-of-tbilisi-/TrainingHumanEmotionDetector_Adam' target=\"_blank\">https://wandb.ai/dshan21-free-university-of-tbilisi-/TrainingHumanEmotionDetector_Adam</a><br>Synced 5 W&B file(s), 0 media file(s), 0 artifact file(s) and 0 other file(s)"
            ]
          },
          "metadata": {}
        },
        {
          "output_type": "display_data",
          "data": {
            "text/plain": [
              "<IPython.core.display.HTML object>"
            ],
            "text/html": [
              "Find logs at: <code>./wandb/run-20250607_112406-ac9a8nqm/logs</code>"
            ]
          },
          "metadata": {}
        },
        {
          "output_type": "display_data",
          "data": {
            "text/plain": [
              "<IPython.core.display.HTML object>"
            ],
            "text/html": [
              "Tracking run with wandb version 0.20.1"
            ]
          },
          "metadata": {}
        },
        {
          "output_type": "display_data",
          "data": {
            "text/plain": [
              "<IPython.core.display.HTML object>"
            ],
            "text/html": [
              "Run data is saved locally in <code>/content/wandb/run-20250607_112420-4mgaualq</code>"
            ]
          },
          "metadata": {}
        },
        {
          "output_type": "display_data",
          "data": {
            "text/plain": [
              "<IPython.core.display.HTML object>"
            ],
            "text/html": [
              "Syncing run <strong><a href='https://wandb.ai/dshan21-free-university-of-tbilisi-/TrainingHumanEmotionDetector_Adam/runs/4mgaualq' target=\"_blank\">epoch_26</a></strong> to <a href='https://wandb.ai/dshan21-free-university-of-tbilisi-/TrainingHumanEmotionDetector_Adam' target=\"_blank\">Weights & Biases</a> (<a href='https://wandb.me/developer-guide' target=\"_blank\">docs</a>)<br>"
            ]
          },
          "metadata": {}
        },
        {
          "output_type": "display_data",
          "data": {
            "text/plain": [
              "<IPython.core.display.HTML object>"
            ],
            "text/html": [
              " View project at <a href='https://wandb.ai/dshan21-free-university-of-tbilisi-/TrainingHumanEmotionDetector_Adam' target=\"_blank\">https://wandb.ai/dshan21-free-university-of-tbilisi-/TrainingHumanEmotionDetector_Adam</a>"
            ]
          },
          "metadata": {}
        },
        {
          "output_type": "display_data",
          "data": {
            "text/plain": [
              "<IPython.core.display.HTML object>"
            ],
            "text/html": [
              " View run at <a href='https://wandb.ai/dshan21-free-university-of-tbilisi-/TrainingHumanEmotionDetector_Adam/runs/4mgaualq' target=\"_blank\">https://wandb.ai/dshan21-free-university-of-tbilisi-/TrainingHumanEmotionDetector_Adam/runs/4mgaualq</a>"
            ]
          },
          "metadata": {}
        },
        {
          "output_type": "stream",
          "name": "stdout",
          "text": [
            "Epoch 27/30, Train Loss: 16.6171 Train Accuracy 56.3243\n",
            "              Validation Loss: 2.2414 Validation Accuracy: 54.1971\n",
            "=========================\n"
          ]
        },
        {
          "output_type": "display_data",
          "data": {
            "text/plain": [
              "<IPython.core.display.HTML object>"
            ],
            "text/html": []
          },
          "metadata": {}
        },
        {
          "output_type": "display_data",
          "data": {
            "text/plain": [
              "<IPython.core.display.HTML object>"
            ],
            "text/html": [
              "<br>    <style><br>        .wandb-row {<br>            display: flex;<br>            flex-direction: row;<br>            flex-wrap: wrap;<br>            justify-content: flex-start;<br>            width: 100%;<br>        }<br>        .wandb-col {<br>            display: flex;<br>            flex-direction: column;<br>            flex-basis: 100%;<br>            flex: 1;<br>            padding: 10px;<br>        }<br>    </style><br><div class=\"wandb-row\"><div class=\"wandb-col\"><h3>Run history:</h3><br/><table class=\"wandb\"><tr><td>Train Accuracy</td><td>▁</td></tr><tr><td>Train_Loss</td><td>▁</td></tr><tr><td>Validation Accuracy</td><td>▁</td></tr><tr><td>Validation_Loss</td><td>▁</td></tr><tr><td>dropout_rate</td><td>▁</td></tr></table><br/></div><div class=\"wandb-col\"><h3>Run summary:</h3><br/><table class=\"wandb\"><tr><td>Train Accuracy</td><td>56.3243</td></tr><tr><td>Train_Loss</td><td>16.6171</td></tr><tr><td>Validation Accuracy</td><td>54.1971</td></tr><tr><td>Validation_Loss</td><td>2.2414</td></tr><tr><td>dropout_rate</td><td>0.4</td></tr></table><br/></div></div>"
            ]
          },
          "metadata": {}
        },
        {
          "output_type": "display_data",
          "data": {
            "text/plain": [
              "<IPython.core.display.HTML object>"
            ],
            "text/html": [
              " View run <strong style=\"color:#cdcd00\">epoch_26</strong> at: <a href='https://wandb.ai/dshan21-free-university-of-tbilisi-/TrainingHumanEmotionDetector_Adam/runs/4mgaualq' target=\"_blank\">https://wandb.ai/dshan21-free-university-of-tbilisi-/TrainingHumanEmotionDetector_Adam/runs/4mgaualq</a><br> View project at: <a href='https://wandb.ai/dshan21-free-university-of-tbilisi-/TrainingHumanEmotionDetector_Adam' target=\"_blank\">https://wandb.ai/dshan21-free-university-of-tbilisi-/TrainingHumanEmotionDetector_Adam</a><br>Synced 5 W&B file(s), 0 media file(s), 0 artifact file(s) and 0 other file(s)"
            ]
          },
          "metadata": {}
        },
        {
          "output_type": "display_data",
          "data": {
            "text/plain": [
              "<IPython.core.display.HTML object>"
            ],
            "text/html": [
              "Find logs at: <code>./wandb/run-20250607_112420-4mgaualq/logs</code>"
            ]
          },
          "metadata": {}
        },
        {
          "output_type": "display_data",
          "data": {
            "text/plain": [
              "<IPython.core.display.HTML object>"
            ],
            "text/html": [
              "Tracking run with wandb version 0.20.1"
            ]
          },
          "metadata": {}
        },
        {
          "output_type": "display_data",
          "data": {
            "text/plain": [
              "<IPython.core.display.HTML object>"
            ],
            "text/html": [
              "Run data is saved locally in <code>/content/wandb/run-20250607_112432-qt3insn4</code>"
            ]
          },
          "metadata": {}
        },
        {
          "output_type": "display_data",
          "data": {
            "text/plain": [
              "<IPython.core.display.HTML object>"
            ],
            "text/html": [
              "Syncing run <strong><a href='https://wandb.ai/dshan21-free-university-of-tbilisi-/TrainingHumanEmotionDetector_Adam/runs/qt3insn4' target=\"_blank\">epoch_27</a></strong> to <a href='https://wandb.ai/dshan21-free-university-of-tbilisi-/TrainingHumanEmotionDetector_Adam' target=\"_blank\">Weights & Biases</a> (<a href='https://wandb.me/developer-guide' target=\"_blank\">docs</a>)<br>"
            ]
          },
          "metadata": {}
        },
        {
          "output_type": "display_data",
          "data": {
            "text/plain": [
              "<IPython.core.display.HTML object>"
            ],
            "text/html": [
              " View project at <a href='https://wandb.ai/dshan21-free-university-of-tbilisi-/TrainingHumanEmotionDetector_Adam' target=\"_blank\">https://wandb.ai/dshan21-free-university-of-tbilisi-/TrainingHumanEmotionDetector_Adam</a>"
            ]
          },
          "metadata": {}
        },
        {
          "output_type": "display_data",
          "data": {
            "text/plain": [
              "<IPython.core.display.HTML object>"
            ],
            "text/html": [
              " View run at <a href='https://wandb.ai/dshan21-free-university-of-tbilisi-/TrainingHumanEmotionDetector_Adam/runs/qt3insn4' target=\"_blank\">https://wandb.ai/dshan21-free-university-of-tbilisi-/TrainingHumanEmotionDetector_Adam/runs/qt3insn4</a>"
            ]
          },
          "metadata": {}
        },
        {
          "output_type": "stream",
          "name": "stdout",
          "text": [
            "Epoch 28/30, Train Loss: 16.4842 Train Accuracy 57.0601\n",
            "              Validation Loss: 2.2251 Validation Accuracy: 53.1522\n",
            "=========================\n"
          ]
        },
        {
          "output_type": "display_data",
          "data": {
            "text/plain": [
              "<IPython.core.display.HTML object>"
            ],
            "text/html": []
          },
          "metadata": {}
        },
        {
          "output_type": "display_data",
          "data": {
            "text/plain": [
              "<IPython.core.display.HTML object>"
            ],
            "text/html": [
              "<br>    <style><br>        .wandb-row {<br>            display: flex;<br>            flex-direction: row;<br>            flex-wrap: wrap;<br>            justify-content: flex-start;<br>            width: 100%;<br>        }<br>        .wandb-col {<br>            display: flex;<br>            flex-direction: column;<br>            flex-basis: 100%;<br>            flex: 1;<br>            padding: 10px;<br>        }<br>    </style><br><div class=\"wandb-row\"><div class=\"wandb-col\"><h3>Run history:</h3><br/><table class=\"wandb\"><tr><td>Train Accuracy</td><td>▁</td></tr><tr><td>Train_Loss</td><td>▁</td></tr><tr><td>Validation Accuracy</td><td>▁</td></tr><tr><td>Validation_Loss</td><td>▁</td></tr><tr><td>dropout_rate</td><td>▁</td></tr></table><br/></div><div class=\"wandb-col\"><h3>Run summary:</h3><br/><table class=\"wandb\"><tr><td>Train Accuracy</td><td>57.0601</td></tr><tr><td>Train_Loss</td><td>16.4842</td></tr><tr><td>Validation Accuracy</td><td>53.1522</td></tr><tr><td>Validation_Loss</td><td>2.2251</td></tr><tr><td>dropout_rate</td><td>0.4</td></tr></table><br/></div></div>"
            ]
          },
          "metadata": {}
        },
        {
          "output_type": "display_data",
          "data": {
            "text/plain": [
              "<IPython.core.display.HTML object>"
            ],
            "text/html": [
              " View run <strong style=\"color:#cdcd00\">epoch_27</strong> at: <a href='https://wandb.ai/dshan21-free-university-of-tbilisi-/TrainingHumanEmotionDetector_Adam/runs/qt3insn4' target=\"_blank\">https://wandb.ai/dshan21-free-university-of-tbilisi-/TrainingHumanEmotionDetector_Adam/runs/qt3insn4</a><br> View project at: <a href='https://wandb.ai/dshan21-free-university-of-tbilisi-/TrainingHumanEmotionDetector_Adam' target=\"_blank\">https://wandb.ai/dshan21-free-university-of-tbilisi-/TrainingHumanEmotionDetector_Adam</a><br>Synced 5 W&B file(s), 0 media file(s), 0 artifact file(s) and 0 other file(s)"
            ]
          },
          "metadata": {}
        },
        {
          "output_type": "display_data",
          "data": {
            "text/plain": [
              "<IPython.core.display.HTML object>"
            ],
            "text/html": [
              "Find logs at: <code>./wandb/run-20250607_112432-qt3insn4/logs</code>"
            ]
          },
          "metadata": {}
        },
        {
          "output_type": "display_data",
          "data": {
            "text/plain": [
              "<IPython.core.display.HTML object>"
            ],
            "text/html": [
              "Tracking run with wandb version 0.20.1"
            ]
          },
          "metadata": {}
        },
        {
          "output_type": "display_data",
          "data": {
            "text/plain": [
              "<IPython.core.display.HTML object>"
            ],
            "text/html": [
              "Run data is saved locally in <code>/content/wandb/run-20250607_112445-m83eawi8</code>"
            ]
          },
          "metadata": {}
        },
        {
          "output_type": "display_data",
          "data": {
            "text/plain": [
              "<IPython.core.display.HTML object>"
            ],
            "text/html": [
              "Syncing run <strong><a href='https://wandb.ai/dshan21-free-university-of-tbilisi-/TrainingHumanEmotionDetector_Adam/runs/m83eawi8' target=\"_blank\">epoch_28</a></strong> to <a href='https://wandb.ai/dshan21-free-university-of-tbilisi-/TrainingHumanEmotionDetector_Adam' target=\"_blank\">Weights & Biases</a> (<a href='https://wandb.me/developer-guide' target=\"_blank\">docs</a>)<br>"
            ]
          },
          "metadata": {}
        },
        {
          "output_type": "display_data",
          "data": {
            "text/plain": [
              "<IPython.core.display.HTML object>"
            ],
            "text/html": [
              " View project at <a href='https://wandb.ai/dshan21-free-university-of-tbilisi-/TrainingHumanEmotionDetector_Adam' target=\"_blank\">https://wandb.ai/dshan21-free-university-of-tbilisi-/TrainingHumanEmotionDetector_Adam</a>"
            ]
          },
          "metadata": {}
        },
        {
          "output_type": "display_data",
          "data": {
            "text/plain": [
              "<IPython.core.display.HTML object>"
            ],
            "text/html": [
              " View run at <a href='https://wandb.ai/dshan21-free-university-of-tbilisi-/TrainingHumanEmotionDetector_Adam/runs/m83eawi8' target=\"_blank\">https://wandb.ai/dshan21-free-university-of-tbilisi-/TrainingHumanEmotionDetector_Adam/runs/m83eawi8</a>"
            ]
          },
          "metadata": {}
        },
        {
          "output_type": "stream",
          "name": "stdout",
          "text": [
            "Epoch 29/30, Train Loss: 16.3375 Train Accuracy 56.886\n",
            "              Validation Loss: 2.3303 Validation Accuracy: 52.6646\n",
            "=========================\n"
          ]
        },
        {
          "output_type": "display_data",
          "data": {
            "text/plain": [
              "<IPython.core.display.HTML object>"
            ],
            "text/html": []
          },
          "metadata": {}
        },
        {
          "output_type": "display_data",
          "data": {
            "text/plain": [
              "<IPython.core.display.HTML object>"
            ],
            "text/html": [
              "<br>    <style><br>        .wandb-row {<br>            display: flex;<br>            flex-direction: row;<br>            flex-wrap: wrap;<br>            justify-content: flex-start;<br>            width: 100%;<br>        }<br>        .wandb-col {<br>            display: flex;<br>            flex-direction: column;<br>            flex-basis: 100%;<br>            flex: 1;<br>            padding: 10px;<br>        }<br>    </style><br><div class=\"wandb-row\"><div class=\"wandb-col\"><h3>Run history:</h3><br/><table class=\"wandb\"><tr><td>Train Accuracy</td><td>▁</td></tr><tr><td>Train_Loss</td><td>▁</td></tr><tr><td>Validation Accuracy</td><td>▁</td></tr><tr><td>Validation_Loss</td><td>▁</td></tr><tr><td>dropout_rate</td><td>▁</td></tr></table><br/></div><div class=\"wandb-col\"><h3>Run summary:</h3><br/><table class=\"wandb\"><tr><td>Train Accuracy</td><td>56.886</td></tr><tr><td>Train_Loss</td><td>16.3375</td></tr><tr><td>Validation Accuracy</td><td>52.6646</td></tr><tr><td>Validation_Loss</td><td>2.3303</td></tr><tr><td>dropout_rate</td><td>0.4</td></tr></table><br/></div></div>"
            ]
          },
          "metadata": {}
        },
        {
          "output_type": "display_data",
          "data": {
            "text/plain": [
              "<IPython.core.display.HTML object>"
            ],
            "text/html": [
              " View run <strong style=\"color:#cdcd00\">epoch_28</strong> at: <a href='https://wandb.ai/dshan21-free-university-of-tbilisi-/TrainingHumanEmotionDetector_Adam/runs/m83eawi8' target=\"_blank\">https://wandb.ai/dshan21-free-university-of-tbilisi-/TrainingHumanEmotionDetector_Adam/runs/m83eawi8</a><br> View project at: <a href='https://wandb.ai/dshan21-free-university-of-tbilisi-/TrainingHumanEmotionDetector_Adam' target=\"_blank\">https://wandb.ai/dshan21-free-university-of-tbilisi-/TrainingHumanEmotionDetector_Adam</a><br>Synced 5 W&B file(s), 0 media file(s), 0 artifact file(s) and 0 other file(s)"
            ]
          },
          "metadata": {}
        },
        {
          "output_type": "display_data",
          "data": {
            "text/plain": [
              "<IPython.core.display.HTML object>"
            ],
            "text/html": [
              "Find logs at: <code>./wandb/run-20250607_112445-m83eawi8/logs</code>"
            ]
          },
          "metadata": {}
        },
        {
          "output_type": "display_data",
          "data": {
            "text/plain": [
              "<IPython.core.display.HTML object>"
            ],
            "text/html": [
              "Tracking run with wandb version 0.20.1"
            ]
          },
          "metadata": {}
        },
        {
          "output_type": "display_data",
          "data": {
            "text/plain": [
              "<IPython.core.display.HTML object>"
            ],
            "text/html": [
              "Run data is saved locally in <code>/content/wandb/run-20250607_112458-4229k1m4</code>"
            ]
          },
          "metadata": {}
        },
        {
          "output_type": "display_data",
          "data": {
            "text/plain": [
              "<IPython.core.display.HTML object>"
            ],
            "text/html": [
              "Syncing run <strong><a href='https://wandb.ai/dshan21-free-university-of-tbilisi-/TrainingHumanEmotionDetector_Adam/runs/4229k1m4' target=\"_blank\">epoch_29</a></strong> to <a href='https://wandb.ai/dshan21-free-university-of-tbilisi-/TrainingHumanEmotionDetector_Adam' target=\"_blank\">Weights & Biases</a> (<a href='https://wandb.me/developer-guide' target=\"_blank\">docs</a>)<br>"
            ]
          },
          "metadata": {}
        },
        {
          "output_type": "display_data",
          "data": {
            "text/plain": [
              "<IPython.core.display.HTML object>"
            ],
            "text/html": [
              " View project at <a href='https://wandb.ai/dshan21-free-university-of-tbilisi-/TrainingHumanEmotionDetector_Adam' target=\"_blank\">https://wandb.ai/dshan21-free-university-of-tbilisi-/TrainingHumanEmotionDetector_Adam</a>"
            ]
          },
          "metadata": {}
        },
        {
          "output_type": "display_data",
          "data": {
            "text/plain": [
              "<IPython.core.display.HTML object>"
            ],
            "text/html": [
              " View run at <a href='https://wandb.ai/dshan21-free-university-of-tbilisi-/TrainingHumanEmotionDetector_Adam/runs/4229k1m4' target=\"_blank\">https://wandb.ai/dshan21-free-university-of-tbilisi-/TrainingHumanEmotionDetector_Adam/runs/4229k1m4</a>"
            ]
          },
          "metadata": {}
        },
        {
          "output_type": "stream",
          "name": "stdout",
          "text": [
            "Epoch 30/30, Train Loss: 16.3833 Train Accuracy 57.1298\n",
            "              Validation Loss: 2.2759 Validation Accuracy: 52.9432\n",
            "=========================\n"
          ]
        },
        {
          "output_type": "display_data",
          "data": {
            "text/plain": [
              "<IPython.core.display.HTML object>"
            ],
            "text/html": []
          },
          "metadata": {}
        },
        {
          "output_type": "display_data",
          "data": {
            "text/plain": [
              "<IPython.core.display.HTML object>"
            ],
            "text/html": [
              "<br>    <style><br>        .wandb-row {<br>            display: flex;<br>            flex-direction: row;<br>            flex-wrap: wrap;<br>            justify-content: flex-start;<br>            width: 100%;<br>        }<br>        .wandb-col {<br>            display: flex;<br>            flex-direction: column;<br>            flex-basis: 100%;<br>            flex: 1;<br>            padding: 10px;<br>        }<br>    </style><br><div class=\"wandb-row\"><div class=\"wandb-col\"><h3>Run history:</h3><br/><table class=\"wandb\"><tr><td>Train Accuracy</td><td>▁</td></tr><tr><td>Train_Loss</td><td>▁</td></tr><tr><td>Validation Accuracy</td><td>▁</td></tr><tr><td>Validation_Loss</td><td>▁</td></tr><tr><td>dropout_rate</td><td>▁</td></tr></table><br/></div><div class=\"wandb-col\"><h3>Run summary:</h3><br/><table class=\"wandb\"><tr><td>Train Accuracy</td><td>57.1298</td></tr><tr><td>Train_Loss</td><td>16.3833</td></tr><tr><td>Validation Accuracy</td><td>52.9432</td></tr><tr><td>Validation_Loss</td><td>2.2759</td></tr><tr><td>dropout_rate</td><td>0.4</td></tr></table><br/></div></div>"
            ]
          },
          "metadata": {}
        },
        {
          "output_type": "display_data",
          "data": {
            "text/plain": [
              "<IPython.core.display.HTML object>"
            ],
            "text/html": [
              " View run <strong style=\"color:#cdcd00\">epoch_29</strong> at: <a href='https://wandb.ai/dshan21-free-university-of-tbilisi-/TrainingHumanEmotionDetector_Adam/runs/4229k1m4' target=\"_blank\">https://wandb.ai/dshan21-free-university-of-tbilisi-/TrainingHumanEmotionDetector_Adam/runs/4229k1m4</a><br> View project at: <a href='https://wandb.ai/dshan21-free-university-of-tbilisi-/TrainingHumanEmotionDetector_Adam' target=\"_blank\">https://wandb.ai/dshan21-free-university-of-tbilisi-/TrainingHumanEmotionDetector_Adam</a><br>Synced 5 W&B file(s), 0 media file(s), 0 artifact file(s) and 0 other file(s)"
            ]
          },
          "metadata": {}
        },
        {
          "output_type": "display_data",
          "data": {
            "text/plain": [
              "<IPython.core.display.HTML object>"
            ],
            "text/html": [
              "Find logs at: <code>./wandb/run-20250607_112458-4229k1m4/logs</code>"
            ]
          },
          "metadata": {}
        }
      ]
    },
    {
      "cell_type": "markdown",
      "source": [
        "# 15. Testing\n",
        "Now in this section, we will be testing our model, we will start the code by with `torch.no_grad():` which means that we are telling PyTorch that we don't want to train the model we will be using it only for testing. Then we will declare initial loss and accuracy as zeros, we will start by looping through the testing dataloader like we did before during training. Inside the loop, we got our data and we moved it to our GPU (`cuda`) and then we ran our model on the data and we got the predictions. After that we get the loss and then we add it to our overall loss, we do the same for accuracy, and finally we print the accuracy."
      ],
      "metadata": {
        "id": "YqwKmHdIv3hm"
      }
    },
    {
      "cell_type": "code",
      "source": [
        "wandb.init(\n",
        "  project=\"TestingHumanEmotionDetector_\"+optimizer.__class__.__name__,\n",
        "  name=f\"TestRun\",\n",
        "  config={\n",
        "  \"LR\": LR,\n",
        "  \"batchSize\": BATCH_SIZE,\n",
        "  \"architecture\": \"CNN\",\n",
        "  \"optimizer\": optimizer.__class__.__name__,\n",
        "  \"criterion\": criterion.__class__.__name__,\n",
        "})\n",
        "\n",
        "with torch.no_grad():\n",
        "  total_loss_test = 0\n",
        "  total_acc_test = 0\n",
        "  for inputs, labels in test_loader:\n",
        "    inputs = inputs.cuda()\n",
        "    labels = labels.cuda()\n",
        "    predictions = model(inputs)\n",
        "\n",
        "    acc = (torch.argmax(predictions, axis = 1) == labels).sum().item()\n",
        "    total_acc_test += acc\n",
        "    test_loss = criterion(predictions, labels)\n",
        "    total_loss_test += test_loss.item()\n",
        "\n",
        "wandb.log({\"Accuracy_Score\": round((total_acc_test/test_dataset.__len__()) * 100, 4),\n",
        "            \"Loss\": round(total_loss_test/1000, 4)})\n",
        "wandb.finish()\n",
        "print(f\"Accuracy Score is: {round((total_acc_test/test_dataset.__len__()) * 100, 4)} and Loss is {round(total_loss_test/1000, 4)}\")"
      ],
      "metadata": {
        "id": "OGi1PMUCBJR0",
        "colab": {
          "base_uri": "https://localhost:8080/",
          "height": 465
        },
        "outputId": "d7cb3e62-195a-4f74-9058-b4b90a3ce846"
      },
      "execution_count": 334,
      "outputs": [
        {
          "output_type": "display_data",
          "data": {
            "text/plain": [
              "<IPython.core.display.HTML object>"
            ],
            "text/html": [
              "Tracking run with wandb version 0.20.1"
            ]
          },
          "metadata": {}
        },
        {
          "output_type": "display_data",
          "data": {
            "text/plain": [
              "<IPython.core.display.HTML object>"
            ],
            "text/html": [
              "Run data is saved locally in <code>/content/wandb/run-20250607_112510-pbhobuw3</code>"
            ]
          },
          "metadata": {}
        },
        {
          "output_type": "display_data",
          "data": {
            "text/plain": [
              "<IPython.core.display.HTML object>"
            ],
            "text/html": [
              "Syncing run <strong><a href='https://wandb.ai/dshan21-free-university-of-tbilisi-/TestingHumanEmotionDetector_Adam/runs/pbhobuw3' target=\"_blank\">TestRun</a></strong> to <a href='https://wandb.ai/dshan21-free-university-of-tbilisi-/TestingHumanEmotionDetector_Adam' target=\"_blank\">Weights & Biases</a> (<a href='https://wandb.me/developer-guide' target=\"_blank\">docs</a>)<br>"
            ]
          },
          "metadata": {}
        },
        {
          "output_type": "display_data",
          "data": {
            "text/plain": [
              "<IPython.core.display.HTML object>"
            ],
            "text/html": [
              " View project at <a href='https://wandb.ai/dshan21-free-university-of-tbilisi-/TestingHumanEmotionDetector_Adam' target=\"_blank\">https://wandb.ai/dshan21-free-university-of-tbilisi-/TestingHumanEmotionDetector_Adam</a>"
            ]
          },
          "metadata": {}
        },
        {
          "output_type": "display_data",
          "data": {
            "text/plain": [
              "<IPython.core.display.HTML object>"
            ],
            "text/html": [
              " View run at <a href='https://wandb.ai/dshan21-free-university-of-tbilisi-/TestingHumanEmotionDetector_Adam/runs/pbhobuw3' target=\"_blank\">https://wandb.ai/dshan21-free-university-of-tbilisi-/TestingHumanEmotionDetector_Adam/runs/pbhobuw3</a>"
            ]
          },
          "metadata": {}
        },
        {
          "output_type": "display_data",
          "data": {
            "text/plain": [
              "<IPython.core.display.HTML object>"
            ],
            "text/html": []
          },
          "metadata": {}
        },
        {
          "output_type": "display_data",
          "data": {
            "text/plain": [
              "<IPython.core.display.HTML object>"
            ],
            "text/html": [
              "<br>    <style><br>        .wandb-row {<br>            display: flex;<br>            flex-direction: row;<br>            flex-wrap: wrap;<br>            justify-content: flex-start;<br>            width: 100%;<br>        }<br>        .wandb-col {<br>            display: flex;<br>            flex-direction: column;<br>            flex-basis: 100%;<br>            flex: 1;<br>            padding: 10px;<br>        }<br>    </style><br><div class=\"wandb-row\"><div class=\"wandb-col\"><h3>Run history:</h3><br/><table class=\"wandb\"><tr><td>Accuracy_Score</td><td>▁</td></tr><tr><td>Loss</td><td>▁</td></tr></table><br/></div><div class=\"wandb-col\"><h3>Run summary:</h3><br/><table class=\"wandb\"><tr><td>Accuracy_Score</td><td>53.1522</td></tr><tr><td>Loss</td><td>0.2298</td></tr></table><br/></div></div>"
            ]
          },
          "metadata": {}
        },
        {
          "output_type": "display_data",
          "data": {
            "text/plain": [
              "<IPython.core.display.HTML object>"
            ],
            "text/html": [
              " View run <strong style=\"color:#cdcd00\">TestRun</strong> at: <a href='https://wandb.ai/dshan21-free-university-of-tbilisi-/TestingHumanEmotionDetector_Adam/runs/pbhobuw3' target=\"_blank\">https://wandb.ai/dshan21-free-university-of-tbilisi-/TestingHumanEmotionDetector_Adam/runs/pbhobuw3</a><br> View project at: <a href='https://wandb.ai/dshan21-free-university-of-tbilisi-/TestingHumanEmotionDetector_Adam' target=\"_blank\">https://wandb.ai/dshan21-free-university-of-tbilisi-/TestingHumanEmotionDetector_Adam</a><br>Synced 5 W&B file(s), 0 media file(s), 0 artifact file(s) and 0 other file(s)"
            ]
          },
          "metadata": {}
        },
        {
          "output_type": "display_data",
          "data": {
            "text/plain": [
              "<IPython.core.display.HTML object>"
            ],
            "text/html": [
              "Find logs at: <code>./wandb/run-20250607_112510-pbhobuw3/logs</code>"
            ]
          },
          "metadata": {}
        },
        {
          "output_type": "stream",
          "name": "stdout",
          "text": [
            "Accuracy Score is: 53.1522 and Loss is 0.2298\n"
          ]
        }
      ]
    },
    {
      "cell_type": "markdown",
      "source": [
        "# 16. Plotting Training Progress\n",
        "Let's plot the training and validation progress through out the `EPOCHS`. The results may not be very good, feel free to play with the layers, hyperparameters and text filteration to achieve better performance!\n"
      ],
      "metadata": {
        "id": "Bg-cZwbAv5q4"
      }
    },
    {
      "cell_type": "code",
      "source": [
        "fig, axs = plt.subplots(nrows=1, ncols=2, figsize=(15, 5))\n",
        "\n",
        "axs[0].plot(total_loss_train_plot, label='Training Loss')\n",
        "axs[0].plot(total_loss_validation_plot, label='Validation Loss')\n",
        "axs[0].set_title('Training and Validation Loss over Epochs')\n",
        "axs[0].set_xlabel('Epochs')\n",
        "axs[0].set_ylabel('Loss')\n",
        "axs[0].legend()\n",
        "\n",
        "axs[1].plot(total_acc_train_plot, label='Training Accuracy')\n",
        "axs[1].plot(total_acc_validation_plot, label='Validation Accuracy')\n",
        "axs[1].set_title('Training and Validation Accuracy over Epochs')\n",
        "axs[1].set_xlabel('Epochs')\n",
        "axs[1].set_ylabel('Accuracy')\n",
        "axs[1].legend()\n",
        "\n",
        "plt.tight_layout()\n",
        "\n",
        "plt.show()"
      ],
      "metadata": {
        "id": "8EDIakLQSzYI",
        "colab": {
          "base_uri": "https://localhost:8080/",
          "height": 507
        },
        "outputId": "d45fa8ce-cc30-4e1d-b0d8-c8edaff212ba"
      },
      "execution_count": 335,
      "outputs": [
        {
          "output_type": "display_data",
          "data": {
            "text/plain": [
              "<Figure size 1500x500 with 2 Axes>"
            ],
            "image/png": "[encoded data removed]"
          },
          "metadata": {}
        }
      ]
    }
  ]
}